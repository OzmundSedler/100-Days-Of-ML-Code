{
  "nbformat": 4,
  "nbformat_minor": 0,
  "metadata": {
    "colab": {
      "name": "Bagging and random forest.ipynb",
      "version": "0.3.2",
      "provenance": [],
      "collapsed_sections": []
    },
    "kernelspec": {
      "name": "python3",
      "display_name": "Python 3"
    },
    "accelerator": "GPU"
  },
  "cells": [
    {
      "cell_type": "code",
      "metadata": {
        "id": "FRO52wb5ezFs",
        "colab_type": "code",
        "colab": {}
      },
      "source": [
        "%matplotlib inline\n",
        "\n",
        "import matplotlib.pyplot as plt"
      ],
      "execution_count": 0,
      "outputs": []
    },
    {
      "cell_type": "code",
      "metadata": {
        "id": "1f3WuRJf0AnH",
        "colab_type": "code",
        "colab": {}
      },
      "source": [
        "from sklearn.datasets import load_digits\n",
        "from sklearn.model_selection import cross_val_score, validation_curve\n",
        "from sklearn.tree import DecisionTreeClassifier\n",
        "from sklearn.ensemble import BaggingClassifier, RandomForestClassifier\n",
        "\n",
        "import numpy as np\n",
        "import seaborn as sns"
      ],
      "execution_count": 0,
      "outputs": []
    },
    {
      "cell_type": "code",
      "metadata": {
        "id": "dOUrSlnE0Fjg",
        "colab_type": "code",
        "outputId": "2ae4eb5d-95f7-4d80-de35-020c9493b04b",
        "colab": {
          "base_uri": "https://localhost:8080/",
          "height": 34
        }
      },
      "source": [
        "digits = load_digits()\n",
        "print(digits.data.shape)"
      ],
      "execution_count": 0,
      "outputs": [
        {
          "output_type": "stream",
          "text": [
            "(1797, 64)\n"
          ],
          "name": "stdout"
        }
      ]
    },
    {
      "cell_type": "code",
      "metadata": {
        "id": "kT7xti0P0-Om",
        "colab_type": "code",
        "colab": {}
      },
      "source": [
        "X = digits.data\n",
        "y = digits.target"
      ],
      "execution_count": 0,
      "outputs": []
    },
    {
      "cell_type": "markdown",
      "metadata": {
        "id": "Zg_PoKWuIU0j",
        "colab_type": "text"
      },
      "source": [
        "Create a DecisionTreeClassifier with default settings and measure its score with cross_val_score."
      ]
    },
    {
      "cell_type": "code",
      "metadata": {
        "id": "tXxw-DDR0QLm",
        "colab_type": "code",
        "colab": {}
      },
      "source": [
        "clf = tree.DecisionTreeClassifier(random_state=1)\n",
        "cvs = cross_val_score(clf, X, y, cv=10)"
      ],
      "execution_count": 0,
      "outputs": []
    },
    {
      "cell_type": "code",
      "metadata": {
        "id": "fCH-TgqU1MIW",
        "colab_type": "code",
        "outputId": "526d73e1-5571-4b58-dc69-a0e38db16bae",
        "colab": {
          "base_uri": "https://localhost:8080/",
          "height": 34
        }
      },
      "source": [
        "print('Mean model quality value: ' + str(cvs.mean()))"
      ],
      "execution_count": 0,
      "outputs": [
        {
          "output_type": "stream",
          "text": [
            "Mean model quality value: 0.8308624439503834\n"
          ],
          "name": "stdout"
        }
      ]
    },
    {
      "cell_type": "markdown",
      "metadata": {
        "id": "KzULMOlAIl2D",
        "colab_type": "text"
      },
      "source": [
        "Use the BaggingClassifier from sklearn.ensemble to teach bagging over the DecisionTreeClassifier. Use the default settings in the BaggingClassifier, setting only the number of trees to 100."
      ]
    },
    {
      "cell_type": "code",
      "metadata": {
        "id": "wMAoHMPG1TFU",
        "colab_type": "code",
        "colab": {}
      },
      "source": [
        "bagging = BaggingClassifier(clf, n_estimators=100)\n",
        "cvs = cross_val_score(bagging, X, y, cv=10)"
      ],
      "execution_count": 0,
      "outputs": []
    },
    {
      "cell_type": "code",
      "metadata": {
        "id": "_40Se1Nu1Z1L",
        "colab_type": "code",
        "outputId": "4473383e-d631-468b-ba55-a44021c266fe",
        "colab": {
          "base_uri": "https://localhost:8080/",
          "height": 34
        }
      },
      "source": [
        "print('Mean model quality value: ' + str(cvs.mean()))"
      ],
      "execution_count": 0,
      "outputs": [
        {
          "output_type": "stream",
          "text": [
            "Mean model quality value: 0.9254789178915583\n"
          ],
          "name": "stdout"
        }
      ]
    },
    {
      "cell_type": "markdown",
      "metadata": {
        "id": "b0krfzvJInar",
        "colab_type": "text"
      },
      "source": [
        "Now examine the BaggingClassifier params and select them so that each basic algorithm will train not on all d features, but on sqrt(d) features. \n",
        "\n",
        "The sqrt of the number of features is often used in classification problems, while in regression problems the number of features divided by three is often taken. But in general, nothing prevents you from choosing any other number of features."
      ]
    },
    {
      "cell_type": "code",
      "metadata": {
        "id": "KfGlWXw41mPT",
        "colab_type": "code",
        "colab": {}
      },
      "source": [
        "n_features = digits.data.shape[1]\n",
        "bagging = BaggingClassifier(clf, n_estimators=100, max_features=int(np.sqrt(n_features)))\n",
        "cvs = cross_val_score(bagging, X, y, cv=10)"
      ],
      "execution_count": 0,
      "outputs": []
    },
    {
      "cell_type": "code",
      "metadata": {
        "id": "EfXW1p8Y1uVI",
        "colab_type": "code",
        "outputId": "6c20e3b5-c093-4651-c52c-09d8840b9c70",
        "colab": {
          "base_uri": "https://localhost:8080/",
          "height": 34
        }
      },
      "source": [
        "print('Mean model quality value: ' + str(cvs.mean()))"
      ],
      "execution_count": 0,
      "outputs": [
        {
          "output_type": "stream",
          "text": [
            "Mean model quality value: 0.9315692587887734\n"
          ],
          "name": "stdout"
        }
      ]
    },
    {
      "cell_type": "code",
      "metadata": {
        "id": "kLclOSZP2HTJ",
        "colab_type": "code",
        "colab": {}
      },
      "source": [
        "clf = DecisionTreeClassifier(max_features=int(np.sqrt(n_features)))\n",
        "bagging = BaggingClassifier(clf, n_estimators=100)\n",
        "cvs = cross_val_score(bagging, X, y, cv=10)"
      ],
      "execution_count": 0,
      "outputs": []
    },
    {
      "cell_type": "code",
      "metadata": {
        "id": "SxQT_pp_2Wtt",
        "colab_type": "code",
        "outputId": "0dd80e85-033f-4493-ffd3-0207416ac075",
        "colab": {
          "base_uri": "https://localhost:8080/",
          "height": 34
        }
      },
      "source": [
        "print('Mean model quality value: ' + str(cvs.mean()))"
      ],
      "execution_count": 0,
      "outputs": [
        {
          "output_type": "stream",
          "text": [
            "Mean model quality value: 0.9583213191897597\n"
          ],
          "name": "stdout"
        }
      ]
    },
    {
      "cell_type": "markdown",
      "metadata": {
        "id": "jJgoV9NlJYXE",
        "colab_type": "text"
      },
      "source": [
        "Now compare the quality of the classifier with the RandomForestClassifier from sklearn.ensemble. Do this, and then examine how the quality of classification on a given dataset depends on the number of trees, the number of features selected when building each tree tip, and the restrictions on the depth of the tree."
      ]
    },
    {
      "cell_type": "code",
      "metadata": {
        "id": "N-SEIMDb2YZV",
        "colab_type": "code",
        "colab": {}
      },
      "source": [
        "rf_classifier = RandomForestClassifier(n_estimators=100)\n",
        "bagging = BaggingClassifier(rf_classifier, n_estimators=100)\n",
        "cvs = cross_val_score(bagging, X, y, cv=10)"
      ],
      "execution_count": 0,
      "outputs": []
    },
    {
      "cell_type": "code",
      "metadata": {
        "id": "Uxkoe2dC7M9d",
        "colab_type": "code",
        "outputId": "49c5bf52-032c-4b8d-e0d9-68810663759b",
        "colab": {
          "base_uri": "https://localhost:8080/",
          "height": 34
        }
      },
      "source": [
        "print('Mean model quality value: ' + str(cvs.mean()))"
      ],
      "execution_count": 0,
      "outputs": [
        {
          "output_type": "stream",
          "text": [
            "Mean model quality value: 0.951103239188719\n"
          ],
          "name": "stdout"
        }
      ]
    },
    {
      "cell_type": "code",
      "metadata": {
        "id": "1b-4W53A7nJg",
        "colab_type": "code",
        "colab": {}
      },
      "source": [
        "param_range = np.array([3, 5, 7, 10])\n",
        "train_scores, test_scores = validation_curve(bagging, X, y, param_name=\"max_features\", param_range=param_range, cv=10, scoring=\"accuracy\")\n",
        "train_scores_mean = np.mean(train_scores, axis=1)\n",
        "train_scores_std = np.std(train_scores, axis=1)\n",
        "test_scores_mean = np.mean(test_scores, axis=1)\n",
        "test_scores_std = np.std(test_scores, axis=1)"
      ],
      "execution_count": 0,
      "outputs": []
    },
    {
      "cell_type": "code",
      "metadata": {
        "id": "61xlLafP7sCN",
        "colab_type": "code",
        "colab": {}
      },
      "source": [
        "print(train_scores_mean, test_scores_mean)"
      ],
      "execution_count": 0,
      "outputs": []
    },
    {
      "cell_type": "code",
      "metadata": {
        "id": "X44idk8o9C_x",
        "colab_type": "code",
        "colab": {}
      },
      "source": [
        "param_range = np.array([5, 10, 50, 100])\n",
        "train_scores, test_scores = validation_curve(bagging, X, y, param_name=\"base_estimator__max_depth\", param_range=param_range, cv=10, scoring=\"accuracy\")\n",
        "train_scores_mean = np.mean(train_scores, axis=1)\n",
        "train_scores_std = np.std(train_scores, axis=1)\n",
        "test_scores_mean = np.mean(test_scores, axis=1)\n",
        "test_scores_std = np.std(test_scores, axis=1)"
      ],
      "execution_count": 0,
      "outputs": []
    },
    {
      "cell_type": "code",
      "metadata": {
        "id": "h2SsvI8j9Hu_",
        "colab_type": "code",
        "colab": {}
      },
      "source": [
        "print(train_scores_mean, test_scores_mean)"
      ],
      "execution_count": 0,
      "outputs": []
    }
  ]
}