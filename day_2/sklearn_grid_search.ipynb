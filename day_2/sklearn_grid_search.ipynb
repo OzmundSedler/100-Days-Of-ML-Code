{
  "nbformat": 4,
  "nbformat_minor": 0,
  "metadata": {
    "colab": {
      "name": "sklearn.grid_search.ipynb",
      "version": "0.3.2",
      "provenance": [],
      "collapsed_sections": []
    },
    "language_info": {
      "codemirror_mode": {
        "name": "ipython",
        "version": 2
      },
      "file_extension": ".py",
      "mimetype": "text/x-python",
      "name": "python",
      "nbconvert_exporter": "python",
      "pygments_lexer": "ipython2",
      "version": "2.7.11"
    },
    "kernelspec": {
      "display_name": "Python 2",
      "language": "python",
      "name": "python2"
    }
  },
  "cells": [
    {
      "cell_type": "markdown",
      "metadata": {
        "id": "naLEqg30cb9u",
        "colab_type": "text"
      },
      "source": [
        "# Sklearn"
      ]
    },
    {
      "cell_type": "markdown",
      "metadata": {
        "id": "vDrLg-iQcb9v",
        "colab_type": "text"
      },
      "source": [
        "## sklearn.grid_search"
      ]
    },
    {
      "cell_type": "markdown",
      "metadata": {
        "id": "_Mrr2V-ycb9w",
        "colab_type": "text"
      },
      "source": [
        "http://scikit-learn.org/stable/modules/grid_search.html"
      ]
    },
    {
      "cell_type": "code",
      "metadata": {
        "id": "aaKNWEkycb9w",
        "colab_type": "code",
        "colab": {}
      },
      "source": [
        "import scipy\n",
        "import numpy as np\n",
        "import pandas as pd\n",
        "\n",
        "from sklearn.model_selection import cross_validate, GridSearchCV, train_test_split, StratifiedShuffleSplit, RandomizedSearchCV\n",
        "from sklearn import linear_model, metrics, datasets"
      ],
      "execution_count": 0,
      "outputs": []
    },
    {
      "cell_type": "markdown",
      "metadata": {
        "id": "HL7h0RzLcb9z",
        "colab_type": "text"
      },
      "source": [
        "### Generate data"
      ]
    },
    {
      "cell_type": "code",
      "metadata": {
        "id": "RpoBUp62cb90",
        "colab_type": "code",
        "colab": {}
      },
      "source": [
        "iris = datasets.load_iris()"
      ],
      "execution_count": 0,
      "outputs": []
    },
    {
      "cell_type": "code",
      "metadata": {
        "id": "Hxe_B2kycb92",
        "colab_type": "code",
        "colab": {}
      },
      "source": [
        "train_data, test_data, train_labels, test_labels = train_test_split(iris.data, iris.target, test_size = 0.3,random_state = 0)"
      ],
      "execution_count": 0,
      "outputs": []
    },
    {
      "cell_type": "markdown",
      "metadata": {
        "id": "wLDYQPCocb94",
        "colab_type": "text"
      },
      "source": [
        "### Classifer init"
      ]
    },
    {
      "cell_type": "code",
      "metadata": {
        "id": "8LM3O264cb94",
        "colab_type": "code",
        "colab": {}
      },
      "source": [
        "classifier = linear_model.SGDClassifier(random_state = 0)"
      ],
      "execution_count": 0,
      "outputs": []
    },
    {
      "cell_type": "markdown",
      "metadata": {
        "id": "IJU2gUH6cb96",
        "colab_type": "text"
      },
      "source": [
        "### Generate grid"
      ]
    },
    {
      "cell_type": "code",
      "metadata": {
        "id": "ddvMa6B-cb97",
        "colab_type": "code",
        "outputId": "3089c107-c2b9-4090-a62e-0fecf0c7be73",
        "colab": {
          "base_uri": "https://localhost:8080/",
          "height": 391
        }
      },
      "source": [
        "classifier.get_params().keys()"
      ],
      "execution_count": 0,
      "outputs": [
        {
          "output_type": "execute_result",
          "data": {
            "text/plain": [
              "['n_jobs',\n",
              " 'shuffle',\n",
              " 'verbose',\n",
              " 'class_weight',\n",
              " 'n_iter_no_change',\n",
              " 'fit_intercept',\n",
              " 'penalty',\n",
              " 'random_state',\n",
              " 'tol',\n",
              " 'epsilon',\n",
              " 'n_iter',\n",
              " 'validation_fraction',\n",
              " 'learning_rate',\n",
              " 'max_iter',\n",
              " 'alpha',\n",
              " 'early_stopping',\n",
              " 'warm_start',\n",
              " 'loss',\n",
              " 'eta0',\n",
              " 'l1_ratio',\n",
              " 'average',\n",
              " 'power_t']"
            ]
          },
          "metadata": {
            "tags": []
          },
          "execution_count": 18
        }
      ]
    },
    {
      "cell_type": "code",
      "metadata": {
        "id": "3TzOS9Ozcb98",
        "colab_type": "code",
        "colab": {}
      },
      "source": [
        "parameters_grid = {\n",
        "    'loss' : ['hinge', 'log', 'squared_hinge', 'squared_loss'],\n",
        "    'penalty' : ['l1', 'l2'],\n",
        "    'n_iter' : range(5,10),\n",
        "    'alpha' : np.linspace(0.0001, 0.001, num = 5),\n",
        "}"
      ],
      "execution_count": 0,
      "outputs": []
    },
    {
      "cell_type": "code",
      "metadata": {
        "id": "GduLUw6Wcb9-",
        "colab_type": "code",
        "colab": {}
      },
      "source": [
        "sss = StratifiedShuffleSplit(n_splits = 10, test_size = 0.2, random_state = 0)\n",
        "cv = sss.get_n_splits(train_labels, test_labels)"
      ],
      "execution_count": 0,
      "outputs": []
    },
    {
      "cell_type": "markdown",
      "metadata": {
        "id": "4A2PMVfncb-B",
        "colab_type": "text"
      },
      "source": [
        "### Best parameters seelection and quality estimation"
      ]
    },
    {
      "cell_type": "markdown",
      "metadata": {
        "id": "mLUXwdQocb-C",
        "colab_type": "text"
      },
      "source": [
        "#### Grid search"
      ]
    },
    {
      "cell_type": "code",
      "metadata": {
        "id": "g1-uAOkhcb-C",
        "colab_type": "code",
        "colab": {}
      },
      "source": [
        "grid_cv = GridSearchCV(classifier, parameters_grid, scoring = 'accuracy', cv = cv)"
      ],
      "execution_count": 0,
      "outputs": []
    },
    {
      "cell_type": "code",
      "metadata": {
        "id": "2iGx9RFScb-F",
        "colab_type": "code",
        "colab": {}
      },
      "source": [
        "%%time\n",
        "grid_cv.fit(train_data, train_labels)"
      ],
      "execution_count": 0,
      "outputs": []
    },
    {
      "cell_type": "code",
      "metadata": {
        "id": "Zs_tCAKdcb-G",
        "colab_type": "code",
        "outputId": "a5e34ebb-00a0-4485-9fdc-ac76dcd5d4c4",
        "colab": {
          "base_uri": "https://localhost:8080/",
          "height": 119
        }
      },
      "source": [
        "grid_cv.best_estimator_"
      ],
      "execution_count": 0,
      "outputs": [
        {
          "output_type": "execute_result",
          "data": {
            "text/plain": [
              "SGDClassifier(alpha=0.001, average=False, class_weight=None,\n",
              "       early_stopping=False, epsilon=0.1, eta0=0.0, fit_intercept=True,\n",
              "       l1_ratio=0.15, learning_rate='optimal', loss='log', max_iter=None,\n",
              "       n_iter=6, n_iter_no_change=5, n_jobs=None, penalty='l1',\n",
              "       power_t=0.5, random_state=0, shuffle=True, tol=None,\n",
              "       validation_fraction=0.1, verbose=0, warm_start=False)"
            ]
          },
          "metadata": {
            "tags": []
          },
          "execution_count": 30
        }
      ]
    },
    {
      "cell_type": "code",
      "metadata": {
        "id": "ZlPl2tqWcb-I",
        "colab_type": "code",
        "outputId": "a847b039-f1fd-435e-9e46-d5552352d8c1",
        "colab": {
          "base_uri": "https://localhost:8080/",
          "height": 51
        }
      },
      "source": [
        "print grid_cv.best_score_\n",
        "print grid_cv.best_params_"
      ],
      "execution_count": 0,
      "outputs": [
        {
          "output_type": "stream",
          "text": [
            "0.9142857142857143\n",
            "{'penalty': 'l1', 'alpha': 0.001, 'n_iter': 6, 'loss': 'log'}\n"
          ],
          "name": "stdout"
        }
      ]
    },
    {
      "cell_type": "markdown",
      "metadata": {
        "id": "VBgX75nkcb-M",
        "colab_type": "text"
      },
      "source": [
        "#### Randomized grid search"
      ]
    },
    {
      "cell_type": "code",
      "metadata": {
        "id": "0ok8T_XXcb-M",
        "colab_type": "code",
        "colab": {}
      },
      "source": [
        "randomized_grid_cv = RandomizedSearchCV(classifier, parameters_grid, scoring = 'accuracy', cv = cv, n_iter = 20, \n",
        "                                        random_state = 0)"
      ],
      "execution_count": 0,
      "outputs": []
    },
    {
      "cell_type": "code",
      "metadata": {
        "id": "uzKlFOZBcb-O",
        "colab_type": "code",
        "colab": {}
      },
      "source": [
        "%%time\n",
        "randomized_grid_cv.fit(train_data, train_labels)"
      ],
      "execution_count": 0,
      "outputs": []
    },
    {
      "cell_type": "code",
      "metadata": {
        "id": "x6h2JTJqcb-Q",
        "colab_type": "code",
        "outputId": "f89d941e-cb0c-4aa9-e12f-d8bf41206b17",
        "colab": {
          "base_uri": "https://localhost:8080/",
          "height": 51
        }
      },
      "source": [
        "print randomized_grid_cv.best_score_\n",
        "print randomized_grid_cv.best_params_"
      ],
      "execution_count": 0,
      "outputs": [
        {
          "output_type": "stream",
          "text": [
            "0.8476190476190476\n",
            "{'penalty': 'l1', 'n_iter': 9, 'alpha': 0.00055, 'loss': 'log'}\n"
          ],
          "name": "stdout"
        }
      ]
    }
  ]
}