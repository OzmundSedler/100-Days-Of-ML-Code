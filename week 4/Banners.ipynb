{
  "nbformat": 4,
  "nbformat_minor": 0,
  "metadata": {
    "colab": {
      "name": "Banners.ipynb",
      "version": "0.3.2",
      "provenance": [],
      "collapsed_sections": []
    },
    "kernelspec": {
      "name": "python3",
      "display_name": "Python 3"
    },
    "accelerator": "GPU"
  },
  "cells": [
    {
      "cell_type": "markdown",
      "metadata": {
        "id": "DJSEQwx3Ux6y",
        "colab_type": "text"
      },
      "source": [
        "\n",
        "# Banner advertising\n",
        "\n",
        "Imagine that the international cruise agency Carnival Cruise Line decided to advertise itself with the help of banners and turned to you for this. To test if such banners will take an effect, they will be placed only in 20 places around the world. You need to choose 20 locations for their placement.\n",
        "\n",
        "The agency is large, and it has several offices around the world. Near these offices, it wants to place banners - it is easier to negotiate and check the result. Also, these places should be popular among tourists."
      ]
    },
    {
      "cell_type": "code",
      "metadata": {
        "id": "KUTnkxFqTxwB",
        "colab_type": "code",
        "colab": {}
      },
      "source": [
        "import numpy as np\n",
        "import pandas as pd\n",
        "\n",
        "from sklearn.cluster import MeanShift"
      ],
      "execution_count": 0,
      "outputs": []
    },
    {
      "cell_type": "markdown",
      "metadata": {
        "id": "InlnDjzIVZyw",
        "colab_type": "text"
      },
      "source": [
        "To find the best places we will use the database of the largest social network based on locations - Foursquare.\n",
        "\n",
        "We will use one of the opened data sources, available here:\n",
        "https://archive.org/details/201309_foursquare_dataset_umn\n",
        "\n",
        "For convenient work with this document, we will convert it to the CSV format by deleting lines that do not contain coordinates - they are not informative for us. With the help of pandas, we will construct the DataFrame and make sure that all 396634 lines with coordinates are read successfully.\n"
      ]
    },
    {
      "cell_type": "code",
      "metadata": {
        "id": "f_otxHhQVjfT",
        "colab_type": "code",
        "colab": {
          "base_uri": "https://localhost:8080/",
          "height": 408
        },
        "outputId": "31f21990-ef66-4ff4-d91b-f76e03cf22b8"
      },
      "source": [
        "checkins = pd.read_csv('https://raw.githubusercontent.com/OzmundSedler/100-Days-Of-ML-Code/master/week%204/datasets/checkins.dat',\n",
        "                       sep='|', skipinitialspace=True, skiprows=[1], low_memory=False)\n",
        "print(checkins.info())\n",
        "checkins.head()"
      ],
      "execution_count": 2,
      "outputs": [
        {
          "output_type": "stream",
          "text": [
            "<class 'pandas.core.frame.DataFrame'>\n",
            "RangeIndex: 1021967 entries, 0 to 1021966\n",
            "Data columns (total 6 columns):\n",
            "id                  1021967 non-null object\n",
            "user_id             1021966 non-null float64\n",
            "venue_id            1021966 non-null float64\n",
            "latitude            396634 non-null float64\n",
            "longitude           396634 non-null float64\n",
            "created_at          1021966 non-null object\n",
            "dtypes: float64(4), object(2)\n",
            "memory usage: 46.8+ MB\n",
            "None\n"
          ],
          "name": "stdout"
        },
        {
          "output_type": "execute_result",
          "data": {
            "text/html": [
              "<div>\n",
              "<style scoped>\n",
              "    .dataframe tbody tr th:only-of-type {\n",
              "        vertical-align: middle;\n",
              "    }\n",
              "\n",
              "    .dataframe tbody tr th {\n",
              "        vertical-align: top;\n",
              "    }\n",
              "\n",
              "    .dataframe thead th {\n",
              "        text-align: right;\n",
              "    }\n",
              "</style>\n",
              "<table border=\"1\" class=\"dataframe\">\n",
              "  <thead>\n",
              "    <tr style=\"text-align: right;\">\n",
              "      <th></th>\n",
              "      <th>id</th>\n",
              "      <th>user_id</th>\n",
              "      <th>venue_id</th>\n",
              "      <th>latitude</th>\n",
              "      <th>longitude</th>\n",
              "      <th>created_at</th>\n",
              "    </tr>\n",
              "  </thead>\n",
              "  <tbody>\n",
              "    <tr>\n",
              "      <th>0</th>\n",
              "      <td>984301</td>\n",
              "      <td>2041916.0</td>\n",
              "      <td>5222.0</td>\n",
              "      <td>NaN</td>\n",
              "      <td>NaN</td>\n",
              "      <td>2012-04-21 17:39:01</td>\n",
              "    </tr>\n",
              "    <tr>\n",
              "      <th>1</th>\n",
              "      <td>984222</td>\n",
              "      <td>15824.0</td>\n",
              "      <td>5222.0</td>\n",
              "      <td>38.895112</td>\n",
              "      <td>-77.036366</td>\n",
              "      <td>2012-04-21 17:43:47</td>\n",
              "    </tr>\n",
              "    <tr>\n",
              "      <th>2</th>\n",
              "      <td>984315</td>\n",
              "      <td>1764391.0</td>\n",
              "      <td>5222.0</td>\n",
              "      <td>NaN</td>\n",
              "      <td>NaN</td>\n",
              "      <td>2012-04-21 17:37:18</td>\n",
              "    </tr>\n",
              "    <tr>\n",
              "      <th>3</th>\n",
              "      <td>984234</td>\n",
              "      <td>44652.0</td>\n",
              "      <td>5222.0</td>\n",
              "      <td>33.800745</td>\n",
              "      <td>-84.410520</td>\n",
              "      <td>2012-04-21 17:43:43</td>\n",
              "    </tr>\n",
              "    <tr>\n",
              "      <th>4</th>\n",
              "      <td>984249</td>\n",
              "      <td>2146840.0</td>\n",
              "      <td>5222.0</td>\n",
              "      <td>NaN</td>\n",
              "      <td>NaN</td>\n",
              "      <td>2012-04-21 17:42:58</td>\n",
              "    </tr>\n",
              "  </tbody>\n",
              "</table>\n",
              "</div>"
            ],
            "text/plain": [
              "    id       user_id   ...  longitude          created_at      \n",
              "0  984301   2041916.0  ...             NaN  2012-04-21 17:39:01\n",
              "1  984222     15824.0  ...      -77.036366  2012-04-21 17:43:47\n",
              "2  984315   1764391.0  ...             NaN  2012-04-21 17:37:18\n",
              "3  984234     44652.0  ...      -84.410520  2012-04-21 17:43:43\n",
              "4  984249   2146840.0  ...             NaN  2012-04-21 17:42:58\n",
              "\n",
              "[5 rows x 6 columns]"
            ]
          },
          "metadata": {
            "tags": []
          },
          "execution_count": 2
        }
      ]
    },
    {
      "cell_type": "code",
      "metadata": {
        "id": "akKbDv4QVvxo",
        "colab_type": "code",
        "colab": {
          "base_uri": "https://localhost:8080/",
          "height": 221
        },
        "outputId": "456d1900-3d67-4101-b825-c020c8e279ad"
      },
      "source": [
        "checkins.columns = checkins.columns.str.strip()\n",
        "checkins = checkins.dropna()\n",
        "\n",
        "print(f'Shape without NaN: {str(checkins.shape)}')\n",
        "\n",
        "checkins.head()"
      ],
      "execution_count": 4,
      "outputs": [
        {
          "output_type": "stream",
          "text": [
            "Shape without NaN: (396634, 6)\n"
          ],
          "name": "stdout"
        },
        {
          "output_type": "execute_result",
          "data": {
            "text/html": [
              "<div>\n",
              "<style scoped>\n",
              "    .dataframe tbody tr th:only-of-type {\n",
              "        vertical-align: middle;\n",
              "    }\n",
              "\n",
              "    .dataframe tbody tr th {\n",
              "        vertical-align: top;\n",
              "    }\n",
              "\n",
              "    .dataframe thead th {\n",
              "        text-align: right;\n",
              "    }\n",
              "</style>\n",
              "<table border=\"1\" class=\"dataframe\">\n",
              "  <thead>\n",
              "    <tr style=\"text-align: right;\">\n",
              "      <th></th>\n",
              "      <th>id</th>\n",
              "      <th>user_id</th>\n",
              "      <th>venue_id</th>\n",
              "      <th>latitude</th>\n",
              "      <th>longitude</th>\n",
              "      <th>created_at</th>\n",
              "    </tr>\n",
              "  </thead>\n",
              "  <tbody>\n",
              "    <tr>\n",
              "      <th>1</th>\n",
              "      <td>984222</td>\n",
              "      <td>15824.0</td>\n",
              "      <td>5222.0</td>\n",
              "      <td>38.895112</td>\n",
              "      <td>-77.036366</td>\n",
              "      <td>2012-04-21 17:43:47</td>\n",
              "    </tr>\n",
              "    <tr>\n",
              "      <th>3</th>\n",
              "      <td>984234</td>\n",
              "      <td>44652.0</td>\n",
              "      <td>5222.0</td>\n",
              "      <td>33.800745</td>\n",
              "      <td>-84.410520</td>\n",
              "      <td>2012-04-21 17:43:43</td>\n",
              "    </tr>\n",
              "    <tr>\n",
              "      <th>7</th>\n",
              "      <td>984291</td>\n",
              "      <td>105054.0</td>\n",
              "      <td>5222.0</td>\n",
              "      <td>45.523452</td>\n",
              "      <td>-122.676207</td>\n",
              "      <td>2012-04-21 17:39:22</td>\n",
              "    </tr>\n",
              "    <tr>\n",
              "      <th>9</th>\n",
              "      <td>984318</td>\n",
              "      <td>2146539.0</td>\n",
              "      <td>5222.0</td>\n",
              "      <td>40.764462</td>\n",
              "      <td>-111.904565</td>\n",
              "      <td>2012-04-21 17:35:46</td>\n",
              "    </tr>\n",
              "    <tr>\n",
              "      <th>10</th>\n",
              "      <td>984232</td>\n",
              "      <td>93870.0</td>\n",
              "      <td>380645.0</td>\n",
              "      <td>33.448377</td>\n",
              "      <td>-112.074037</td>\n",
              "      <td>2012-04-21 17:38:18</td>\n",
              "    </tr>\n",
              "  </tbody>\n",
              "</table>\n",
              "</div>"
            ],
            "text/plain": [
              "         id    user_id  venue_id   latitude   longitude           created_at\n",
              "1   984222     15824.0    5222.0  38.895112  -77.036366  2012-04-21 17:43:47\n",
              "3   984234     44652.0    5222.0  33.800745  -84.410520  2012-04-21 17:43:43\n",
              "7   984291    105054.0    5222.0  45.523452 -122.676207  2012-04-21 17:39:22\n",
              "9   984318   2146539.0    5222.0  40.764462 -111.904565  2012-04-21 17:35:46\n",
              "10  984232     93870.0  380645.0  33.448377 -112.074037  2012-04-21 17:38:18"
            ]
          },
          "metadata": {
            "tags": []
          },
          "execution_count": 4
        }
      ]
    },
    {
      "cell_type": "markdown",
      "metadata": {
        "id": "qiklfX3YWdmT",
        "colab_type": "text"
      },
      "source": [
        "Now you need to cluster the coordinates to reveal the spotlights. Since banners have a relatively small area of ​​operation, we need an algorithm that allows us to limit the size of the cluster and is independent of the number of clusters.\n",
        "\n",
        "This task is a good reason to get acquainted with the MeanShift algorithm, which we avoided in the main part of the lectures. If you wish, its description can be viewed in sklearn docs, and a little later an additional video will appear with an overview of this and some other clustering algorithms. Use MeanShift, with bandwidth = 0.1, which in translation from degrees to meters ranges from about 5 to 10 km in middle latitudes.\n",
        "\n",
        "Note: on 396634 rows, clustering will work for a long time. Being very patient is not forbidden - the result of this will only improve. But in order to pass the task, you need a subset of the first 100 thousand lines. This is a trade-off between quality and time spent. Algorithm learning takes about an hour on the whole dataset, and about 2 minutes per 100 thousand lines, but this is enough to get correct results."
      ]
    },
    {
      "cell_type": "code",
      "metadata": {
        "id": "kC5aYz0JXR8Q",
        "colab_type": "code",
        "colab": {
          "base_uri": "https://localhost:8080/",
          "height": 204
        },
        "outputId": "c986dce1-db66-48f2-900f-168ebef6d207"
      },
      "source": [
        "checkins_cl = checkins.iloc[:100000, :].loc[:, ['latitude', 'longitude']]\n",
        "checkins_cl.head()"
      ],
      "execution_count": 5,
      "outputs": [
        {
          "output_type": "execute_result",
          "data": {
            "text/html": [
              "<div>\n",
              "<style scoped>\n",
              "    .dataframe tbody tr th:only-of-type {\n",
              "        vertical-align: middle;\n",
              "    }\n",
              "\n",
              "    .dataframe tbody tr th {\n",
              "        vertical-align: top;\n",
              "    }\n",
              "\n",
              "    .dataframe thead th {\n",
              "        text-align: right;\n",
              "    }\n",
              "</style>\n",
              "<table border=\"1\" class=\"dataframe\">\n",
              "  <thead>\n",
              "    <tr style=\"text-align: right;\">\n",
              "      <th></th>\n",
              "      <th>latitude</th>\n",
              "      <th>longitude</th>\n",
              "    </tr>\n",
              "  </thead>\n",
              "  <tbody>\n",
              "    <tr>\n",
              "      <th>1</th>\n",
              "      <td>38.895112</td>\n",
              "      <td>-77.036366</td>\n",
              "    </tr>\n",
              "    <tr>\n",
              "      <th>3</th>\n",
              "      <td>33.800745</td>\n",
              "      <td>-84.410520</td>\n",
              "    </tr>\n",
              "    <tr>\n",
              "      <th>7</th>\n",
              "      <td>45.523452</td>\n",
              "      <td>-122.676207</td>\n",
              "    </tr>\n",
              "    <tr>\n",
              "      <th>9</th>\n",
              "      <td>40.764462</td>\n",
              "      <td>-111.904565</td>\n",
              "    </tr>\n",
              "    <tr>\n",
              "      <th>10</th>\n",
              "      <td>33.448377</td>\n",
              "      <td>-112.074037</td>\n",
              "    </tr>\n",
              "  </tbody>\n",
              "</table>\n",
              "</div>"
            ],
            "text/plain": [
              "     latitude   longitude\n",
              "1   38.895112  -77.036366\n",
              "3   33.800745  -84.410520\n",
              "7   45.523452 -122.676207\n",
              "9   40.764462 -111.904565\n",
              "10  33.448377 -112.074037"
            ]
          },
          "metadata": {
            "tags": []
          },
          "execution_count": 5
        }
      ]
    },
    {
      "cell_type": "code",
      "metadata": {
        "id": "96UveuaLXYQD",
        "colab_type": "code",
        "colab": {
          "base_uri": "https://localhost:8080/",
          "height": 51
        },
        "outputId": "e7c66f2f-120a-4e07-c3fb-e8a394ecff5c"
      },
      "source": [
        "ms = MeanShift(bandwidth=0.1)\n",
        "ms.fit(checkins_cl)"
      ],
      "execution_count": 6,
      "outputs": [
        {
          "output_type": "execute_result",
          "data": {
            "text/plain": [
              "MeanShift(bandwidth=0.1, bin_seeding=False, cluster_all=True, min_bin_freq=1,\n",
              "          n_jobs=None, seeds=None)"
            ]
          },
          "metadata": {
            "tags": []
          },
          "execution_count": 6
        }
      ]
    },
    {
      "cell_type": "markdown",
      "metadata": {
        "id": "RA4YNNCgXjYx",
        "colab_type": "text"
      },
      "source": [
        "Some of the resulting clusters contain too few points - they are not interesting to advertisers. Therefore, it is necessary to determine which of the clusters contain, for example, more than 15 elements. The centers of these clusters are optimal for placement.\n",
        "\n"
      ]
    },
    {
      "cell_type": "code",
      "metadata": {
        "id": "eguNQGTdXmV0",
        "colab_type": "code",
        "colab": {
          "base_uri": "https://localhost:8080/",
          "height": 34
        },
        "outputId": "47050ab9-3074-4e27-c50b-c39c76fe2e08"
      },
      "source": [
        "labels = ms.labels_\n",
        "cluster_centers = ms.cluster_centers_\n",
        "\n",
        "labels_unique, labels_counts = np.unique(labels, return_counts=True)\n",
        "\n",
        "print(f'number of estimated clusters : {len(labels_unique)}')"
      ],
      "execution_count": 7,
      "outputs": [
        {
          "output_type": "stream",
          "text": [
            "number of estimated clusters : 3231\n"
          ],
          "name": "stdout"
        }
      ]
    },
    {
      "cell_type": "code",
      "metadata": {
        "id": "AX5iq4wjZzze",
        "colab_type": "code",
        "colab": {}
      },
      "source": [
        "center_indexes = []\n",
        "\n",
        "for lbl, cnt in zip(labels_unique, labels_counts):\n",
        "  if cnt >= 15:\n",
        "    center_indexes.append(list(labels_unique).index(lbl))"
      ],
      "execution_count": 0,
      "outputs": []
    },
    {
      "cell_type": "markdown",
      "metadata": {
        "id": "hipGsHxE7_lh",
        "colab_type": "text"
      },
      "source": [
        "if you want, you can visuzalize data on https://www.mapcustomizer.com/ site, using Bulk Entry function."
      ]
    },
    {
      "cell_type": "markdown",
      "metadata": {
        "id": "7iIIIAyk1Sz_",
        "colab_type": "text"
      },
      "source": [
        "As we remember, 20 banners should be placed near the offices of the company. Let's find the addresses of all offices on Google Maps and create a data frame:"
      ]
    },
    {
      "cell_type": "code",
      "metadata": {
        "id": "YUgNOwTB1ZiW",
        "colab_type": "code",
        "colab": {}
      },
      "source": [
        "company_ofices = pd.DataFrame([(33.751277, -118.188740), (25.867736, -80.324116), (51.503016, -0.075479), (52.378894, 4.885084), (39.366487, 117.036146), (-33.868457, 151.205134)],\n",
        "                              columns=['latitude', 'longitude'],\n",
        "                              index=['Los Angeles', 'Miami', 'London', 'Amsterdam', 'Beijing', 'Sydney'])"
      ],
      "execution_count": 0,
      "outputs": []
    },
    {
      "cell_type": "markdown",
      "metadata": {
        "id": "aEijLDi63qK5",
        "colab_type": "text"
      },
      "source": [
        "It remains to determine the 20 nearest cluster centers. Let's calculate the distance to the nearest office for each point and select 20 with the lowest value."
      ]
    },
    {
      "cell_type": "code",
      "metadata": {
        "id": "eq0X6stK4JYI",
        "colab_type": "code",
        "colab": {}
      },
      "source": [
        "import geopy.distance\n",
        "\n",
        "distances = pd.DataFrame(columns=['nearest_office', 'distance (km)', 'center_lat', 'center_long'])\n",
        "\n",
        "for center in cluster_centers[center_indexes]:\n",
        "  min_distance = 1000000\n",
        "  \n",
        "  for office, office_coords in company_ofices.iterrows():\n",
        "    d = geopy.distance.vincenty(center, office_coords.values).km\n",
        "    if d < min_distance:\n",
        "      nearest_office = office\n",
        "      min_distance = d\n",
        "\n",
        "  distances = distances.append(pd.Series([nearest_office, min_distance, center[0], center[1]], index=distances.columns), ignore_index=True)"
      ],
      "execution_count": 0,
      "outputs": []
    },
    {
      "cell_type": "code",
      "metadata": {
        "id": "kn3KVKAH88aw",
        "colab_type": "code",
        "colab": {
          "base_uri": "https://localhost:8080/",
          "height": 204
        },
        "outputId": "ebfbe8a6-f816-4fe8-c53e-5d34eee6ae94"
      },
      "source": [
        "distances.head()"
      ],
      "execution_count": 12,
      "outputs": [
        {
          "output_type": "execute_result",
          "data": {
            "text/html": [
              "<div>\n",
              "<style scoped>\n",
              "    .dataframe tbody tr th:only-of-type {\n",
              "        vertical-align: middle;\n",
              "    }\n",
              "\n",
              "    .dataframe tbody tr th {\n",
              "        vertical-align: top;\n",
              "    }\n",
              "\n",
              "    .dataframe thead th {\n",
              "        text-align: right;\n",
              "    }\n",
              "</style>\n",
              "<table border=\"1\" class=\"dataframe\">\n",
              "  <thead>\n",
              "    <tr style=\"text-align: right;\">\n",
              "      <th></th>\n",
              "      <th>nearest_office</th>\n",
              "      <th>distance (km)</th>\n",
              "      <th>center_lat</th>\n",
              "      <th>center_long</th>\n",
              "    </tr>\n",
              "  </thead>\n",
              "  <tbody>\n",
              "    <tr>\n",
              "      <th>0</th>\n",
              "      <td>Miami</td>\n",
              "      <td>1748.152282</td>\n",
              "      <td>40.717716</td>\n",
              "      <td>-73.991835</td>\n",
              "    </tr>\n",
              "    <tr>\n",
              "      <th>1</th>\n",
              "      <td>Los Angeles</td>\n",
              "      <td>575.098631</td>\n",
              "      <td>33.449438</td>\n",
              "      <td>-112.002140</td>\n",
              "    </tr>\n",
              "    <tr>\n",
              "      <th>2</th>\n",
              "      <td>Los Angeles</td>\n",
              "      <td>584.413558</td>\n",
              "      <td>33.446380</td>\n",
              "      <td>-111.901888</td>\n",
              "    </tr>\n",
              "    <tr>\n",
              "      <th>3</th>\n",
              "      <td>Miami</td>\n",
              "      <td>1898.317298</td>\n",
              "      <td>41.878244</td>\n",
              "      <td>-87.629843</td>\n",
              "    </tr>\n",
              "    <tr>\n",
              "      <th>4</th>\n",
              "      <td>Los Angeles</td>\n",
              "      <td>580.105862</td>\n",
              "      <td>37.688682</td>\n",
              "      <td>-122.409330</td>\n",
              "    </tr>\n",
              "  </tbody>\n",
              "</table>\n",
              "</div>"
            ],
            "text/plain": [
              "  nearest_office  distance (km)  center_lat  center_long\n",
              "0          Miami    1748.152282   40.717716   -73.991835\n",
              "1    Los Angeles     575.098631   33.449438  -112.002140\n",
              "2    Los Angeles     584.413558   33.446380  -111.901888\n",
              "3          Miami    1898.317298   41.878244   -87.629843\n",
              "4    Los Angeles     580.105862   37.688682  -122.409330"
            ]
          },
          "metadata": {
            "tags": []
          },
          "execution_count": 12
        }
      ]
    },
    {
      "cell_type": "markdown",
      "metadata": {
        "id": "Nq_SMeiE3h8r",
        "colab_type": "text"
      },
      "source": [
        "Sort by distance"
      ]
    },
    {
      "cell_type": "code",
      "metadata": {
        "id": "ES1z34EnBg_b",
        "colab_type": "code",
        "colab": {
          "base_uri": "https://localhost:8080/",
          "height": 374
        },
        "outputId": "f64d21cb-f0e9-4112-b3ae-8a439e2c14d1"
      },
      "source": [
        "final_answer = distances.sort_values('distance (km)')[:20]\n",
        "print(final_answer)"
      ],
      "execution_count": 13,
      "outputs": [
        {
          "output_type": "stream",
          "text": [
            "    nearest_office  distance (km)  center_lat  center_long\n",
            "369      Amsterdam       0.823444   52.372964     4.892317\n",
            "418         Sydney       0.868755  -33.860630   151.204776\n",
            "417          Miami       2.499839   25.845672   -80.318891\n",
            "58          London       3.475846   51.502991    -0.125537\n",
            "51     Los Angeles       7.473233   33.809878  -118.148924\n",
            "29           Miami      13.989509   25.785812   -80.217938\n",
            "167          Miami      18.446966   25.705350   -80.283429\n",
            "87     Los Angeles      19.965422   33.888325  -118.048928\n",
            "92           Miami      20.083482   26.010098   -80.199991\n",
            "42     Los Angeles      20.972689   33.872986  -118.362091\n",
            "291    Los Angeles      24.618591   33.972575  -118.168371\n",
            "27     Los Angeles      28.509664   33.817306  -117.891249\n",
            "320          Miami      30.052961   26.138844   -80.334347\n",
            "119    Los Angeles      30.781408   33.983936  -118.007405\n",
            "32     Los Angeles      31.753935   33.674303  -117.858789\n",
            "55           Miami      32.558263   26.120863   -80.158907\n",
            "11     Los Angeles      34.733547   34.060398  -118.248709\n",
            "159          Miami      37.600479   26.200585   -80.250716\n",
            "17     Los Angeles      39.111036   34.035487  -118.438998\n",
            "50     Los Angeles      41.985212   33.650896  -117.752074\n"
          ],
          "name": "stdout"
        }
      ]
    }
  ]
}