{
  "nbformat": 4,
  "nbformat_minor": 0,
  "metadata": {
    "kernelspec": {
      "name": "python3",
      "display_name": "Python 3"
    },
    "colab": {
      "name": "2.ln-1.student_tests.ipynb",
      "version": "0.3.2",
      "provenance": [],
      "collapsed_sections": []
    },
    "accelerator": "GPU"
  },
  "cells": [
    {
      "cell_type": "markdown",
      "metadata": {
        "id": "NoQGY2wFwB4Q",
        "colab_type": "text"
      },
      "source": [
        "# Student's t-test"
      ]
    },
    {
      "cell_type": "code",
      "metadata": {
        "id": "JCcHKQmhwB4R",
        "colab_type": "code",
        "colab": {}
      },
      "source": [
        "import scipy\n",
        "\n",
        "import numpy as np\n",
        "import pandas as pd\n",
        "\n",
        "from statsmodels.stats.weightstats import *"
      ],
      "execution_count": 0,
      "outputs": []
    },
    {
      "cell_type": "code",
      "metadata": {
        "id": "kpANqeYQwB4T",
        "colab_type": "code",
        "outputId": "8893320a-2d5a-465d-a632-a9386da02291",
        "colab": {
          "base_uri": "https://localhost:8080/",
          "height": 34
        }
      },
      "source": [
        "%pylab inline"
      ],
      "execution_count": 0,
      "outputs": [
        {
          "output_type": "stream",
          "text": [
            "Populating the interactive namespace from numpy and matplotlib\n"
          ],
          "name": "stdout"
        }
      ]
    },
    {
      "cell_type": "markdown",
      "metadata": {
        "id": "m7yIbCzhwB4W",
        "colab_type": "text"
      },
      "source": [
        "## Treatment effects of methylphenidate"
      ]
    },
    {
      "cell_type": "markdown",
      "metadata": {
        "id": "9LzEIDGYwB4X",
        "colab_type": "text"
      },
      "source": [
        "As part of studies of the effectiveness of the drug methylphenidate, 24 patients with attention deficit hyperactivity disorder take either methylphenidate or placebo for a week. At the end of the week, each patient was tested for the ability to suppress impulsive behavioral responses. After each second course, each subject passed the second test. It is required to evaluate the effect of the drug.\n",
        "\n",
        "Pearson D.A, Santos C.W., Casat C.D., et al. (2004). Treatment effects of methylphenidate on cognitive functioning in children with mental retardation and ADHD. Journal of the American Academy of Child and Adolescent Psychiatry, 43(6), 677–685."
      ]
    },
    {
      "cell_type": "code",
      "metadata": {
        "id": "N-9c8fOpwB4X",
        "colab_type": "code",
        "colab": {}
      },
      "source": [
        "data = pd.read_csv('https://raw.githubusercontent.com/OzmundSedler/100-Days-Of-ML-Code/master/week_11/datasets/ADHD.txt', sep = ' ', header = 0)\n",
        "data.columns = ['Placebo', 'Methylphenidate']"
      ],
      "execution_count": 0,
      "outputs": []
    },
    {
      "cell_type": "code",
      "metadata": {
        "id": "PCR-QqgMwB4Z",
        "colab_type": "code",
        "outputId": "87731610-7f9c-4986-a126-e2bec6596c62",
        "colab": {
          "base_uri": "https://localhost:8080/",
          "height": 283
        }
      },
      "source": [
        "data.plot.scatter('Placebo', 'Methylphenidate', c = 'r', s = 30)\n",
        "pylab.grid()\n",
        "pylab.plot(range(100), c = 'black')\n",
        "pylab.xlim((20, 80))\n",
        "pylab.ylim((20, 80))\n",
        "pylab.show()"
      ],
      "execution_count": 0,
      "outputs": [
        {
          "output_type": "display_data",
          "data": {
            "image/png": "[encoded data removed]",
            "text/plain": [
              "<Figure size 432x288 with 1 Axes>"
            ]
          },
          "metadata": {
            "tags": []
          }
        }
      ]
    },
    {
      "cell_type": "code",
      "metadata": {
        "id": "mcdZn1v_wB4b",
        "colab_type": "code",
        "outputId": "bf0d7ea2-3297-4593-8444-1c34c2a00ee0",
        "colab": {
          "base_uri": "https://localhost:8080/",
          "height": 269
        }
      },
      "source": [
        "data.plot.hist()\n",
        "pylab.show()"
      ],
      "execution_count": 0,
      "outputs": [
        {
          "output_type": "display_data",
          "data": {
            "image/png": "[encoded data removed]",
            "text/plain": [
              "<Figure size 432x288 with 1 Axes>"
            ]
          },
          "metadata": {
            "tags": []
          }
        }
      ]
    },
    {
      "cell_type": "markdown",
      "metadata": {
        "id": "gxl_QzHtwB4d",
        "colab_type": "text"
      },
      "source": [
        "## One-tailed Students test"
      ]
    },
    {
      "cell_type": "markdown",
      "metadata": {
        "collapsed": true,
        "id": "nh1At53owB4d",
        "colab_type": "text"
      },
      "source": [
        "Based on the fact that the ability to suppress impulsive behavioral reactions is measured on a scale of [0, 100], it can be assumed that, with a good calibration of the test, the average ability to suppress reactions in a population is 50. Then, to test the hypothesis that patients in the sample, on average, they do worse with suppressing impulsive reactions (need treatment), let's check that their ability to suppress reactions is different from the average (not equal to 50)."
      ]
    },
    {
      "cell_type": "markdown",
      "metadata": {
        "id": "f3G-2eKmwB4e",
        "colab_type": "text"
      },
      "source": [
        "$ H_0 \\ colon $ the average value of the ability to suppress impulsive behavioral reactions is 50.\n",
        "\n",
        "$ H_1 \\ colon $ is not equal."
      ]
    },
    {
      "cell_type": "code",
      "metadata": {
        "id": "SOEWldmjwB4f",
        "colab_type": "code",
        "outputId": "4218ccde-293d-4b85-95bb-ce4fc223439e",
        "colab": {
          "base_uri": "https://localhost:8080/",
          "height": 34
        }
      },
      "source": [
        "stats.ttest_1samp(data.Placebo, 50.0)"
      ],
      "execution_count": 0,
      "outputs": [
        {
          "output_type": "execute_result",
          "data": {
            "text/plain": [
              "Ttest_1sampResult(statistic=-4.438003341905128, pvalue=0.00018894293251080175)"
            ]
          },
          "metadata": {
            "tags": []
          },
          "execution_count": 10
        }
      ]
    },
    {
      "cell_type": "code",
      "metadata": {
        "id": "5iGr7R8UwB4g",
        "colab_type": "code",
        "outputId": "48de6f5b-8786-49b1-c44c-799d4b1ca060",
        "colab": {
          "base_uri": "https://localhost:8080/",
          "height": 34
        }
      },
      "source": [
        "print (f\"95%% confidence interval: {zconfint(data.Placebo)}\")"
      ],
      "execution_count": 0,
      "outputs": [
        {
          "output_type": "stream",
          "text": [
            "95%% confidence interval: (35.223272709859756, 44.276727290140244)\n"
          ],
          "name": "stdout"
        }
      ]
    },
    {
      "cell_type": "markdown",
      "metadata": {
        "id": "CHNWaNSawB4i",
        "colab_type": "text"
      },
      "source": [
        "## Two-tailed Student's test (independent samples)"
      ]
    },
    {
      "cell_type": "markdown",
      "metadata": {
        "id": "UsextRmtwB4j",
        "colab_type": "text"
      },
      "source": [
        "In order to use the two-tailed student's test, we need to ensure that the distributions in the samples do not significantly differ from normal ones. TO do that, let's plot Q-Q plot."
      ]
    },
    {
      "cell_type": "code",
      "metadata": {
        "id": "rQ5SRm6awB4j",
        "colab_type": "code",
        "outputId": "f0c7c102-0163-4b57-d676-a436f6056757",
        "colab": {
          "base_uri": "https://localhost:8080/",
          "height": 276
        }
      },
      "source": [
        "pylab.figure(figsize=(12,8))\n",
        "pylab.subplot(2,2,1)\n",
        "stats.probplot(data.Placebo, dist=\"norm\", plot=pylab)\n",
        "pylab.subplot(2,2,2)\n",
        "stats.probplot(data.Methylphenidate, dist=\"norm\", plot=pylab)\n",
        "pylab.show()"
      ],
      "execution_count": 0,
      "outputs": [
        {
          "output_type": "display_data",
          "data": {
            "image/png": "[encoded data removed]",
            "text/plain": [
              "<Figure size 864x576 with 2 Axes>"
            ]
          },
          "metadata": {
            "tags": []
          }
        }
      ]
    },
    {
      "cell_type": "markdown",
      "metadata": {
        "id": "RrKlUiZqwB4m",
        "colab_type": "text"
      },
      "source": [
        "Shapiro-Wilk test:\n",
        "\n",
        "  $ H_0 \\ colon $ ability to suppress impulsive reactions distributed normally\n",
        " \n",
        "  $ H_1 \\ colon $ is not normal."
      ]
    },
    {
      "cell_type": "code",
      "metadata": {
        "id": "Vp7TVe5gwB4m",
        "colab_type": "code",
        "outputId": "0a577c3a-e6b9-45df-bc57-30854b9abc42",
        "colab": {
          "base_uri": "https://localhost:8080/",
          "height": 34
        }
      },
      "source": [
        "W_stat, p_value = stats.shapiro(data.Placebo)\n",
        "print (f\"Shapiro-Wilk normality test, W-statistic: {W_stat:.4f}, p-value: {p_value:.4f}\")"
      ],
      "execution_count": 0,
      "outputs": [
        {
          "output_type": "stream",
          "text": [
            "Shapiro-Wilk normality test, W-statistic: 0.8575, p-value: 0.0030\n"
          ],
          "name": "stdout"
        }
      ]
    },
    {
      "cell_type": "code",
      "metadata": {
        "id": "mDiJ5pqxwB4p",
        "colab_type": "code",
        "outputId": "58d632a4-fd28-4441-a767-9ca67f1cbdc8",
        "colab": {
          "base_uri": "https://localhost:8080/",
          "height": 34
        }
      },
      "source": [
        "W_stat, p_value = stats.shapiro(data.Methylphenidate)\n",
        "print (f\"Shapiro-Wilk normality test, W-statistic: {W_stat:.4f}, p-value: {p_value:.4f}\")"
      ],
      "execution_count": 0,
      "outputs": [
        {
          "output_type": "stream",
          "text": [
            "Shapiro-Wilk normality test, W-statistic: 0.9164, p-value: 0.0488\n"
          ],
          "name": "stdout"
        }
      ]
    },
    {
      "cell_type": "markdown",
      "metadata": {
        "id": "v29iR6pNwB4r",
        "colab_type": "text"
      },
      "source": [
        "Using the Student's test, let's verify the hypothesis of the dereference of the average of two samples."
      ]
    },
    {
      "cell_type": "markdown",
      "metadata": {
        "id": "H6VONYiuwB4r",
        "colab_type": "text"
      },
      "source": [
        "\n",
        "$ H_0 \\ colon $ the average values of the ability to suppress impulsive behavioral reactions are the same for patients taking the drug, and for patients taking placebo.\n",
        "\n",
        "$ H_1 \\ colon $ are not the same."
      ]
    },
    {
      "cell_type": "code",
      "metadata": {
        "id": "jcgGYxVawB4s",
        "colab_type": "code",
        "outputId": "ce806900-ad41-4b41-b9a1-57d4533c70c6",
        "colab": {
          "base_uri": "https://localhost:8080/",
          "height": 34
        }
      },
      "source": [
        "scipy.stats.ttest_ind(data.Placebo, data.Methylphenidate, equal_var = False)"
      ],
      "execution_count": 0,
      "outputs": [
        {
          "output_type": "execute_result",
          "data": {
            "text/plain": [
              "Ttest_indResult(statistic=-1.4521635018159091, pvalue=0.1532919977404709)"
            ]
          },
          "metadata": {
            "tags": []
          },
          "execution_count": 23
        }
      ]
    },
    {
      "cell_type": "code",
      "metadata": {
        "id": "du87MSTBwB4u",
        "colab_type": "code",
        "outputId": "a6616ea4-18f9-4936-bb7c-7b11cd3b8b0e",
        "colab": {
          "base_uri": "https://localhost:8080/",
          "height": 34
        }
      },
      "source": [
        "cm = CompareMeans(DescrStatsW(data.Methylphenidate), DescrStatsW(data.Placebo))\n",
        "print (f\"95%% confidence interval: {cm.tconfint_diff(usevar='unequal')}\")"
      ],
      "execution_count": 0,
      "outputs": [
        {
          "output_type": "stream",
          "text": [
            "95%% confidence interval: (-1.9159267979412196, 11.832593464607891)\n"
          ],
          "name": "stdout"
        }
      ]
    },
    {
      "cell_type": "markdown",
      "metadata": {
        "id": "minJmRf-wB4w",
        "colab_type": "text"
      },
      "source": [
        "## Two-tailed Student's test (dependent samples)"
      ]
    },
    {
      "cell_type": "markdown",
      "metadata": {
        "id": "r3-HRMPBwB4w",
        "colab_type": "text"
      },
      "source": [
        "In order to use Student's criteria for related samples, let's verify that the distribution of pairwise differences is not significantly different from normal."
      ]
    },
    {
      "cell_type": "code",
      "metadata": {
        "id": "BhpVgPQywB4x",
        "colab_type": "code",
        "outputId": "5468f7ef-c6f5-414d-c0d4-232da9176375",
        "colab": {
          "base_uri": "https://localhost:8080/",
          "height": 295
        }
      },
      "source": [
        "stats.probplot(data.Placebo - data.Methylphenidate, dist = \"norm\", plot = pylab)\n",
        "pylab.show()"
      ],
      "execution_count": 0,
      "outputs": [
        {
          "output_type": "display_data",
          "data": {
            "image/png": "[encoded data removed]",
            "text/plain": [
              "<Figure size 432x288 with 1 Axes>"
            ]
          },
          "metadata": {
            "tags": []
          }
        }
      ]
    },
    {
      "cell_type": "markdown",
      "metadata": {
        "id": "4ZJFzjGewB4z",
        "colab_type": "text"
      },
      "source": [
        "Shapiro-Wilk test:\n",
        "\n",
        "$ H_0 \\ colon $ pairwise differences are normally distributed.\n",
        "\n",
        "$ H_1 \\ colon $ is not normal."
      ]
    },
    {
      "cell_type": "code",
      "metadata": {
        "id": "RjTOgjkswB4z",
        "colab_type": "code",
        "outputId": "b18973e9-2abf-40d1-fb42-da0e0acf4bb7",
        "colab": {
          "base_uri": "https://localhost:8080/",
          "height": 34
        }
      },
      "source": [
        "W_stat, p_value = stats.shapiro(data.Placebo - data.Methylphenidate)\n",
        "print (f\"Shapiro-Wilk normality test, W-statistic: {W_stat:.4f}, p-value: {p_value:.4f}\")"
      ],
      "execution_count": 0,
      "outputs": [
        {
          "output_type": "stream",
          "text": [
            "Shapiro-Wilk normality test, W-statistic: 0.9798, p-value: 0.8923\n"
          ],
          "name": "stdout"
        }
      ]
    },
    {
      "cell_type": "markdown",
      "metadata": {
        "id": "4Nt2sTsbwB41",
        "colab_type": "text"
      },
      "source": [
        "Student's test:\n",
        "\n",
        "$ H_0 \\ colon $ the average values of the ability to suppress impulsive behavioral reactions are the same for patients taking the drug, and for patients taking placebo.\n",
        "\n",
        "$ H_1 \\ colon $ are not the same."
      ]
    },
    {
      "cell_type": "code",
      "metadata": {
        "id": "frnAwrTRwB41",
        "colab_type": "code",
        "outputId": "ebf6922b-0b73-4702-b239-8ce8c014fa3b",
        "colab": {
          "base_uri": "https://localhost:8080/",
          "height": 34
        }
      },
      "source": [
        "stats.ttest_rel(data.Methylphenidate, data.Placebo)"
      ],
      "execution_count": 0,
      "outputs": [
        {
          "output_type": "execute_result",
          "data": {
            "text/plain": [
              "Ttest_relResult(statistic=3.2223624451230406, pvalue=0.003771488176381471)"
            ]
          },
          "metadata": {
            "tags": []
          },
          "execution_count": 28
        }
      ]
    },
    {
      "cell_type": "code",
      "metadata": {
        "id": "QsugMJ2VwB44",
        "colab_type": "code",
        "outputId": "8ec13428-7588-4bec-fc60-92275b11a054",
        "colab": {
          "base_uri": "https://localhost:8080/",
          "height": 34
        }
      },
      "source": [
        "print (f\"95%% confidence interval: {DescrStatsW(data.Methylphenidate - data.Placebo).tconfint_mean()}\")"
      ],
      "execution_count": 0,
      "outputs": [
        {
          "output_type": "stream",
          "text": [
            "95%% confidence interval: (1.7752357893192365, 8.14143087734743)\n"
          ],
          "name": "stdout"
        }
      ]
    }
  ]
}