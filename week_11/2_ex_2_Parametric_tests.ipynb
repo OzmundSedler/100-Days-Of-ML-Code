{
  "nbformat": 4,
  "nbformat_minor": 0,
  "metadata": {
    "colab": {
      "name": "2.ex-2.Parametric tests.ipynb",
      "version": "0.3.2",
      "provenance": [],
      "collapsed_sections": []
    },
    "kernelspec": {
      "name": "python3",
      "display_name": "Python 3"
    },
    "accelerator": "GPU"
  },
  "cells": [
    {
      "cell_type": "markdown",
      "metadata": {
        "id": "z46jLnGnNCdU",
        "colab_type": "text"
      },
      "source": [
        "## Libs import\n"
      ]
    },
    {
      "cell_type": "code",
      "metadata": {
        "id": "j2-Bp4UUMk1S",
        "colab_type": "code",
        "colab": {}
      },
      "source": [
        "from __future__ import division\n",
        "\n",
        "import scipy\n",
        "import numpy as np\n",
        "import pandas as pd\n",
        "\n",
        "from scipy import stats\n",
        "from statsmodels.stats.proportion import proportion_confint\n",
        "from statsmodels.stats.weightstats import CompareMeans, DescrStatsW, ztest\n",
        "\n",
        "from sklearn.model_selection import train_test_split\n",
        "from sklearn.linear_model import LogisticRegression\n",
        "from sklearn.metrics import accuracy_score\n",
        "\n",
        "from IPython.core.interactiveshell import InteractiveShell\n",
        "InteractiveShell.ast_node_interactivity = \"all\""
      ],
      "execution_count": 0,
      "outputs": []
    },
    {
      "cell_type": "markdown",
      "metadata": {
        "id": "zdMJQNR7ItMf",
        "colab_type": "text"
      },
      "source": [
        "## Task 1\n"
      ]
    },
    {
      "cell_type": "markdown",
      "metadata": {
        "id": "V11amNZ8Ixso",
        "colab_type": "text"
      },
      "source": [
        "in one of the episodes of the \"Myth Busters\" series, they tested contagious yawns myth. The experiment was attended by 50 subjects who were interviewed on the program. Each of them spoke with a recruiter; at the end of 34 out of 50 conversations, the recruiter yawned. Then the subjects were asked to wait for the recruiter's decision in the next empty room. While waiting, 10 out of 34 subjects in the experimental group and 4 out of 16 subjects in the control group began to yawn. Thus, the difference in the proportion of yawning people in these two groups is approximately 4.4%. Leading concluded that confirmed. Are statistical values ​​statistical? Calculate the achievable significance level with alternate infectivity, up to ten digits after the decimal point."
      ]
    },
    {
      "cell_type": "code",
      "metadata": {
        "id": "fvO3ljjBVdcT",
        "colab_type": "code",
        "colab": {}
      },
      "source": [
        "data_exp = np.array([1 if i < 10 else 0 for i in range(34)])\n",
        "data_ctrl = np.array([1 if i < 4 else 0 for i in range(16)])"
      ],
      "execution_count": 0,
      "outputs": []
    },
    {
      "cell_type": "code",
      "metadata": {
        "id": "e6GgH5NHXEdp",
        "colab_type": "code",
        "colab": {
          "base_uri": "https://localhost:8080/",
          "height": 51
        },
        "outputId": "5df02f33-a7ed-4dcc-8914-08748dc5cbff"
      },
      "source": [
        "print(f'Mean experimental value: {data_exp.mean():.4f}')\n",
        "print(f'Mean control value: {data_ctrl.mean():.4f}') "
      ],
      "execution_count": 3,
      "outputs": [
        {
          "output_type": "stream",
          "text": [
            "Mean experimental value: 0.2941\n",
            "Mean control value: 0.2500\n"
          ],
          "name": "stdout"
        }
      ]
    },
    {
      "cell_type": "code",
      "metadata": {
        "id": "lKI46e14UTJ1",
        "colab_type": "code",
        "colab": {}
      },
      "source": [
        "conf_interval_data_exp = proportion_confint(sum(data_exp), \n",
        "                                            len(data_exp),\n",
        "                                            method = 'wilson')\n",
        "\n",
        "conf_interval_data_ctrl = proportion_confint(sum(data_ctrl), \n",
        "                                            len(data_ctrl),\n",
        "                                            method = 'wilson')"
      ],
      "execution_count": 0,
      "outputs": []
    },
    {
      "cell_type": "code",
      "metadata": {
        "id": "eB9Gt9YkXAxp",
        "colab_type": "code",
        "colab": {
          "base_uri": "https://localhost:8080/",
          "height": 51
        },
        "outputId": "3a8cb581-6687-4484-8c47-17759c58151b"
      },
      "source": [
        "print(f'95%% confidence interval for exp group: [{conf_interval_data_exp[0]:.4f}, {conf_interval_data_exp[1]:.4f}]')\n",
        "print(f'95%% confidence interval for a ctrl group: [{conf_interval_data_ctrl[0]:.4f}, {conf_interval_data_ctrl[1]:.4f}]')"
      ],
      "execution_count": 5,
      "outputs": [
        {
          "output_type": "stream",
          "text": [
            "95%% confidence interval for exp group: [0.1683, 0.4617]\n",
            "95%% confidence interval for a ctrl group: [0.1018, 0.4950]\n"
          ],
          "name": "stdout"
        }
      ]
    },
    {
      "cell_type": "markdown",
      "metadata": {
        "id": "-O6v-GoyYCv8",
        "colab_type": "text"
      },
      "source": [
        "### Z-test for independant proportions"
      ]
    },
    {
      "cell_type": "code",
      "metadata": {
        "id": "KZVaS7EdY0uH",
        "colab_type": "code",
        "colab": {}
      },
      "source": [
        "def proportions_diff_z_test(z_stat, alternative = 'two-sided'):\n",
        "    if alternative not in ('two-sided', 'less', 'greater'):\n",
        "        raise ValueError(\"alternative not recognized\\n\"\n",
        "                         \"should be 'two-sided', 'less' or 'greater'\")\n",
        "    \n",
        "    if alternative == 'two-sided':\n",
        "        return 2 * (1 - scipy.stats.norm.cdf(np.abs(z_stat)))\n",
        "    \n",
        "    if alternative == 'less':\n",
        "        return scipy.stats.norm.cdf(z_stat)\n",
        "\n",
        "    if alternative == 'greater':\n",
        "        return 1 - scipy.stats.norm.cdf(z_stat)"
      ],
      "execution_count": 0,
      "outputs": []
    },
    {
      "cell_type": "code",
      "metadata": {
        "id": "KcrIDUPOYLDv",
        "colab_type": "code",
        "colab": {}
      },
      "source": [
        "def proportions_diff_confint_ind(sample1, sample2, alpha = 0.05):    \n",
        "    z = scipy.stats.norm.ppf(1 - alpha / 2.)\n",
        "    \n",
        "    p1 = float(sum(sample1)) / len(sample1)\n",
        "    p2 = float(sum(sample2)) / len(sample2)\n",
        "    \n",
        "    left_boundary = (p1 - p2) - z * np.sqrt(p1 * (1 - p1)/ len(sample1) + p2 * (1 - p2) / len(sample2))\n",
        "    right_boundary = (p1 - p2) + z * np.sqrt(p1 * (1 - p1)/ len(sample1) + p2 * (1 - p2)/ len(sample2))\n",
        "    \n",
        "    return (left_boundary, right_boundary)"
      ],
      "execution_count": 0,
      "outputs": []
    },
    {
      "cell_type": "code",
      "metadata": {
        "id": "eT-bcnQVYRVh",
        "colab_type": "code",
        "colab": {}
      },
      "source": [
        "def proportions_diff_z_stat_ind(sample1, sample2):\n",
        "    n1 = len(sample1)\n",
        "    n2 = len(sample2)\n",
        "    \n",
        "    p1 = float(sum(sample1)) / n1\n",
        "    p2 = float(sum(sample2)) / n2 \n",
        "    P = float(p1*n1 + p2*n2) / (n1 + n2)\n",
        "    \n",
        "    return (p1 - p2) / np.sqrt(P * (1 - P) * (1. / n1 + 1. / n2))"
      ],
      "execution_count": 0,
      "outputs": []
    },
    {
      "cell_type": "code",
      "metadata": {
        "id": "f4UNw8OrYRsV",
        "colab_type": "code",
        "colab": {
          "base_uri": "https://localhost:8080/",
          "height": 34
        },
        "outputId": "313a4090-fda1-4612-f21d-2928f7d2033c"
      },
      "source": [
        "l_b, r_b = proportions_diff_confint_ind(data_exp, data_ctrl)\n",
        "print(f\"95%% confidence interval for a difference between proportions: [{l_b:.4f}, {r_b:.4f}]\")"
      ],
      "execution_count": 9,
      "outputs": [
        {
          "output_type": "stream",
          "text": [
            "95%% confidence interval for a difference between proportions: [-0.2176, 0.3058]\n"
          ],
          "name": "stdout"
        }
      ]
    },
    {
      "cell_type": "code",
      "metadata": {
        "id": "jMAq3-CGYhbv",
        "colab_type": "code",
        "colab": {
          "base_uri": "https://localhost:8080/",
          "height": 34
        },
        "outputId": "d7b9476e-75bb-4e9a-ab75-f24d605999a9"
      },
      "source": [
        "print (f\"p-value: {proportions_diff_z_test(proportions_diff_z_stat_ind(data_exp, data_ctrl)):.4f}\")"
      ],
      "execution_count": 10,
      "outputs": [
        {
          "output_type": "stream",
          "text": [
            "p-value: 0.7459\n"
          ],
          "name": "stdout"
        }
      ]
    },
    {
      "cell_type": "code",
      "metadata": {
        "id": "9d4ZjJjiZIoV",
        "colab_type": "code",
        "colab": {
          "base_uri": "https://localhost:8080/",
          "height": 34
        },
        "outputId": "275e77a7-c297-4b96-8752-d6786f62dde6"
      },
      "source": [
        "print (f\"p-value: {proportions_diff_z_test(proportions_diff_z_stat_ind(data_exp, data_ctrl), 'greater'):.4f}\")"
      ],
      "execution_count": 11,
      "outputs": [
        {
          "output_type": "stream",
          "text": [
            "p-value: 0.3729\n"
          ],
          "name": "stdout"
        }
      ]
    },
    {
      "cell_type": "markdown",
      "metadata": {
        "id": "6OkJon2oJJiZ",
        "colab_type": "text"
      },
      "source": [
        "## Task 2\n"
      ]
    },
    {
      "cell_type": "markdown",
      "metadata": {
        "id": "P7luvhdGJK5R",
        "colab_type": "text"
      },
      "source": [
        "There are measurement data of two hundred Swiss thousand-franc banknotes that were in circulation in the first half of the XX century. One hundred of the banknotes were real and one hundred were fake. The figure below shows the measured signs:"
      ]
    },
    {
      "cell_type": "markdown",
      "metadata": {
        "id": "iKUxgxUdJOZu",
        "colab_type": "text"
      },
      "source": [
        "![alt text](https://d3c33hcgiwev3.cloudfront.net/imageAssetProxy.v1/GN7XXyT6EeaNKg4a0RSP6Q_5d67a093a6c9bca6e4d89fc9680fbf89_CHF1000_2_back_horizontal.jpg?expiry=1567209600000&hmac=zSpB8CAaUfgkOv5ullBxeReqJkm2f92miZtBtaOFzHQ)"
      ]
    },
    {
      "cell_type": "markdown",
      "metadata": {
        "id": "wGyvPu1pah5F",
        "colab_type": "text"
      },
      "source": [
        "### Data \n"
      ]
    },
    {
      "cell_type": "code",
      "metadata": {
        "id": "FXGGdacjZ8-z",
        "colab_type": "code",
        "colab": {}
      },
      "source": [
        "banknotes_data = pd.read_csv('https://raw.githubusercontent.com/OzmundSedler/100-Days-Of-ML-Code/master/week_11/datasets/banknotes.txt', sep='\\t')"
      ],
      "execution_count": 0,
      "outputs": []
    },
    {
      "cell_type": "code",
      "metadata": {
        "id": "CCXLV9xtaOdt",
        "colab_type": "code",
        "colab": {
          "base_uri": "https://localhost:8080/",
          "height": 221
        },
        "outputId": "7c5ded9c-6044-48e3-931b-329d1b192b00"
      },
      "source": [
        "banknotes_data.info()"
      ],
      "execution_count": 13,
      "outputs": [
        {
          "output_type": "stream",
          "text": [
            "<class 'pandas.core.frame.DataFrame'>\n",
            "RangeIndex: 200 entries, 0 to 199\n",
            "Data columns (total 7 columns):\n",
            "X1      200 non-null float64\n",
            "X2      200 non-null float64\n",
            "X3      200 non-null float64\n",
            "X4      200 non-null float64\n",
            "X5      200 non-null float64\n",
            "X6      200 non-null float64\n",
            "real    200 non-null int64\n",
            "dtypes: float64(6), int64(1)\n",
            "memory usage: 11.0 KB\n"
          ],
          "name": "stdout"
        }
      ]
    },
    {
      "cell_type": "code",
      "metadata": {
        "id": "k8bsbbShaOa1",
        "colab_type": "code",
        "colab": {
          "base_uri": "https://localhost:8080/",
          "height": 204
        },
        "outputId": "ad0335f8-145c-48d4-dcc2-5fee840fc8a1"
      },
      "source": [
        "banknotes_data.head()"
      ],
      "execution_count": 14,
      "outputs": [
        {
          "output_type": "execute_result",
          "data": {
            "text/html": [
              "<div>\n",
              "<style scoped>\n",
              "    .dataframe tbody tr th:only-of-type {\n",
              "        vertical-align: middle;\n",
              "    }\n",
              "\n",
              "    .dataframe tbody tr th {\n",
              "        vertical-align: top;\n",
              "    }\n",
              "\n",
              "    .dataframe thead th {\n",
              "        text-align: right;\n",
              "    }\n",
              "</style>\n",
              "<table border=\"1\" class=\"dataframe\">\n",
              "  <thead>\n",
              "    <tr style=\"text-align: right;\">\n",
              "      <th></th>\n",
              "      <th>X1</th>\n",
              "      <th>X2</th>\n",
              "      <th>X3</th>\n",
              "      <th>X4</th>\n",
              "      <th>X5</th>\n",
              "      <th>X6</th>\n",
              "      <th>real</th>\n",
              "    </tr>\n",
              "  </thead>\n",
              "  <tbody>\n",
              "    <tr>\n",
              "      <th>0</th>\n",
              "      <td>214.8</td>\n",
              "      <td>131.0</td>\n",
              "      <td>131.1</td>\n",
              "      <td>9.0</td>\n",
              "      <td>9.7</td>\n",
              "      <td>141.0</td>\n",
              "      <td>1</td>\n",
              "    </tr>\n",
              "    <tr>\n",
              "      <th>1</th>\n",
              "      <td>214.6</td>\n",
              "      <td>129.7</td>\n",
              "      <td>129.7</td>\n",
              "      <td>8.1</td>\n",
              "      <td>9.5</td>\n",
              "      <td>141.7</td>\n",
              "      <td>1</td>\n",
              "    </tr>\n",
              "    <tr>\n",
              "      <th>2</th>\n",
              "      <td>214.8</td>\n",
              "      <td>129.7</td>\n",
              "      <td>129.7</td>\n",
              "      <td>8.7</td>\n",
              "      <td>9.6</td>\n",
              "      <td>142.2</td>\n",
              "      <td>1</td>\n",
              "    </tr>\n",
              "    <tr>\n",
              "      <th>3</th>\n",
              "      <td>214.8</td>\n",
              "      <td>129.7</td>\n",
              "      <td>129.6</td>\n",
              "      <td>7.5</td>\n",
              "      <td>10.4</td>\n",
              "      <td>142.0</td>\n",
              "      <td>1</td>\n",
              "    </tr>\n",
              "    <tr>\n",
              "      <th>4</th>\n",
              "      <td>215.0</td>\n",
              "      <td>129.6</td>\n",
              "      <td>129.7</td>\n",
              "      <td>10.4</td>\n",
              "      <td>7.7</td>\n",
              "      <td>141.8</td>\n",
              "      <td>1</td>\n",
              "    </tr>\n",
              "  </tbody>\n",
              "</table>\n",
              "</div>"
            ],
            "text/plain": [
              "      X1     X2     X3    X4    X5     X6  real\n",
              "0  214.8  131.0  131.1   9.0   9.7  141.0     1\n",
              "1  214.6  129.7  129.7   8.1   9.5  141.7     1\n",
              "2  214.8  129.7  129.7   8.7   9.6  142.2     1\n",
              "3  214.8  129.7  129.6   7.5  10.4  142.0     1\n",
              "4  215.0  129.6  129.7  10.4   7.7  141.8     1"
            ]
          },
          "metadata": {
            "tags": []
          },
          "execution_count": 14
        }
      ]
    },
    {
      "cell_type": "code",
      "metadata": {
        "id": "2HHrODMPaOUL",
        "colab_type": "code",
        "colab": {
          "base_uri": "https://localhost:8080/",
          "height": 297
        },
        "outputId": "36c84f60-902f-4c27-834c-29f8644da4e6"
      },
      "source": [
        "banknotes_data.describe()"
      ],
      "execution_count": 15,
      "outputs": [
        {
          "output_type": "execute_result",
          "data": {
            "text/html": [
              "<div>\n",
              "<style scoped>\n",
              "    .dataframe tbody tr th:only-of-type {\n",
              "        vertical-align: middle;\n",
              "    }\n",
              "\n",
              "    .dataframe tbody tr th {\n",
              "        vertical-align: top;\n",
              "    }\n",
              "\n",
              "    .dataframe thead th {\n",
              "        text-align: right;\n",
              "    }\n",
              "</style>\n",
              "<table border=\"1\" class=\"dataframe\">\n",
              "  <thead>\n",
              "    <tr style=\"text-align: right;\">\n",
              "      <th></th>\n",
              "      <th>X1</th>\n",
              "      <th>X2</th>\n",
              "      <th>X3</th>\n",
              "      <th>X4</th>\n",
              "      <th>X5</th>\n",
              "      <th>X6</th>\n",
              "      <th>real</th>\n",
              "    </tr>\n",
              "  </thead>\n",
              "  <tbody>\n",
              "    <tr>\n",
              "      <th>count</th>\n",
              "      <td>200.000000</td>\n",
              "      <td>200.000000</td>\n",
              "      <td>200.000000</td>\n",
              "      <td>200.000000</td>\n",
              "      <td>200.000000</td>\n",
              "      <td>200.000000</td>\n",
              "      <td>200.000000</td>\n",
              "    </tr>\n",
              "    <tr>\n",
              "      <th>mean</th>\n",
              "      <td>214.896000</td>\n",
              "      <td>130.121500</td>\n",
              "      <td>129.956500</td>\n",
              "      <td>9.417500</td>\n",
              "      <td>10.650500</td>\n",
              "      <td>140.483500</td>\n",
              "      <td>0.500000</td>\n",
              "    </tr>\n",
              "    <tr>\n",
              "      <th>std</th>\n",
              "      <td>0.376554</td>\n",
              "      <td>0.361026</td>\n",
              "      <td>0.404072</td>\n",
              "      <td>1.444603</td>\n",
              "      <td>0.802947</td>\n",
              "      <td>1.152266</td>\n",
              "      <td>0.501255</td>\n",
              "    </tr>\n",
              "    <tr>\n",
              "      <th>min</th>\n",
              "      <td>213.800000</td>\n",
              "      <td>129.000000</td>\n",
              "      <td>129.000000</td>\n",
              "      <td>7.200000</td>\n",
              "      <td>7.700000</td>\n",
              "      <td>137.800000</td>\n",
              "      <td>0.000000</td>\n",
              "    </tr>\n",
              "    <tr>\n",
              "      <th>25%</th>\n",
              "      <td>214.600000</td>\n",
              "      <td>129.900000</td>\n",
              "      <td>129.700000</td>\n",
              "      <td>8.200000</td>\n",
              "      <td>10.100000</td>\n",
              "      <td>139.500000</td>\n",
              "      <td>0.000000</td>\n",
              "    </tr>\n",
              "    <tr>\n",
              "      <th>50%</th>\n",
              "      <td>214.900000</td>\n",
              "      <td>130.200000</td>\n",
              "      <td>130.000000</td>\n",
              "      <td>9.100000</td>\n",
              "      <td>10.600000</td>\n",
              "      <td>140.450000</td>\n",
              "      <td>0.500000</td>\n",
              "    </tr>\n",
              "    <tr>\n",
              "      <th>75%</th>\n",
              "      <td>215.100000</td>\n",
              "      <td>130.400000</td>\n",
              "      <td>130.225000</td>\n",
              "      <td>10.600000</td>\n",
              "      <td>11.200000</td>\n",
              "      <td>141.500000</td>\n",
              "      <td>1.000000</td>\n",
              "    </tr>\n",
              "    <tr>\n",
              "      <th>max</th>\n",
              "      <td>216.300000</td>\n",
              "      <td>131.000000</td>\n",
              "      <td>131.100000</td>\n",
              "      <td>12.700000</td>\n",
              "      <td>12.300000</td>\n",
              "      <td>142.400000</td>\n",
              "      <td>1.000000</td>\n",
              "    </tr>\n",
              "  </tbody>\n",
              "</table>\n",
              "</div>"
            ],
            "text/plain": [
              "               X1          X2          X3  ...          X5          X6        real\n",
              "count  200.000000  200.000000  200.000000  ...  200.000000  200.000000  200.000000\n",
              "mean   214.896000  130.121500  129.956500  ...   10.650500  140.483500    0.500000\n",
              "std      0.376554    0.361026    0.404072  ...    0.802947    1.152266    0.501255\n",
              "min    213.800000  129.000000  129.000000  ...    7.700000  137.800000    0.000000\n",
              "25%    214.600000  129.900000  129.700000  ...   10.100000  139.500000    0.000000\n",
              "50%    214.900000  130.200000  130.000000  ...   10.600000  140.450000    0.500000\n",
              "75%    215.100000  130.400000  130.225000  ...   11.200000  141.500000    1.000000\n",
              "max    216.300000  131.000000  131.100000  ...   12.300000  142.400000    1.000000\n",
              "\n",
              "[8 rows x 7 columns]"
            ]
          },
          "metadata": {
            "tags": []
          },
          "execution_count": 15
        }
      ]
    },
    {
      "cell_type": "markdown",
      "metadata": {
        "id": "lF3Zy2P6ao_S",
        "colab_type": "text"
      },
      "source": [
        "### Task 1.1\n"
      ]
    },
    {
      "cell_type": "markdown",
      "metadata": {
        "id": "gq7xs2jAbvNB",
        "colab_type": "text"
      },
      "source": [
        "Separate 50 random observations into a test sample using the sklearn.cross_validation.train_test_split function (fix random state = 1). On the remaining 150, configure two banknote counterfeit classifiers:\n",
        "\n",
        "logistic regression according to features X1, X2, X3; logistic regression according to features X4, X5, X6. For each of the classifiers, make class label predictions on the test set. Are the fractions of erroneous predictions of the two classifiers the same? Test the hypothesis, calculate the achieved significance level. Enter the number of the first significant digit (for example, if you received 5.5 × 10−8, you need to enter 8)."
      ]
    },
    {
      "cell_type": "code",
      "metadata": {
        "id": "TqSKVIlyavIZ",
        "colab_type": "code",
        "colab": {}
      },
      "source": [
        "banknotes_train, banknotes_test = train_test_split(\n",
        "    banknotes_data,\n",
        "    test_size=50,\n",
        "    random_state=1,\n",
        ")"
      ],
      "execution_count": 0,
      "outputs": []
    },
    {
      "cell_type": "code",
      "metadata": {
        "id": "EhXTXlcYbFc0",
        "colab_type": "code",
        "colab": {}
      },
      "source": [
        "features_1 = ['X1', 'X2', 'X3']\n",
        "features_2 = ['X2', 'X3', 'X4']"
      ],
      "execution_count": 0,
      "outputs": []
    },
    {
      "cell_type": "code",
      "metadata": {
        "id": "xWdVSzQBcLiJ",
        "colab_type": "code",
        "colab": {
          "base_uri": "https://localhost:8080/",
          "height": 258
        },
        "outputId": "5bf009f6-e097-41f0-a8e1-02ef5aeb8403"
      },
      "source": [
        "clf_logreg_1 = LogisticRegression()\n",
        "clf_logreg_1.fit(banknotes_train[features_1].values,\n",
        "                 banknotes_train['real'].values)\n",
        "\n",
        "clf_logreg_2 = LogisticRegression()\n",
        "clf_logreg_2.fit(banknotes_train[features_2].values,\n",
        "                banknotes_train['real'].values)"
      ],
      "execution_count": 18,
      "outputs": [
        {
          "output_type": "stream",
          "text": [
            "/usr/local/lib/python3.6/dist-packages/sklearn/linear_model/logistic.py:432: FutureWarning: Default solver will be changed to 'lbfgs' in 0.22. Specify a solver to silence this warning.\n",
            "  FutureWarning)\n"
          ],
          "name": "stderr"
        },
        {
          "output_type": "execute_result",
          "data": {
            "text/plain": [
              "LogisticRegression(C=1.0, class_weight=None, dual=False, fit_intercept=True,\n",
              "                   intercept_scaling=1, l1_ratio=None, max_iter=100,\n",
              "                   multi_class='warn', n_jobs=None, penalty='l2',\n",
              "                   random_state=None, solver='warn', tol=0.0001, verbose=0,\n",
              "                   warm_start=False)"
            ]
          },
          "metadata": {
            "tags": []
          },
          "execution_count": 18
        },
        {
          "output_type": "stream",
          "text": [
            "/usr/local/lib/python3.6/dist-packages/sklearn/linear_model/logistic.py:432: FutureWarning: Default solver will be changed to 'lbfgs' in 0.22. Specify a solver to silence this warning.\n",
            "  FutureWarning)\n"
          ],
          "name": "stderr"
        },
        {
          "output_type": "execute_result",
          "data": {
            "text/plain": [
              "LogisticRegression(C=1.0, class_weight=None, dual=False, fit_intercept=True,\n",
              "                   intercept_scaling=1, l1_ratio=None, max_iter=100,\n",
              "                   multi_class='warn', n_jobs=None, penalty='l2',\n",
              "                   random_state=None, solver='warn', tol=0.0001, verbose=0,\n",
              "                   warm_start=False)"
            ]
          },
          "metadata": {
            "tags": []
          },
          "execution_count": 18
        }
      ]
    },
    {
      "cell_type": "code",
      "metadata": {
        "id": "e9mDAShAcczf",
        "colab_type": "code",
        "colab": {
          "base_uri": "https://localhost:8080/",
          "height": 34
        },
        "outputId": "7459d387-c14b-48b9-a2fb-71b1263d12f5"
      },
      "source": [
        "pred_1 = clf_logreg_1.predict(banknotes_test[features_1].values)\n",
        "print('Error rate pred1: %f' % (1 - accuracy_score(banknotes_test['real'].values, pred_1)))\n",
        "err_1 = np.array( [1 if banknotes_test['real'].values[i] == pred_1[i] else 0 for i in range(len(pred_1))] )"
      ],
      "execution_count": 19,
      "outputs": [
        {
          "output_type": "stream",
          "text": [
            "Error rate pred1: 0.200000\n"
          ],
          "name": "stdout"
        }
      ]
    },
    {
      "cell_type": "code",
      "metadata": {
        "id": "9qiJlPNDcqHK",
        "colab_type": "code",
        "colab": {
          "base_uri": "https://localhost:8080/",
          "height": 34
        },
        "outputId": "03996955-a05d-46de-c3af-fc0a0976563c"
      },
      "source": [
        "pred_2 = clf_logreg_2.predict(banknotes_test[features_2].values)\n",
        "print('Error rate pred2: %f' % (1 - accuracy_score(banknotes_test['real'].values, pred_2)))\n",
        "err_2 = np.array( [1 if banknotes_test['real'].values[i] == pred_2[i] else 0 for i in range(len(pred_2))] )"
      ],
      "execution_count": 20,
      "outputs": [
        {
          "output_type": "stream",
          "text": [
            "Error rate pred2: 0.140000\n"
          ],
          "name": "stdout"
        }
      ]
    },
    {
      "cell_type": "markdown",
      "metadata": {
        "id": "ykJgwyyHc0l-",
        "colab_type": "text"
      },
      "source": [
        "### Task 2"
      ]
    },
    {
      "cell_type": "markdown",
      "metadata": {
        "id": "QPyUjDVHJjt4",
        "colab_type": "text"
      },
      "source": [
        "Calculate the 95% confidence interval for the difference in the error shares of the two classifiers. What is its border closest to zero?\n"
      ]
    },
    {
      "cell_type": "code",
      "metadata": {
        "id": "fgM24vOSdNzW",
        "colab_type": "code",
        "colab": {}
      },
      "source": [
        "def proportions_diff_confint_rel(sample1, sample2, alpha = 0.05):\n",
        "    z = stats.norm.ppf(1 - alpha / 2.)\n",
        "    sample = list(zip(sample1, sample2))\n",
        "    n = len(sample)\n",
        "        \n",
        "    f = sum([1 if (x[0] == 1 and x[1] == 0) else 0 for x in sample])\n",
        "    g = sum([1 if (x[0] == 0 and x[1] == 1) else 0 for x in sample])\n",
        "    \n",
        "    left_boundary = float(f - g) / n  - z * np.sqrt(float((f + g)) / n**2 - float((f - g)**2) / n**3)\n",
        "    right_boundary = float(f - g) / n  + z * np.sqrt(float((f + g)) / n**2 - float((f - g)**2) / n**3)\n",
        "    return (left_boundary, right_boundary)"
      ],
      "execution_count": 0,
      "outputs": []
    },
    {
      "cell_type": "code",
      "metadata": {
        "id": "Kh1rH99idRQe",
        "colab_type": "code",
        "colab": {}
      },
      "source": [
        "def proportions_diff_z_stat_rel(sample1, sample2):\n",
        "    sample = list(zip(sample1, sample2))\n",
        "    n = len(sample)\n",
        "    \n",
        "    f = sum([1 if (x[0] == 1 and x[1] == 0) else 0 for x in sample])\n",
        "    g = sum([1 if (x[0] == 0 and x[1] == 1) else 0 for x in sample])\n",
        "    \n",
        "    return float(f - g) / np.sqrt(f + g - float((f - g)**2) / n )"
      ],
      "execution_count": 0,
      "outputs": []
    },
    {
      "cell_type": "code",
      "metadata": {
        "id": "j8sRGfCmdU_q",
        "colab_type": "code",
        "colab": {
          "base_uri": "https://localhost:8080/",
          "height": 34
        },
        "outputId": "726ee12c-7144-4997-b602-8bc78f073ab1"
      },
      "source": [
        "l_r, r_b = proportions_diff_confint_rel(err_1, err_2)\n",
        "print(f'95%% confidence interval for a difference between predictions: [{l_r:.4f}, {r_b:.4f}]')\n",
        "      "
      ],
      "execution_count": 23,
      "outputs": [
        {
          "output_type": "stream",
          "text": [
            "95%% confidence interval for a difference between predictions: [-0.2004, 0.0804]\n"
          ],
          "name": "stdout"
        }
      ]
    },
    {
      "cell_type": "code",
      "metadata": {
        "id": "UxIj81scdcSK",
        "colab_type": "code",
        "colab": {
          "base_uri": "https://localhost:8080/",
          "height": 34
        },
        "outputId": "f8c6bf83-dcf9-47bc-f4bf-31dd8d887919"
      },
      "source": [
        "print(f'p-value: {proportions_diff_z_test(proportions_diff_z_stat_rel(err_1, err_2)):.4f}')"
      ],
      "execution_count": 24,
      "outputs": [
        {
          "output_type": "stream",
          "text": [
            "p-value: 0.4021\n"
          ],
          "name": "stdout"
        }
      ]
    },
    {
      "cell_type": "markdown",
      "metadata": {
        "id": "9k_o2OtVJkYx",
        "colab_type": "text"
      },
      "source": [
        "## Task 3"
      ]
    },
    {
      "cell_type": "markdown",
      "metadata": {
        "id": "gpUlauifJllO",
        "colab_type": "text"
      },
      "source": [
        "Each year, more than 200,000 people around the world pass the standardized GMAT exam when they enroll in MBA programs. The average result is 525 points, the standard deviation is 100 points.\n",
        "\n",
        "One hundred students completed special preparatory courses and passed the exam. The average score they received is 541.4. Test the hypothesis of program inefficiency versus the one-way alternative that the program works. Is the null hypothesis rejected at significance level 0.05? Enter the significance level rounded to 4 digits after the decimal point."
      ]
    },
    {
      "cell_type": "code",
      "metadata": {
        "id": "LxPpPQIwKQNj",
        "colab_type": "code",
        "colab": {}
      },
      "source": [
        "mean_gen = 525\n",
        "num_gen = 200000\n",
        "sigma = 100\n",
        "\n",
        "num_sample = 100\n",
        "mean_sample = 541.4"
      ],
      "execution_count": 0,
      "outputs": []
    },
    {
      "cell_type": "code",
      "metadata": {
        "id": "vJYAbMjgeDfd",
        "colab_type": "code",
        "colab": {}
      },
      "source": [
        "def z_test(mean_val, exp_val, st_dev, num):\n",
        "    standard_error = st_dev / np.sqrt(num)\n",
        "    return (mean_val - exp_val) / standard_error"
      ],
      "execution_count": 0,
      "outputs": []
    },
    {
      "cell_type": "code",
      "metadata": {
        "id": "cMkj5mw6ehxi",
        "colab_type": "code",
        "colab": {}
      },
      "source": [
        "def p_val_greater(z_stat):\n",
        "    return 1 - stats.norm.cdf(z_stat)"
      ],
      "execution_count": 0,
      "outputs": []
    },
    {
      "cell_type": "code",
      "metadata": {
        "id": "exnwe1hpekFn",
        "colab_type": "code",
        "colab": {
          "base_uri": "https://localhost:8080/",
          "height": 34
        },
        "outputId": "9a39fa62-e2e1-458d-8967-ade79389483d"
      },
      "source": [
        "z_stat = z_test(mean_sample, mean_gen, sigma, num_sample)\n",
        "print(z_stat)"
      ],
      "execution_count": 28,
      "outputs": [
        {
          "output_type": "stream",
          "text": [
            "1.6399999999999977\n"
          ],
          "name": "stdout"
        }
      ]
    },
    {
      "cell_type": "code",
      "metadata": {
        "id": "gznDXTt6fYwq",
        "colab_type": "code",
        "colab": {
          "base_uri": "https://localhost:8080/",
          "height": 34
        },
        "outputId": "4cae8c8c-443e-4ab1-daba-7fd45a63744c"
      },
      "source": [
        "p_val = p_val_greater(abs(z_stat))\n",
        "print(p_val)"
      ],
      "execution_count": 29,
      "outputs": [
        {
          "output_type": "stream",
          "text": [
            "0.05050258347410397\n"
          ],
          "name": "stdout"
        }
      ]
    },
    {
      "cell_type": "markdown",
      "metadata": {
        "id": "zlxydhbsJpHo",
        "colab_type": "text"
      },
      "source": [
        "Evaluate now the effectiveness of preparatory courses, the average score of 100 graduates of which is 541.5. Is the same null hypothesis against the same alternative rejected at significance level 0.05? Enter the significance level rounded to 4 digits after the decimal point."
      ]
    },
    {
      "cell_type": "code",
      "metadata": {
        "id": "tixSHYssfd0W",
        "colab_type": "code",
        "colab": {}
      },
      "source": [
        "avg_mark_2 = 541.5"
      ],
      "execution_count": 0,
      "outputs": []
    },
    {
      "cell_type": "code",
      "metadata": {
        "id": "ltK6FfRKfwxR",
        "colab_type": "code",
        "colab": {
          "base_uri": "https://localhost:8080/",
          "height": 34
        },
        "outputId": "92588263-cad9-4288-b057-4cca375dce3a"
      },
      "source": [
        "z_stat2 = z_test(avg_mark_2, mean_gen, sigma, num_sample)\n",
        "print(z_stat2)"
      ],
      "execution_count": 31,
      "outputs": [
        {
          "output_type": "stream",
          "text": [
            "1.65\n"
          ],
          "name": "stdout"
        }
      ]
    },
    {
      "cell_type": "code",
      "metadata": {
        "id": "R0sfuOyEgYg2",
        "colab_type": "code",
        "colab": {
          "base_uri": "https://localhost:8080/",
          "height": 34
        },
        "outputId": "e2ae94ab-fe4c-4228-a223-1427ed03d805"
      },
      "source": [
        "p_val = p_val_greater(abs(z_stat2))\n",
        "print(p_val)"
      ],
      "execution_count": 32,
      "outputs": [
        {
          "output_type": "stream",
          "text": [
            "0.0494714680336481\n"
          ],
          "name": "stdout"
        }
      ]
    }
  ]
}