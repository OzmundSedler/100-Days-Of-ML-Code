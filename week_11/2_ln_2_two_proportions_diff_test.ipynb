{
  "nbformat": 4,
  "nbformat_minor": 0,
  "metadata": {
    "kernelspec": {
      "name": "python3",
      "display_name": "Python 3"
    },
    "colab": {
      "name": "2.ln-2.two_proportions_diff_test.ipynb",
      "version": "0.3.2",
      "provenance": []
    },
    "accelerator": "GPU"
  },
  "cells": [
    {
      "cell_type": "markdown",
      "metadata": {
        "id": "p3BxRK2tDwTq",
        "colab_type": "text"
      },
      "source": [
        "# Two-tailed Z-test"
      ]
    },
    {
      "cell_type": "code",
      "metadata": {
        "id": "4YtYOcOqDwTr",
        "colab_type": "code",
        "colab": {}
      },
      "source": [
        "import scipy\n",
        "\n",
        "import numpy as np\n",
        "import pandas as pd\n",
        "\n",
        "from statsmodels.stats.weightstats import *\n",
        "from statsmodels.stats.proportion import proportion_confint"
      ],
      "execution_count": 0,
      "outputs": []
    },
    {
      "cell_type": "markdown",
      "metadata": {
        "id": "AurlSowDDwTu",
        "colab_type": "text"
      },
      "source": [
        "## Data generation"
      ]
    },
    {
      "cell_type": "code",
      "metadata": {
        "id": "dTSTsCdcDwTv",
        "colab_type": "code",
        "colab": {}
      },
      "source": [
        "data = pd.read_csv('https://raw.githubusercontent.com/OzmundSedler/100-Days-Of-ML-Code/master/week_10/datasets/banner_click_stat.txt', header = None, sep = '\\t')\n",
        "data.columns = ['banner_a', 'banner_b']"
      ],
      "execution_count": 0,
      "outputs": []
    },
    {
      "cell_type": "code",
      "metadata": {
        "id": "uRVInws4DwTx",
        "colab_type": "code",
        "colab": {
          "base_uri": "https://localhost:8080/",
          "height": 204
        },
        "outputId": "f6b621dd-e6b5-4382-d2df-e46e06849c58"
      },
      "source": [
        "data.head()"
      ],
      "execution_count": 3,
      "outputs": [
        {
          "output_type": "execute_result",
          "data": {
            "text/html": [
              "<div>\n",
              "<style scoped>\n",
              "    .dataframe tbody tr th:only-of-type {\n",
              "        vertical-align: middle;\n",
              "    }\n",
              "\n",
              "    .dataframe tbody tr th {\n",
              "        vertical-align: top;\n",
              "    }\n",
              "\n",
              "    .dataframe thead th {\n",
              "        text-align: right;\n",
              "    }\n",
              "</style>\n",
              "<table border=\"1\" class=\"dataframe\">\n",
              "  <thead>\n",
              "    <tr style=\"text-align: right;\">\n",
              "      <th></th>\n",
              "      <th>banner_a</th>\n",
              "      <th>banner_b</th>\n",
              "    </tr>\n",
              "  </thead>\n",
              "  <tbody>\n",
              "    <tr>\n",
              "      <th>0</th>\n",
              "      <td>0</td>\n",
              "      <td>0</td>\n",
              "    </tr>\n",
              "    <tr>\n",
              "      <th>1</th>\n",
              "      <td>1</td>\n",
              "      <td>1</td>\n",
              "    </tr>\n",
              "    <tr>\n",
              "      <th>2</th>\n",
              "      <td>0</td>\n",
              "      <td>0</td>\n",
              "    </tr>\n",
              "    <tr>\n",
              "      <th>3</th>\n",
              "      <td>0</td>\n",
              "      <td>0</td>\n",
              "    </tr>\n",
              "    <tr>\n",
              "      <th>4</th>\n",
              "      <td>0</td>\n",
              "      <td>0</td>\n",
              "    </tr>\n",
              "  </tbody>\n",
              "</table>\n",
              "</div>"
            ],
            "text/plain": [
              "   banner_a  banner_b\n",
              "0         0         0\n",
              "1         1         1\n",
              "2         0         0\n",
              "3         0         0\n",
              "4         0         0"
            ]
          },
          "metadata": {
            "tags": []
          },
          "execution_count": 3
        }
      ]
    },
    {
      "cell_type": "code",
      "metadata": {
        "id": "41wrEGPFDwT0",
        "colab_type": "code",
        "colab": {
          "base_uri": "https://localhost:8080/",
          "height": 297
        },
        "outputId": "8a1ae3e3-20c6-45f8-8755-4bd52e865e66"
      },
      "source": [
        "data.describe()"
      ],
      "execution_count": 4,
      "outputs": [
        {
          "output_type": "execute_result",
          "data": {
            "text/html": [
              "<div>\n",
              "<style scoped>\n",
              "    .dataframe tbody tr th:only-of-type {\n",
              "        vertical-align: middle;\n",
              "    }\n",
              "\n",
              "    .dataframe tbody tr th {\n",
              "        vertical-align: top;\n",
              "    }\n",
              "\n",
              "    .dataframe thead th {\n",
              "        text-align: right;\n",
              "    }\n",
              "</style>\n",
              "<table border=\"1\" class=\"dataframe\">\n",
              "  <thead>\n",
              "    <tr style=\"text-align: right;\">\n",
              "      <th></th>\n",
              "      <th>banner_a</th>\n",
              "      <th>banner_b</th>\n",
              "    </tr>\n",
              "  </thead>\n",
              "  <tbody>\n",
              "    <tr>\n",
              "      <th>count</th>\n",
              "      <td>1000.000000</td>\n",
              "      <td>1000.000000</td>\n",
              "    </tr>\n",
              "    <tr>\n",
              "      <th>mean</th>\n",
              "      <td>0.037000</td>\n",
              "      <td>0.053000</td>\n",
              "    </tr>\n",
              "    <tr>\n",
              "      <th>std</th>\n",
              "      <td>0.188856</td>\n",
              "      <td>0.224146</td>\n",
              "    </tr>\n",
              "    <tr>\n",
              "      <th>min</th>\n",
              "      <td>0.000000</td>\n",
              "      <td>0.000000</td>\n",
              "    </tr>\n",
              "    <tr>\n",
              "      <th>25%</th>\n",
              "      <td>0.000000</td>\n",
              "      <td>0.000000</td>\n",
              "    </tr>\n",
              "    <tr>\n",
              "      <th>50%</th>\n",
              "      <td>0.000000</td>\n",
              "      <td>0.000000</td>\n",
              "    </tr>\n",
              "    <tr>\n",
              "      <th>75%</th>\n",
              "      <td>0.000000</td>\n",
              "      <td>0.000000</td>\n",
              "    </tr>\n",
              "    <tr>\n",
              "      <th>max</th>\n",
              "      <td>1.000000</td>\n",
              "      <td>1.000000</td>\n",
              "    </tr>\n",
              "  </tbody>\n",
              "</table>\n",
              "</div>"
            ],
            "text/plain": [
              "          banner_a     banner_b\n",
              "count  1000.000000  1000.000000\n",
              "mean      0.037000     0.053000\n",
              "std       0.188856     0.224146\n",
              "min       0.000000     0.000000\n",
              "25%       0.000000     0.000000\n",
              "50%       0.000000     0.000000\n",
              "75%       0.000000     0.000000\n",
              "max       1.000000     1.000000"
            ]
          },
          "metadata": {
            "tags": []
          },
          "execution_count": 4
        }
      ]
    },
    {
      "cell_type": "markdown",
      "metadata": {
        "id": "8pA695JSDwT2",
        "colab_type": "text"
      },
      "source": [
        "## Proportions confidence intervals"
      ]
    },
    {
      "cell_type": "markdown",
      "metadata": {
        "id": "jhepn7DEDwT2",
        "colab_type": "text"
      },
      "source": [
        "$$\\frac1{ 1 + \\frac{z^2}{n} } \\left( \\hat{p} + \\frac{z^2}{2n} \\pm z \\sqrt{ \\frac{ \\hat{p}\\left(1-\\hat{p}\\right)}{n} + \\frac{z^2}{4n^2} } \\right), \\;\\; z \\equiv z_{1-\\frac{\\alpha}{2}}$$ "
      ]
    },
    {
      "cell_type": "code",
      "metadata": {
        "id": "SZlnWIqPDwT3",
        "colab_type": "code",
        "colab": {}
      },
      "source": [
        "conf_interval_banner_a = proportion_confint(sum(data.banner_a), \n",
        "                                            data.shape[0],\n",
        "                                            method = 'wilson')\n",
        "conf_interval_banner_b = proportion_confint(sum(data.banner_b), \n",
        "                                            data.shape[0],\n",
        "                                            method = 'wilson')"
      ],
      "execution_count": 0,
      "outputs": []
    },
    {
      "cell_type": "code",
      "metadata": {
        "id": "RJhCy_NcDwT5",
        "colab_type": "code",
        "colab": {
          "base_uri": "https://localhost:8080/",
          "height": 51
        },
        "outputId": "8b82fe25-fbb3-4900-9f14-1f249f2a2cee"
      },
      "source": [
        "print (f'95%% confidence interval for a click probability, banner a: {conf_interval_banner_a}') \n",
        "print (f'95%% confidence interval for a click probability, banner b {conf_interval_banner_b}')"
      ],
      "execution_count": 6,
      "outputs": [
        {
          "output_type": "stream",
          "text": [
            "95%% confidence interval for a click probability, banner a: (0.026961180875554734, 0.05058239748206931)\n",
            "95%% confidence interval for a click probability, banner b (0.04074650524859452, 0.06867461683749176)\n"
          ],
          "name": "stdout"
        }
      ]
    },
    {
      "cell_type": "markdown",
      "metadata": {
        "id": "WSJehNZsDwT7",
        "colab_type": "text"
      },
      "source": [
        "## Z-test for a proportion (independant samples)"
      ]
    },
    {
      "cell_type": "markdown",
      "metadata": {
        "id": "SX7fBdmTDwT7",
        "colab_type": "text"
      },
      "source": [
        "   | $X_1$ | $X_2$  \n",
        "  ------------- | -------------|\n",
        "  1  | a | b \n",
        "  0  | c | d \n",
        "  $\\sum$ | $n_1$| $n_2$\n",
        "  \n",
        "$$ \\hat{p}_1 = \\frac{a}{n_1}$$\n",
        "\n",
        "$$ \\hat{p}_2 = \\frac{b}{n_2}$$\n",
        "\n",
        "\n",
        "$$\\text{Confidence interval for }p_1 - p_2\\colon \\;\\; \\hat{p}_1 - \\hat{p}_2 \\pm z_{1-\\frac{\\alpha}{2}}\\sqrt{\\frac{\\hat{p}_1(1 - \\hat{p}_1)}{n_1} + \\frac{\\hat{p}_2(1 - \\hat{p}_2)}{n_2}}$$\n",
        "\n",
        "$$Z-score: Z({X_1, X_2}) =  \\frac{\\hat{p}_1 - \\hat{p}_2}{\\sqrt{P(1 - P)(\\frac{1}{n_1} + \\frac{1}{n_2})}}$$\n",
        "$$P = \\frac{\\hat{p}_1{n_1} + \\hat{p}_2{n_2}}{{n_1} + {n_2}} $$"
      ]
    },
    {
      "cell_type": "code",
      "metadata": {
        "id": "EpbM7keaDwT8",
        "colab_type": "code",
        "colab": {}
      },
      "source": [
        "def proportions_diff_confint_ind(sample1, sample2, alpha = 0.05):    \n",
        "    z = scipy.stats.norm.ppf(1 - alpha / 2.)\n",
        "    \n",
        "    p1 = float(sum(sample1)) / len(sample1)\n",
        "    p2 = float(sum(sample2)) / len(sample2)\n",
        "    \n",
        "    left_boundary = (p1 - p2) - z * np.sqrt(p1 * (1 - p1)/ len(sample1) + p2 * (1 - p2)/ len(sample2))\n",
        "    right_boundary = (p1 - p2) + z * np.sqrt(p1 * (1 - p1)/ len(sample1) + p2 * (1 - p2)/ len(sample2))\n",
        "    \n",
        "    return (left_boundary, right_boundary)"
      ],
      "execution_count": 0,
      "outputs": []
    },
    {
      "cell_type": "code",
      "metadata": {
        "id": "IVnEzlFTDwT-",
        "colab_type": "code",
        "colab": {}
      },
      "source": [
        "def proportions_diff_z_stat_ind(sample1, sample2):\n",
        "    n1 = len(sample1)\n",
        "    n2 = len(sample2)\n",
        "    \n",
        "    p1 = float(sum(sample1)) / n1\n",
        "    p2 = float(sum(sample2)) / n2 \n",
        "    P = float(p1*n1 + p2*n2) / (n1 + n2)\n",
        "    \n",
        "    return (p1 - p2) / np.sqrt(P * (1 - P) * (1. / n1 + 1. / n2))"
      ],
      "execution_count": 0,
      "outputs": []
    },
    {
      "cell_type": "code",
      "metadata": {
        "id": "V2Vb_QJaDwUB",
        "colab_type": "code",
        "colab": {}
      },
      "source": [
        "def proportions_diff_z_test(z_stat, alternative = 'two-sided'):\n",
        "    if alternative not in ('two-sided', 'less', 'greater'):\n",
        "        raise ValueError(\"alternative not recognized\\n\"\n",
        "                         \"should be 'two-sided', 'less' or 'greater'\")\n",
        "    \n",
        "    if alternative == 'two-sided':\n",
        "        return 2 * (1 - scipy.stats.norm.cdf(np.abs(z_stat)))\n",
        "    \n",
        "    if alternative == 'less':\n",
        "        return scipy.stats.norm.cdf(z_stat)\n",
        "\n",
        "    if alternative == 'greater':\n",
        "        return 1 - scipy.stats.norm.cdf(z_stat)"
      ],
      "execution_count": 0,
      "outputs": []
    },
    {
      "cell_type": "code",
      "metadata": {
        "id": "UBvmoXiKDwUD",
        "colab_type": "code",
        "colab": {
          "base_uri": "https://localhost:8080/",
          "height": 34
        },
        "outputId": "121ed022-a98a-4099-eb21-358d390209cb"
      },
      "source": [
        "print (f\"95%% confidence interval for a difference between proportions: {proportions_diff_confint_ind(data.banner_a, data.banner_b)}\")\n",
        "      "
      ],
      "execution_count": 10,
      "outputs": [
        {
          "output_type": "stream",
          "text": [
            "95%% confidence interval for a difference between proportions: (-0.0341571385110543, 0.002157138511054299)\n"
          ],
          "name": "stdout"
        }
      ]
    },
    {
      "cell_type": "code",
      "metadata": {
        "id": "_htQlIE4DwUF",
        "colab_type": "code",
        "colab": {
          "base_uri": "https://localhost:8080/",
          "height": 34
        },
        "outputId": "8a8dafa9-dd55-49d0-93d4-1fd051d80f7b"
      },
      "source": [
        "print (f\"p-value: {proportions_diff_z_test(proportions_diff_z_stat_ind(data.banner_a, data.banner_b))}\")"
      ],
      "execution_count": 11,
      "outputs": [
        {
          "output_type": "stream",
          "text": [
            "p-value: 0.08437869601106662\n"
          ],
          "name": "stdout"
        }
      ]
    },
    {
      "cell_type": "code",
      "metadata": {
        "id": "0nzOhlt6DwUH",
        "colab_type": "code",
        "colab": {
          "base_uri": "https://localhost:8080/",
          "height": 34
        },
        "outputId": "d1476d5e-0325-40a2-9e36-7c449e4e90f9"
      },
      "source": [
        "print (f\"p-value: {proportions_diff_z_test(proportions_diff_z_stat_ind(data.banner_a, data.banner_b), 'less')}\")"
      ],
      "execution_count": 12,
      "outputs": [
        {
          "output_type": "stream",
          "text": [
            "p-value: 0.042189348005533284\n"
          ],
          "name": "stdout"
        }
      ]
    },
    {
      "cell_type": "markdown",
      "metadata": {
        "id": "tJZvmUoqDwUJ",
        "colab_type": "text"
      },
      "source": [
        "## Z-test for a proportion (dependant samples)"
      ]
    },
    {
      "cell_type": "markdown",
      "metadata": {
        "id": "O4W8Ah5bDwUK",
        "colab_type": "text"
      },
      "source": [
        "  $X_1$ \\ $X_2$ | 1| 0 | $\\sum$\n",
        "  ------------- | -------------|\n",
        "  1  | e | f | e + f\n",
        "  0  | g | h | g + h\n",
        "  $\\sum$ | e + g| f + h | n  \n",
        "  \n",
        "$$ \\hat{p}_1 = \\frac{e + f}{n}$$\n",
        "\n",
        "$$ \\hat{p}_2 = \\frac{e + g}{n}$$\n",
        "\n",
        "$$ \\hat{p}_1 - \\hat{p}_2 = \\frac{f - g}{n}$$\n",
        "\n",
        "\n",
        "$$\\text{Доверительный интервал для }p_1 - p_2\\colon \\;\\;  \\frac{f - g}{n} \\pm z_{1-\\frac{\\alpha}{2}}\\sqrt{\\frac{f + g}{n^2} - \\frac{(f - g)^2}{n^3}}$$\n",
        "\n",
        "$$Z-статистика: Z({X_1, X_2}) = \\frac{f - g}{\\sqrt{f + g - \\frac{(f-g)^2}{n}}}$$"
      ]
    },
    {
      "cell_type": "code",
      "metadata": {
        "id": "xmzK6zuTDwUK",
        "colab_type": "code",
        "colab": {}
      },
      "source": [
        "def proportions_diff_confint_rel(sample1, sample2, alpha = 0.05):\n",
        "    z = scipy.stats.norm.ppf(1 - alpha / 2.)\n",
        "    sample = list(zip(sample1, sample2))\n",
        "    n = len(sample)\n",
        "        \n",
        "    f = sum([1 if (x[0] == 1 and x[1] == 0) else 0 for x in sample])\n",
        "    g = sum([1 if (x[0] == 0 and x[1] == 1) else 0 for x in sample])\n",
        "    \n",
        "    left_boundary = float(f - g) / n  - z * np.sqrt(float((f + g)) / n**2 - float((f - g)**2) / n**3)\n",
        "    right_boundary = float(f - g) / n  + z * np.sqrt(float((f + g)) / n**2 - float((f - g)**2) / n**3)\n",
        "    return (left_boundary, right_boundary)"
      ],
      "execution_count": 0,
      "outputs": []
    },
    {
      "cell_type": "code",
      "metadata": {
        "id": "AM6F686jDwUN",
        "colab_type": "code",
        "colab": {}
      },
      "source": [
        "def proportions_diff_z_stat_rel(sample1, sample2):\n",
        "    sample = list(zip(sample1, sample2))\n",
        "    n = len(sample)\n",
        "    \n",
        "    f = sum([1 if (x[0] == 1 and x[1] == 0) else 0 for x in sample])\n",
        "    g = sum([1 if (x[0] == 0 and x[1] == 1) else 0 for x in sample])\n",
        "    \n",
        "    return float(f - g) / np.sqrt(f + g - float((f - g)**2) / n )"
      ],
      "execution_count": 0,
      "outputs": []
    },
    {
      "cell_type": "code",
      "metadata": {
        "id": "E0rrfFMNDwUO",
        "colab_type": "code",
        "colab": {
          "base_uri": "https://localhost:8080/",
          "height": 34
        },
        "outputId": "0570dd41-960d-4bc3-cbdc-de0dc76fd466"
      },
      "source": [
        "print (f\"95%% confidence interval for a difference between proportions: {proportions_diff_confint_rel(data.banner_a, data.banner_b)}\")"
      ],
      "execution_count": 15,
      "outputs": [
        {
          "output_type": "stream",
          "text": [
            "95%% confidence interval for a difference between proportions: (-0.02668926335921826, -0.00531073664078174)\n"
          ],
          "name": "stdout"
        }
      ]
    },
    {
      "cell_type": "code",
      "metadata": {
        "id": "xP1IPOEdDwUQ",
        "colab_type": "code",
        "colab": {
          "base_uri": "https://localhost:8080/",
          "height": 34
        },
        "outputId": "d825a904-79df-4e5e-a790-baf96d0f0813"
      },
      "source": [
        "print (f\"p-value: {proportions_diff_z_test(proportions_diff_z_stat_rel(data.banner_a, data.banner_b))}\")"
      ],
      "execution_count": 16,
      "outputs": [
        {
          "output_type": "stream",
          "text": [
            "p-value: 0.0033491428465450834\n"
          ],
          "name": "stdout"
        }
      ]
    },
    {
      "cell_type": "code",
      "metadata": {
        "id": "4p_29AaFDwUS",
        "colab_type": "code",
        "colab": {
          "base_uri": "https://localhost:8080/",
          "height": 34
        },
        "outputId": "e4f330f9-4ff9-4d80-9e32-53d09c0f990a"
      },
      "source": [
        "print (f\"p-value: {proportions_diff_z_test(proportions_diff_z_stat_rel(data.banner_a, data.banner_b), 'less')}\")"
      ],
      "execution_count": 17,
      "outputs": [
        {
          "output_type": "stream",
          "text": [
            "p-value: 0.0016745714232725471\n"
          ],
          "name": "stdout"
        }
      ]
    }
  ]
}