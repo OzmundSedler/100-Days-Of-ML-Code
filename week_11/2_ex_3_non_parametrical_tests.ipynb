{
  "nbformat": 4,
  "nbformat_minor": 0,
  "metadata": {
    "colab": {
      "name": "2.ex-2.non_parametrical_tests.ipynb",
      "version": "0.3.2",
      "provenance": [],
      "collapsed_sections": []
    },
    "kernelspec": {
      "name": "python3",
      "display_name": "Python 3"
    },
    "accelerator": "GPU"
  },
  "cells": [
    {
      "cell_type": "markdown",
      "metadata": {
        "id": "HEwo6AkdPzVI",
        "colab_type": "text"
      },
      "source": [
        "### Libs"
      ]
    },
    {
      "cell_type": "code",
      "metadata": {
        "id": "sQcbClBULnxa",
        "colab_type": "code",
        "colab": {}
      },
      "source": [
        "import itertools\n",
        "\n",
        "import numpy as np\n",
        "import pandas as pd\n",
        "\n",
        "from scipy import stats\n",
        "from statsmodels.stats.descriptivestats import sign_test\n",
        "from statsmodels.stats.weightstats import zconfint"
      ],
      "execution_count": 0,
      "outputs": []
    },
    {
      "cell_type": "code",
      "metadata": {
        "id": "o7Ztz8f2Lui7",
        "colab_type": "code",
        "colab": {
          "base_uri": "https://localhost:8080/",
          "height": 34
        },
        "outputId": "84b5f551-e463-4014-d0ce-c1bd6d6cca0d"
      },
      "source": [
        "%pylab inline"
      ],
      "execution_count": 2,
      "outputs": [
        {
          "output_type": "stream",
          "text": [
            "Populating the interactive namespace from numpy and matplotlib\n"
          ],
          "name": "stdout"
        }
      ]
    },
    {
      "cell_type": "markdown",
      "metadata": {
        "id": "uj4bPnHILXPl",
        "colab_type": "text"
      },
      "source": [
        "### Task 1"
      ]
    },
    {
      "cell_type": "markdown",
      "metadata": {
        "id": "QF8obqjWLV_w",
        "colab_type": "text"
      },
      "source": [
        "Let's take a look at the data on the survival of patients with leukocyte lymphoma with the criteria: 49, 58, 75, 110, 112, 132, 151, 276, 281, 362 * The residual life time from the start of observation was measured (in weeks); the study lasted up to 7 years, unknown. To evaluate the hypothesis H0: medX = 200, the criterion of sign ranks can be used - it can be assumed that the patient's waiting time should be exactly 362, while this observation does not affect. Sign rank criteria test this hypothesis against a two-sided alternative, provide an achievable significance level, rounding to fourteen digits after the decimal point."
      ]
    },
    {
      "cell_type": "code",
      "metadata": {
        "id": "MwvF-mzhKxp8",
        "colab_type": "code",
        "colab": {}
      },
      "source": [
        "patients_data = np.array([49, 58, 75, 110, 112, 132, 151, 276, 281, 362])"
      ],
      "execution_count": 0,
      "outputs": []
    },
    {
      "cell_type": "code",
      "metadata": {
        "id": "DXyV6iK8L3lw",
        "colab_type": "code",
        "colab": {
          "base_uri": "https://localhost:8080/",
          "height": 269
        },
        "outputId": "a66eea1a-5809-4959-cc57-c4adef7c8670"
      },
      "source": [
        "pylab.hist(patients_data)\n",
        "pylab.show()"
      ],
      "execution_count": 4,
      "outputs": [
        {
          "output_type": "display_data",
          "data": {
            "image/png": "[encoded data removed]",
            "text/plain": [
              "<Figure size 432x288 with 1 Axes>"
            ]
          },
          "metadata": {
            "tags": []
          }
        }
      ]
    },
    {
      "cell_type": "code",
      "metadata": {
        "id": "Q6HTzWKhMAzt",
        "colab_type": "code",
        "colab": {}
      },
      "source": [
        "h0_med = 200.0"
      ],
      "execution_count": 0,
      "outputs": []
    },
    {
      "cell_type": "code",
      "metadata": {
        "id": "yz6RocQUL7jd",
        "colab_type": "code",
        "colab": {
          "base_uri": "https://localhost:8080/",
          "height": 34
        },
        "outputId": "f51f94df-9638-4af6-95b8-b1e2e5f0434a"
      },
      "source": [
        "print (\"M: %d, p-value: %f\" % sign_test(patients_data, h0_med))"
      ],
      "execution_count": 6,
      "outputs": [
        {
          "output_type": "stream",
          "text": [
            "M: -2, p-value: 0.343750\n"
          ],
          "name": "stdout"
        }
      ]
    },
    {
      "cell_type": "code",
      "metadata": {
        "id": "ip_tmA-ONZnK",
        "colab_type": "code",
        "colab": {
          "base_uri": "https://localhost:8080/",
          "height": 34
        },
        "outputId": "4174f919-da3a-4cc3-d8e8-3a0d20f01ac6"
      },
      "source": [
        "stats.wilcoxon(patients_data - h0_med)"
      ],
      "execution_count": 7,
      "outputs": [
        {
          "output_type": "execute_result",
          "data": {
            "text/plain": [
              "WilcoxonResult(statistic=17.0, pvalue=0.2845026979112075)"
            ]
          },
          "metadata": {
            "tags": []
          },
          "execution_count": 7
        }
      ]
    },
    {
      "cell_type": "markdown",
      "metadata": {
        "id": "-5w3JecRNzyQ",
        "colab_type": "text"
      },
      "source": [
        "### Task 2\n"
      ]
    },
    {
      "cell_type": "markdown",
      "metadata": {
        "id": "CM1EwIL2Ov8Q",
        "colab_type": "text"
      },
      "source": [
        "In the study of the impact of logging on the biodiversity of forests of the island of Borneo, data were collected on the number of tree species in 12 forests where deforestation is not carried out:\n",
        "\n",
        "22, 22, 15, 13, 19, 19, 18, 20, 21, 13, 13, 15,22,22,15,13,19,19,18,20,21,13,13,15,\n",
        "\n",
        "and in 9 forests where deforestation is taking place:\n",
        "\n",
        "17, 18, 18, 15, 12, 4, 14, 15, 10.17,18,18,15,12,4,14,15,10.\n",
        "\n",
        "Test the hypothesis that the average number of species is equal in two types of forests versus the one-sided alternative of reducing biodiversity in deforestation.\n",
        "Use rank criteria. What is the achieved significance level? Round up to four digits after the decimal point."
      ]
    },
    {
      "cell_type": "code",
      "metadata": {
        "id": "xroPqlvnN8sj",
        "colab_type": "code",
        "colab": {}
      },
      "source": [
        "forest_not_cut_species_rate = np.array([22, 22, 15, 13, 19, 19, 18, 20, 21, 13, 13, 15,22,22,15,13,19,19,18,20,21,13,13,15])\n",
        "forest_cut_species_rate = np.array([17, 18, 18, 15, 12, 4, 14, 15, 10.17,18,18,15,12,4,14,15,10])\n"
      ],
      "execution_count": 0,
      "outputs": []
    },
    {
      "cell_type": "code",
      "metadata": {
        "id": "l1DAbFUaOTrX",
        "colab_type": "code",
        "colab": {
          "base_uri": "https://localhost:8080/",
          "height": 284
        },
        "outputId": "a75644eb-efd1-4c3d-8bf5-262675a83fe4"
      },
      "source": [
        "pylab.figure(figsize=(12,4))\n",
        "\n",
        "pylab.subplot(1,2,1)\n",
        "pylab.grid()\n",
        "pylab.hist(forest_not_cut_species_rate, color = 'r')\n",
        "pylab.xlabel('forest_not_cut_species_rate')\n",
        "\n",
        "pylab.subplot(1,2,2)\n",
        "pylab.grid()\n",
        "pylab.hist(forest_cut_species_rate, color = 'b')\n",
        "pylab.xlabel('forest_cut_species_rate')\n",
        "\n",
        "pylab.show()"
      ],
      "execution_count": 9,
      "outputs": [
        {
          "output_type": "display_data",
          "data": {
            "image/png": "[encoded data removed]",
            "text/plain": [
              "<Figure size 864x288 with 2 Axes>"
            ]
          },
          "metadata": {
            "tags": []
          }
        }
      ]
    },
    {
      "cell_type": "code",
      "metadata": {
        "id": "BKIXerlpOtbj",
        "colab_type": "code",
        "colab": {
          "base_uri": "https://localhost:8080/",
          "height": 34
        },
        "outputId": "d4d80fb7-4438-488c-abce-08856f2d118e"
      },
      "source": [
        "print (f'95%% confidence interval for the mean of not cutted forest: {zconfint(forest_not_cut_species_rate)}')"
      ],
      "execution_count": 10,
      "outputs": [
        {
          "output_type": "stream",
          "text": [
            "95%% confidence interval for the mean of not cutted forest: (16.119126696149653, 18.880873303850347)\n"
          ],
          "name": "stdout"
        }
      ]
    },
    {
      "cell_type": "code",
      "metadata": {
        "id": "YTBJEgk2PC8X",
        "colab_type": "code",
        "colab": {
          "base_uri": "https://localhost:8080/",
          "height": 34
        },
        "outputId": "b6530831-c576-4445-b086-c1140376d13e"
      },
      "source": [
        "print (f'95%% confidence interval for the mean of cutted forest: {zconfint(forest_cut_species_rate)}')"
      ],
      "execution_count": 11,
      "outputs": [
        {
          "output_type": "stream",
          "text": [
            "95%% confidence interval for the mean of cutted forest: (11.384539263917045, 15.576637206671194)\n"
          ],
          "name": "stdout"
        }
      ]
    },
    {
      "cell_type": "code",
      "metadata": {
        "id": "cbzH9SawPQdx",
        "colab_type": "code",
        "colab": {
          "base_uri": "https://localhost:8080/",
          "height": 34
        },
        "outputId": "5ac8f90b-0f80-444f-ca18-d6fef55c1796"
      },
      "source": [
        "stats.mannwhitneyu(forest_not_cut_species_rate, forest_cut_species_rate)"
      ],
      "execution_count": 12,
      "outputs": [
        {
          "output_type": "execute_result",
          "data": {
            "text/plain": [
              "MannwhitneyuResult(statistic=98.0, pvalue=0.0024476071679050988)"
            ]
          },
          "metadata": {
            "tags": []
          },
          "execution_count": 12
        }
      ]
    },
    {
      "cell_type": "markdown",
      "metadata": {
        "id": "qzbzUtrBPURj",
        "colab_type": "text"
      },
      "source": [
        "### Task 3"
      ]
    },
    {
      "cell_type": "markdown",
      "metadata": {
        "id": "QK1JZT_pPVvg",
        "colab_type": "text"
      },
      "source": [
        "On January 28, 1986, the space shuttle Challenger exploded on takeoff. Seven astronauts aboard were killed. During the investigation of the causes of the disaster, the main version was a malfunction with rubber o-rings in connection with rocket boosters. For the 23 previous Challenger flights, the air temperature and the occurrence of damage to at least one of the o-rings are known.\n",
        "\n",
        "Using a bootstrap, build a 95% confidence interval for the difference in average air temperatures during starts when the o-rings are damaged and starts when there is no damage. What is its border closest to zero? Round up to four decimal places.\n",
        "\n",
        "Make 1000 pseudo-samples from each sample."
      ]
    },
    {
      "cell_type": "code",
      "metadata": {
        "id": "QTw1CUExPdo6",
        "colab_type": "code",
        "colab": {}
      },
      "source": [
        "temperature_data = pd.read_csv('https://raw.githubusercontent.com/OzmundSedler/100-Days-Of-ML-Code/master/week_11/datasets/challenger.txt', sep='\\t', index_col=0)"
      ],
      "execution_count": 0,
      "outputs": []
    },
    {
      "cell_type": "code",
      "metadata": {
        "id": "qxH9OLyhQd7F",
        "colab_type": "code",
        "colab": {
          "base_uri": "https://localhost:8080/",
          "height": 136
        },
        "outputId": "7b62e7ad-0d83-4d3a-d19b-374838df9119"
      },
      "source": [
        "temperature_data.info()"
      ],
      "execution_count": 14,
      "outputs": [
        {
          "output_type": "stream",
          "text": [
            "<class 'pandas.core.frame.DataFrame'>\n",
            "Index: 23 entries, Apr12.81 to Jan12.86\n",
            "Data columns (total 2 columns):\n",
            "Temperature    23 non-null float64\n",
            "Incident       23 non-null int64\n",
            "dtypes: float64(1), int64(1)\n",
            "memory usage: 552.0+ bytes\n"
          ],
          "name": "stdout"
        }
      ]
    },
    {
      "cell_type": "code",
      "metadata": {
        "id": "vswoJPGbQgLi",
        "colab_type": "code",
        "colab": {
          "base_uri": "https://localhost:8080/",
          "height": 204
        },
        "outputId": "279b8873-861c-48bf-8afa-d829e7248156"
      },
      "source": [
        "temperature_data.head()"
      ],
      "execution_count": 15,
      "outputs": [
        {
          "output_type": "execute_result",
          "data": {
            "text/html": [
              "<div>\n",
              "<style scoped>\n",
              "    .dataframe tbody tr th:only-of-type {\n",
              "        vertical-align: middle;\n",
              "    }\n",
              "\n",
              "    .dataframe tbody tr th {\n",
              "        vertical-align: top;\n",
              "    }\n",
              "\n",
              "    .dataframe thead th {\n",
              "        text-align: right;\n",
              "    }\n",
              "</style>\n",
              "<table border=\"1\" class=\"dataframe\">\n",
              "  <thead>\n",
              "    <tr style=\"text-align: right;\">\n",
              "      <th></th>\n",
              "      <th>Temperature</th>\n",
              "      <th>Incident</th>\n",
              "    </tr>\n",
              "  </thead>\n",
              "  <tbody>\n",
              "    <tr>\n",
              "      <th>Apr12.81</th>\n",
              "      <td>18.9</td>\n",
              "      <td>0</td>\n",
              "    </tr>\n",
              "    <tr>\n",
              "      <th>Nov12.81</th>\n",
              "      <td>21.1</td>\n",
              "      <td>1</td>\n",
              "    </tr>\n",
              "    <tr>\n",
              "      <th>Mar22.82</th>\n",
              "      <td>20.6</td>\n",
              "      <td>0</td>\n",
              "    </tr>\n",
              "    <tr>\n",
              "      <th>Nov11.82</th>\n",
              "      <td>20.0</td>\n",
              "      <td>0</td>\n",
              "    </tr>\n",
              "    <tr>\n",
              "      <th>Apr04.83</th>\n",
              "      <td>19.4</td>\n",
              "      <td>0</td>\n",
              "    </tr>\n",
              "  </tbody>\n",
              "</table>\n",
              "</div>"
            ],
            "text/plain": [
              "          Temperature  Incident\n",
              "Apr12.81         18.9         0\n",
              "Nov12.81         21.1         1\n",
              "Mar22.82         20.6         0\n",
              "Nov11.82         20.0         0\n",
              "Apr04.83         19.4         0"
            ]
          },
          "metadata": {
            "tags": []
          },
          "execution_count": 15
        }
      ]
    },
    {
      "cell_type": "code",
      "metadata": {
        "id": "awS5fFoPeOW3",
        "colab_type": "code",
        "colab": {}
      },
      "source": [
        "succeeded_launches_temperature = temperature_data[temperature_data['Incident']==0]['Temperature']\n",
        "failed_launches_temperature = temperature_data[temperature_data['Incident']==1]['Temperature']"
      ],
      "execution_count": 0,
      "outputs": []
    },
    {
      "cell_type": "code",
      "metadata": {
        "id": "8968L4UidoIZ",
        "colab_type": "code",
        "colab": {}
      },
      "source": [
        "succeeded_launches_temperature_mean = succeeded_launches_temperature.mean()\n",
        "failed_launches_temperature_mean = failed_launches_temperature.mean()"
      ],
      "execution_count": 0,
      "outputs": []
    },
    {
      "cell_type": "code",
      "metadata": {
        "id": "kOUAMc0adst0",
        "colab_type": "code",
        "colab": {
          "base_uri": "https://localhost:8080/",
          "height": 51
        },
        "outputId": "002ce851-b456-4dab-8811-4a739828a2a5"
      },
      "source": [
        "print (f'Succeeded Launches Temperature Mean: {succeeded_launches_temperature_mean}')\n",
        "print (f'Failed Launches Temperature Mean: {failed_launches_temperature_mean}')"
      ],
      "execution_count": 18,
      "outputs": [
        {
          "output_type": "stream",
          "text": [
            "Succeeded Launches Temperature Mean: 22.28125\n",
            "Failed Launches Temperature Mean: 17.614285714285717\n"
          ],
          "name": "stdout"
        }
      ]
    },
    {
      "cell_type": "code",
      "metadata": {
        "id": "CEhJ2R2aeAjQ",
        "colab_type": "code",
        "colab": {}
      },
      "source": [
        "def get_bootstrap_samples(data, n_samples):\n",
        "    indices = np.random.randint(0, len(data), (n_samples, len(data)))\n",
        "    samples = data[indices]\n",
        "    return samples"
      ],
      "execution_count": 0,
      "outputs": []
    },
    {
      "cell_type": "code",
      "metadata": {
        "id": "1ZkZQdv3eGli",
        "colab_type": "code",
        "colab": {}
      },
      "source": [
        "def stat_intervals(stat, alpha):\n",
        "    boundaries = np.percentile(stat, [100 * alpha / 2., 100 * (1 - alpha / 2.)])\n",
        "    return boundaries"
      ],
      "execution_count": 0,
      "outputs": []
    },
    {
      "cell_type": "code",
      "metadata": {
        "id": "OaXpr2mgeKGL",
        "colab_type": "code",
        "colab": {}
      },
      "source": [
        "np.random.seed(0)\n",
        "failed_launches_temperature_bs_mean = np.array(list(map(np.mean, get_bootstrap_samples(failed_launches_temperature.values, 1000))))\n",
        "succeeded_launches_temperature_bs_mean = np.array(list(map(np.mean, get_bootstrap_samples(succeeded_launches_temperature.values, 1000))))"
      ],
      "execution_count": 0,
      "outputs": []
    },
    {
      "cell_type": "code",
      "metadata": {
        "id": "06-1Zp6JfLqN",
        "colab_type": "code",
        "colab": {
          "base_uri": "https://localhost:8080/",
          "height": 34
        },
        "outputId": "8eac9477-4fb6-4ea4-f27e-05486daefacd"
      },
      "source": [
        "print('95%% confidence interval for times decrease of infarction: %s' %\n",
        "      str(stat_intervals(failed_launches_temperature_bs_mean - succeeded_launches_temperature_bs_mean, 0.05)))"
      ],
      "execution_count": 22,
      "outputs": [
        {
          "output_type": "stream",
          "text": [
            "95% confidence interval for times decrease of infarction: [-8.06457589 -1.45040179]\n"
          ],
          "name": "stdout"
        }
      ]
    },
    {
      "cell_type": "markdown",
      "metadata": {
        "id": "45LyWmp_PfvS",
        "colab_type": "text"
      },
      "source": [
        "On the data of the previous task, check the hypothesis about the same average air temperature in the days when the o-rings were damaged, and the days when there was no damage. Use a permutation criterion and a two-way alternative. What is the achieved significance level? Round up to four digits after the decimal point.\n",
        "\n",
        "To get the same value as us:\n",
        "\n",
        "set random seed = 0;\n",
        "take 10,000 permutations."
      ]
    },
    {
      "cell_type": "code",
      "metadata": {
        "id": "Qb0HidFFPgsR",
        "colab_type": "code",
        "colab": {}
      },
      "source": [
        "def permutation_t_stat_ind(sample1, sample2):\n",
        "    return np.mean(sample1) - np.mean(sample2)"
      ],
      "execution_count": 0,
      "outputs": []
    },
    {
      "cell_type": "code",
      "metadata": {
        "id": "b7dSMnI8foUM",
        "colab_type": "code",
        "colab": {}
      },
      "source": [
        "def get_random_combinations(n1, n2, max_combinations):\n",
        "    index = list(range(n1 + n2))\n",
        "    indices = set([tuple(index)])\n",
        "    for i in range(max_combinations - 1):\n",
        "        np.random.shuffle(index)\n",
        "        indices.add(tuple(index))\n",
        "    return [(index[:n1], index[n1:]) for index in indices]"
      ],
      "execution_count": 0,
      "outputs": []
    },
    {
      "cell_type": "code",
      "metadata": {
        "id": "fewTZR1rfqiL",
        "colab_type": "code",
        "colab": {}
      },
      "source": [
        "def permutation_zero_dist_ind(sample1, sample2, max_combinations=None):\n",
        "    joined_sample = np.hstack((sample1, sample2))\n",
        "    n1 = len(sample1)\n",
        "    n = len(joined_sample)\n",
        "    \n",
        "    if max_combinations:\n",
        "        indices = get_random_combinations(n1, len(sample2), max_combinations)\n",
        "    else:\n",
        "        indices = [(list(index), filter(lambda i: i not in index, range(n))) \\\n",
        "                    for index in itertools.combinations(range(n), n1)]\n",
        "    \n",
        "    distr = [joined_sample[list(i[0])].mean() - joined_sample[list(i[1])].mean() \\\n",
        "             for i in indices]\n",
        "    return distr"
      ],
      "execution_count": 0,
      "outputs": []
    },
    {
      "cell_type": "code",
      "metadata": {
        "id": "ygvH1-GifsUG",
        "colab_type": "code",
        "colab": {}
      },
      "source": [
        "def permutation_test(sample, mean, max_permutations = None, alternative='two-sided'):\n",
        "    if alternative not in ('two-sided', 'less', 'greater'):\n",
        "        raise ValueError(\"alternative not recognized\\n\"\n",
        "                         \"should be 'two-sided', 'less' or 'greater'\")\n",
        "    \n",
        "    t_stat = permutation_t_stat_ind(sample, mean)\n",
        "    \n",
        "    zero_distr = permutation_zero_dist_ind(sample, mean, max_permutations)\n",
        "    \n",
        "    if alternative == 'two-sided':\n",
        "        return sum([1. if abs(x) >= abs(t_stat) else 0. for x in zero_distr]) / len(zero_distr)\n",
        "    \n",
        "    if alternative == 'less':\n",
        "        return sum([1. if x <= t_stat else 0. for x in zero_distr]) / len(zero_distr)\n",
        "\n",
        "    if alternative == 'greater':\n",
        "        return sum([1. if x >= t_stat else 0. for x in zero_distr]) / len(zero_distr)"
      ],
      "execution_count": 0,
      "outputs": []
    },
    {
      "cell_type": "code",
      "metadata": {
        "id": "YIKLYrZNfwUX",
        "colab_type": "code",
        "colab": {
          "base_uri": "https://localhost:8080/",
          "height": 34
        },
        "outputId": "5fca4cb3-8dd6-43dc-a98a-71f9c97fe62e"
      },
      "source": [
        "np.random.seed(0)\n",
        "print('p-value: %.4f' % permutation_test(failed_launches_temperature,\n",
        "                                         succeeded_launches_temperature,\n",
        "                                         max_permutations=10000))"
      ],
      "execution_count": 27,
      "outputs": [
        {
          "output_type": "stream",
          "text": [
            "p-value: 0.0057\n"
          ],
          "name": "stdout"
        }
      ]
    }
  ]
}