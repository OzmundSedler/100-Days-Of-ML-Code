{
  "nbformat": 4,
  "nbformat_minor": 0,
  "metadata": {
    "kernelspec": {
      "name": "python3",
      "display_name": "Python 3"
    },
    "colab": {
      "name": "2.ln-2.stat.non_parametric_tests_1sample.ipynb",
      "version": "0.3.2",
      "provenance": [],
      "collapsed_sections": []
    },
    "accelerator": "GPU"
  },
  "cells": [
    {
      "cell_type": "markdown",
      "metadata": {
        "id": "I-PKp17cQg7i",
        "colab_type": "text"
      },
      "source": [
        "# Nonparametric Tests"
      ]
    },
    {
      "cell_type": "markdown",
      "metadata": {
        "id": "AH18QmzaQg7j",
        "colab_type": "text"
      },
      "source": [
        "  \n",
        "\n",
        "*   Sign tests\n",
        "*   Ranks tests\n",
        "*   Permutations tests"
      ]
    },
    {
      "cell_type": "markdown",
      "metadata": {
        "id": "Jx5WoKQmQg7k",
        "colab_type": "text"
      },
      "source": [
        "## Mirrors as potential environmental enrichment for individually housed laboratory mice"
      ]
    },
    {
      "cell_type": "markdown",
      "metadata": {
        "id": "lAht-qPqQg7l",
        "colab_type": "text"
      },
      "source": [
        "(Sherwin, 2004): 16 laboratory mice were placed in two-room cages, a mirror hung in one of the rooms. To establish whether mice have any preferences for mirrors, we measured the fraction of time that each mouse spent in each of its two cells."
      ]
    },
    {
      "cell_type": "code",
      "metadata": {
        "id": "A4cGjMabQg7l",
        "colab_type": "code",
        "colab": {}
      },
      "source": [
        "import itertools\n",
        "\n",
        "import numpy as np\n",
        "import pandas as pd\n",
        "\n",
        "from scipy import stats\n",
        "from statsmodels.stats.descriptivestats import sign_test\n",
        "from statsmodels.stats.weightstats import zconfint"
      ],
      "execution_count": 0,
      "outputs": []
    },
    {
      "cell_type": "code",
      "metadata": {
        "id": "m0upxzmUQg7o",
        "colab_type": "code",
        "colab": {
          "base_uri": "https://localhost:8080/",
          "height": 34
        },
        "outputId": "9c9d5298-018e-463c-92b7-457736f6bb28"
      },
      "source": [
        "%pylab inline"
      ],
      "execution_count": 2,
      "outputs": [
        {
          "output_type": "stream",
          "text": [
            "Populating the interactive namespace from numpy and matplotlib\n"
          ],
          "name": "stdout"
        }
      ]
    },
    {
      "cell_type": "markdown",
      "metadata": {
        "id": "mZr0qAzjQg7r",
        "colab_type": "text"
      },
      "source": [
        "### Data loading"
      ]
    },
    {
      "cell_type": "code",
      "metadata": {
        "id": "NwKEDXG5Qg7r",
        "colab_type": "code",
        "colab": {}
      },
      "source": [
        "mouses_data = pd.read_csv('https://raw.githubusercontent.com/OzmundSedler/100-Days-Of-ML-Code/master/week_11/datasets/mirror_mouses.txt', header = None)\n",
        "mouses_data.columns = ['proportion_of_time']"
      ],
      "execution_count": 0,
      "outputs": []
    },
    {
      "cell_type": "code",
      "metadata": {
        "id": "HqslEXQUQg7t",
        "colab_type": "code",
        "colab": {
          "base_uri": "https://localhost:8080/",
          "height": 545
        },
        "outputId": "e0fa6f45-d6d7-4f98-fa04-89ce040a26ef"
      },
      "source": [
        "mouses_data"
      ],
      "execution_count": 4,
      "outputs": [
        {
          "output_type": "execute_result",
          "data": {
            "text/html": [
              "<div>\n",
              "<style scoped>\n",
              "    .dataframe tbody tr th:only-of-type {\n",
              "        vertical-align: middle;\n",
              "    }\n",
              "\n",
              "    .dataframe tbody tr th {\n",
              "        vertical-align: top;\n",
              "    }\n",
              "\n",
              "    .dataframe thead th {\n",
              "        text-align: right;\n",
              "    }\n",
              "</style>\n",
              "<table border=\"1\" class=\"dataframe\">\n",
              "  <thead>\n",
              "    <tr style=\"text-align: right;\">\n",
              "      <th></th>\n",
              "      <th>proportion_of_time</th>\n",
              "    </tr>\n",
              "  </thead>\n",
              "  <tbody>\n",
              "    <tr>\n",
              "      <th>0</th>\n",
              "      <td>0.348471</td>\n",
              "    </tr>\n",
              "    <tr>\n",
              "      <th>1</th>\n",
              "      <td>0.640620</td>\n",
              "    </tr>\n",
              "    <tr>\n",
              "      <th>2</th>\n",
              "      <td>0.549818</td>\n",
              "    </tr>\n",
              "    <tr>\n",
              "      <th>3</th>\n",
              "      <td>0.537454</td>\n",
              "    </tr>\n",
              "    <tr>\n",
              "      <th>4</th>\n",
              "      <td>0.400444</td>\n",
              "    </tr>\n",
              "    <tr>\n",
              "      <th>5</th>\n",
              "      <td>0.426292</td>\n",
              "    </tr>\n",
              "    <tr>\n",
              "      <th>6</th>\n",
              "      <td>0.417156</td>\n",
              "    </tr>\n",
              "    <tr>\n",
              "      <th>7</th>\n",
              "      <td>0.477977</td>\n",
              "    </tr>\n",
              "    <tr>\n",
              "      <th>8</th>\n",
              "      <td>0.450657</td>\n",
              "    </tr>\n",
              "    <tr>\n",
              "      <th>9</th>\n",
              "      <td>0.476602</td>\n",
              "    </tr>\n",
              "    <tr>\n",
              "      <th>10</th>\n",
              "      <td>0.488677</td>\n",
              "    </tr>\n",
              "    <tr>\n",
              "      <th>11</th>\n",
              "      <td>0.484741</td>\n",
              "    </tr>\n",
              "    <tr>\n",
              "      <th>12</th>\n",
              "      <td>0.481614</td>\n",
              "    </tr>\n",
              "    <tr>\n",
              "      <th>13</th>\n",
              "      <td>0.489406</td>\n",
              "    </tr>\n",
              "    <tr>\n",
              "      <th>14</th>\n",
              "      <td>0.467365</td>\n",
              "    </tr>\n",
              "    <tr>\n",
              "      <th>15</th>\n",
              "      <td>0.467330</td>\n",
              "    </tr>\n",
              "  </tbody>\n",
              "</table>\n",
              "</div>"
            ],
            "text/plain": [
              "    proportion_of_time\n",
              "0             0.348471\n",
              "1             0.640620\n",
              "2             0.549818\n",
              "3             0.537454\n",
              "4             0.400444\n",
              "5             0.426292\n",
              "6             0.417156\n",
              "7             0.477977\n",
              "8             0.450657\n",
              "9             0.476602\n",
              "10            0.488677\n",
              "11            0.484741\n",
              "12            0.481614\n",
              "13            0.489406\n",
              "14            0.467365\n",
              "15            0.467330"
            ]
          },
          "metadata": {
            "tags": []
          },
          "execution_count": 4
        }
      ]
    },
    {
      "cell_type": "code",
      "metadata": {
        "id": "nO5Y2Ww0Qg7v",
        "colab_type": "code",
        "colab": {
          "base_uri": "https://localhost:8080/",
          "height": 297
        },
        "outputId": "d365afe9-0ef5-421c-bacd-c908d8a15dbe"
      },
      "source": [
        "mouses_data.describe()"
      ],
      "execution_count": 5,
      "outputs": [
        {
          "output_type": "execute_result",
          "data": {
            "text/html": [
              "<div>\n",
              "<style scoped>\n",
              "    .dataframe tbody tr th:only-of-type {\n",
              "        vertical-align: middle;\n",
              "    }\n",
              "\n",
              "    .dataframe tbody tr th {\n",
              "        vertical-align: top;\n",
              "    }\n",
              "\n",
              "    .dataframe thead th {\n",
              "        text-align: right;\n",
              "    }\n",
              "</style>\n",
              "<table border=\"1\" class=\"dataframe\">\n",
              "  <thead>\n",
              "    <tr style=\"text-align: right;\">\n",
              "      <th></th>\n",
              "      <th>proportion_of_time</th>\n",
              "    </tr>\n",
              "  </thead>\n",
              "  <tbody>\n",
              "    <tr>\n",
              "      <th>count</th>\n",
              "      <td>16.000000</td>\n",
              "    </tr>\n",
              "    <tr>\n",
              "      <th>mean</th>\n",
              "      <td>0.475289</td>\n",
              "    </tr>\n",
              "    <tr>\n",
              "      <th>std</th>\n",
              "      <td>0.066065</td>\n",
              "    </tr>\n",
              "    <tr>\n",
              "      <th>min</th>\n",
              "      <td>0.348471</td>\n",
              "    </tr>\n",
              "    <tr>\n",
              "      <th>25%</th>\n",
              "      <td>0.444566</td>\n",
              "    </tr>\n",
              "    <tr>\n",
              "      <th>50%</th>\n",
              "      <td>0.477289</td>\n",
              "    </tr>\n",
              "    <tr>\n",
              "      <th>75%</th>\n",
              "      <td>0.488859</td>\n",
              "    </tr>\n",
              "    <tr>\n",
              "      <th>max</th>\n",
              "      <td>0.640620</td>\n",
              "    </tr>\n",
              "  </tbody>\n",
              "</table>\n",
              "</div>"
            ],
            "text/plain": [
              "       proportion_of_time\n",
              "count           16.000000\n",
              "mean             0.475289\n",
              "std              0.066065\n",
              "min              0.348471\n",
              "25%              0.444566\n",
              "50%              0.477289\n",
              "75%              0.488859\n",
              "max              0.640620"
            ]
          },
          "metadata": {
            "tags": []
          },
          "execution_count": 5
        }
      ]
    },
    {
      "cell_type": "code",
      "metadata": {
        "id": "TsMPOdTfQg7x",
        "colab_type": "code",
        "colab": {
          "base_uri": "https://localhost:8080/",
          "height": 269
        },
        "outputId": "19780a2e-fe53-4f61-dc94-6ce1d3a5596f"
      },
      "source": [
        "pylab.hist(mouses_data.proportion_of_time)\n",
        "pylab.show()"
      ],
      "execution_count": 6,
      "outputs": [
        {
          "output_type": "display_data",
          "data": {
            "image/png": "[encoded data removed]",
            "text/plain": [
              "<Figure size 432x288 with 1 Axes>"
            ]
          },
          "metadata": {
            "tags": []
          }
        }
      ]
    },
    {
      "cell_type": "markdown",
      "metadata": {
        "id": "Y4-USQAzQg7z",
        "colab_type": "text"
      },
      "source": [
        "## One-sample tests"
      ]
    },
    {
      "cell_type": "code",
      "metadata": {
        "id": "tPNsVDldQg70",
        "colab_type": "code",
        "colab": {
          "base_uri": "https://localhost:8080/",
          "height": 34
        },
        "outputId": "1233a66c-140a-4218-dbe1-fa73cac802ff"
      },
      "source": [
        "print ('95%% confidence interval for the mean time: [%f, %f]' % zconfint(mouses_data))"
      ],
      "execution_count": 8,
      "outputs": [
        {
          "output_type": "stream",
          "text": [
            "95% confidence interval for the mean time: [0.442918, 0.507660]\n"
          ],
          "name": "stdout"
        }
      ]
    },
    {
      "cell_type": "markdown",
      "metadata": {
        "id": "G65TZna3Qg72",
        "colab_type": "text"
      },
      "source": [
        "### One-sampple sign test"
      ]
    },
    {
      "cell_type": "markdown",
      "metadata": {
        "id": "oy4UTUxnQg72",
        "colab_type": "text"
      },
      "source": [
        "$ H_0 \\ colon $ median of the fraction of time spent in a cell with a mirror is 0.5\n",
        "\n",
        "$ H_1 \\ colon $ median of the fraction of time spent in a cell with a mirror is not equal to 0.5"
      ]
    },
    {
      "cell_type": "code",
      "metadata": {
        "id": "7sWGCgAvQg73",
        "colab_type": "code",
        "colab": {
          "base_uri": "https://localhost:8080/",
          "height": 34
        },
        "outputId": "cabf93e1-df0a-41da-bdab-1aef5e8d15a0"
      },
      "source": [
        "print (\"M: %d, p-value: %f\" % sign_test(mouses_data, 0.5))"
      ],
      "execution_count": 12,
      "outputs": [
        {
          "output_type": "stream",
          "text": [
            "M: -5, p-value: 0.021271\n"
          ],
          "name": "stdout"
        }
      ]
    },
    {
      "cell_type": "markdown",
      "metadata": {
        "id": "s3gdez0nQg75",
        "colab_type": "text"
      },
      "source": [
        "### 1-sample Wilcoxon signed rank test"
      ]
    },
    {
      "cell_type": "code",
      "metadata": {
        "id": "QNWzpwnOQg75",
        "colab_type": "code",
        "colab": {
          "base_uri": "https://localhost:8080/",
          "height": 34
        },
        "outputId": "729654be-9ab7-42cc-bb2f-04c44108ddf5"
      },
      "source": [
        "m0 = 0.5\n",
        "stats.wilcoxon(mouses_data.proportion_of_time - m0)"
      ],
      "execution_count": 13,
      "outputs": [
        {
          "output_type": "execute_result",
          "data": {
            "text/plain": [
              "WilcoxonResult(statistic=35.0, pvalue=0.08793560714236243)"
            ]
          },
          "metadata": {
            "tags": []
          },
          "execution_count": 13
        }
      ]
    },
    {
      "cell_type": "markdown",
      "metadata": {
        "id": "hUsy275wQg77",
        "colab_type": "text"
      },
      "source": [
        "### Permutation test"
      ]
    },
    {
      "cell_type": "markdown",
      "metadata": {
        "collapsed": true,
        "id": "FDmKPe_EQg78",
        "colab_type": "text"
      },
      "source": [
        "$ H_0 \\ colon $ average is 0.5\n",
        "\n",
        "$ H_1 \\ colon $ average is not 0.5"
      ]
    },
    {
      "cell_type": "code",
      "metadata": {
        "id": "s0D-K-6dQg78",
        "colab_type": "code",
        "colab": {}
      },
      "source": [
        "def permutation_t_stat_1sample(sample, mean):\n",
        "    t_stat = sum(list(map(lambda x: x - mean, sample)))\n",
        "    return t_stat"
      ],
      "execution_count": 0,
      "outputs": []
    },
    {
      "cell_type": "code",
      "metadata": {
        "id": "oYbDQtSGQg7-",
        "colab_type": "code",
        "colab": {
          "base_uri": "https://localhost:8080/",
          "height": 34
        },
        "outputId": "121805f8-8248-4584-9877-b29ba54dc2ec"
      },
      "source": [
        "permutation_t_stat_1sample(mouses_data.proportion_of_time, 0.5)"
      ],
      "execution_count": 17,
      "outputs": [
        {
          "output_type": "execute_result",
          "data": {
            "text/plain": [
              "-0.3953776999999997"
            ]
          },
          "metadata": {
            "tags": []
          },
          "execution_count": 17
        }
      ]
    },
    {
      "cell_type": "code",
      "metadata": {
        "id": "tOXxoE56Qg8B",
        "colab_type": "code",
        "colab": {}
      },
      "source": [
        "def permutation_zero_distr_1sample(sample, mean, max_permutations = None):\n",
        "    centered_sample = list(map(lambda x: x - mean, sample))\n",
        "    if max_permutations:\n",
        "        signs_array = set([tuple(x) for x in 2 * np.random.randint(2, size = (max_permutations, \n",
        "                                                                              len(sample))) - 1 ])\n",
        "    else:\n",
        "        signs_array =  itertools.product([-1, 1], repeat = len(sample))\n",
        "    distr = [sum(centered_sample * np.array(signs)) for signs in signs_array]\n",
        "    return distr"
      ],
      "execution_count": 0,
      "outputs": []
    },
    {
      "cell_type": "code",
      "metadata": {
        "id": "AGsekQbkQg8C",
        "colab_type": "code",
        "colab": {
          "base_uri": "https://localhost:8080/",
          "height": 269
        },
        "outputId": "fbdf189f-a8a3-4e1a-c6dc-b14e215662aa"
      },
      "source": [
        "pylab.hist(permutation_zero_distr_1sample(mouses_data.proportion_of_time, 0.5), bins = 15)\n",
        "pylab.show()"
      ],
      "execution_count": 21,
      "outputs": [
        {
          "output_type": "display_data",
          "data": {
            "image/png": "[encoded data removed]",
            "text/plain": [
              "<Figure size 432x288 with 1 Axes>"
            ]
          },
          "metadata": {
            "tags": []
          }
        }
      ]
    },
    {
      "cell_type": "code",
      "metadata": {
        "id": "fUfhq4H3Qg8E",
        "colab_type": "code",
        "colab": {}
      },
      "source": [
        "def permutation_test(sample, mean, max_permutations = None, alternative = 'two-sided'):\n",
        "    if alternative not in ('two-sided', 'less', 'greater'):\n",
        "        raise ValueError(\"alternative not recognized\\n\"\n",
        "                         \"should be 'two-sided', 'less' or 'greater'\")\n",
        "    \n",
        "    t_stat = permutation_t_stat_1sample(sample, mean)\n",
        "    \n",
        "    zero_distr = permutation_zero_distr_1sample(sample, mean, max_permutations)\n",
        "    \n",
        "    if alternative == 'two-sided':\n",
        "        return sum([1. if abs(x) >= abs(t_stat) else 0. for x in zero_distr]) / len(zero_distr)\n",
        "    \n",
        "    if alternative == 'less':\n",
        "        return sum([1. if x <= t_stat else 0. for x in zero_distr]) / len(zero_distr)\n",
        "\n",
        "    if alternative == 'greater':\n",
        "        return sum([1. if x >= t_stat else 0. for x in zero_distr]) / len(zero_distr)"
      ],
      "execution_count": 0,
      "outputs": []
    },
    {
      "cell_type": "code",
      "metadata": {
        "id": "cLmVLNXGQg8G",
        "colab_type": "code",
        "colab": {
          "base_uri": "https://localhost:8080/",
          "height": 34
        },
        "outputId": "19fb4b99-fbc4-4d87-9ad4-273ccd8bc7f2"
      },
      "source": [
        "print (\"p-value: %f\" % permutation_test(mouses_data.proportion_of_time, 0.5))"
      ],
      "execution_count": 24,
      "outputs": [
        {
          "output_type": "stream",
          "text": [
            "p-value: 0.157776\n"
          ],
          "name": "stdout"
        }
      ]
    },
    {
      "cell_type": "code",
      "metadata": {
        "id": "Ac4ipmIFQg8I",
        "colab_type": "code",
        "colab": {
          "base_uri": "https://localhost:8080/",
          "height": 34
        },
        "outputId": "38c52240-c4f7-4f5d-b88c-2c8ef5984e95"
      },
      "source": [
        "print (\"p-value: %f\" % permutation_test(mouses_data.proportion_of_time, 0.5, 10000))"
      ],
      "execution_count": 26,
      "outputs": [
        {
          "output_type": "stream",
          "text": [
            "p-value: 0.160795\n"
          ],
          "name": "stdout"
        }
      ]
    }
  ]
}