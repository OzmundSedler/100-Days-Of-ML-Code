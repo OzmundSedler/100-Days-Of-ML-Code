{
  "nbformat": 4,
  "nbformat_minor": 0,
  "metadata": {
    "kernelspec": {
      "display_name": "Python 2",
      "language": "python",
      "name": "python2"
    },
    "language_info": {
      "codemirror_mode": {
        "name": "ipython",
        "version": 2
      },
      "file_extension": ".py",
      "mimetype": "text/x-python",
      "name": "python",
      "nbconvert_exporter": "python",
      "pygments_lexer": "ipython2",
      "version": "2.7.11"
    },
    "colab": {
      "name": "2.ln-4.stat.non_parametric_tests_rel.ipynb",
      "version": "0.3.2",
      "provenance": [],
      "collapsed_sections": []
    }
  },
  "cells": [
    {
      "cell_type": "markdown",
      "metadata": {
        "id": "DweDWvL-UbTz",
        "colab_type": "text"
      },
      "source": [
        "# Nonparametric Tests"
      ]
    },
    {
      "cell_type": "markdown",
      "metadata": {
        "id": "QgO3lJYaUbTz",
        "colab_type": "text"
      },
      "source": [
        "*   Sign tests\n",
        "*   Ranks tests\n",
        "*   Permutations tests"
      ]
    },
    {
      "cell_type": "markdown",
      "metadata": {
        "id": "nE5uEvpeUbT0",
        "colab_type": "text"
      },
      "source": [
        "## Anorexia Therapy"
      ]
    },
    {
      "cell_type": "markdown",
      "metadata": {
        "id": "xYgJ4hU4UbT1",
        "colab_type": "text"
      },
      "source": [
        "The study evaluates the effectiveness of behavioral therapy for the treatment of anorexia. For 50 patients, weight is known before and after therapy. Was the therapy effective?"
      ]
    },
    {
      "cell_type": "code",
      "metadata": {
        "id": "cIjRKob6UbT1",
        "colab_type": "code",
        "colab": {}
      },
      "source": [
        "import itertools\n",
        "\n",
        "import numpy as np\n",
        "import pandas as pd\n",
        "\n",
        "from scipy import stats\n",
        "from statsmodels.stats.descriptivestats import sign_test\n",
        "from statsmodels.stats.weightstats import zconfint"
      ],
      "execution_count": 0,
      "outputs": []
    },
    {
      "cell_type": "code",
      "metadata": {
        "id": "NJ9WhH0dUbT4",
        "colab_type": "code",
        "colab": {
          "base_uri": "https://localhost:8080/",
          "height": 34
        },
        "outputId": "c298ed33-b30c-4b80-aa06-c39fa25f24c3"
      },
      "source": [
        "%pylab inline"
      ],
      "execution_count": 2,
      "outputs": [
        {
          "output_type": "stream",
          "text": [
            "Populating the interactive namespace from numpy and matplotlib\n"
          ],
          "name": "stdout"
        }
      ]
    },
    {
      "cell_type": "markdown",
      "metadata": {
        "id": "epcuFmxwUbT6",
        "colab_type": "text"
      },
      "source": [
        "### Data generation"
      ]
    },
    {
      "cell_type": "code",
      "metadata": {
        "id": "gHc7hcccUbT7",
        "colab_type": "code",
        "colab": {}
      },
      "source": [
        "weight_data = pd.read_csv('https://raw.githubusercontent.com/OzmundSedler/100-Days-Of-ML-Code/master/week_11/datasets/weight.txt', sep = '\\t', header = 0)"
      ],
      "execution_count": 0,
      "outputs": []
    },
    {
      "cell_type": "code",
      "metadata": {
        "id": "H3FZdBvBU9Mf",
        "colab_type": "code",
        "colab": {
          "base_uri": "https://localhost:8080/",
          "height": 136
        },
        "outputId": "f8ba3b55-58cb-4dc0-8b56-452dc938346a"
      },
      "source": [
        "weight_data.info()"
      ],
      "execution_count": 6,
      "outputs": [
        {
          "output_type": "stream",
          "text": [
            "<class 'pandas.core.frame.DataFrame'>\n",
            "RangeIndex: 29 entries, 0 to 28\n",
            "Data columns (total 2 columns):\n",
            "Before    29 non-null float64\n",
            "After     29 non-null float64\n",
            "dtypes: float64(2)\n",
            "memory usage: 536.0 bytes\n"
          ],
          "name": "stdout"
        }
      ]
    },
    {
      "cell_type": "code",
      "metadata": {
        "id": "LiQ1_MnpUbT9",
        "colab_type": "code",
        "colab": {
          "base_uri": "https://localhost:8080/",
          "height": 204
        },
        "outputId": "f645ea40-a36f-4cab-c403-397f81fbe27a"
      },
      "source": [
        "weight_data.head()"
      ],
      "execution_count": 4,
      "outputs": [
        {
          "output_type": "execute_result",
          "data": {
            "text/html": [
              "<div>\n",
              "<style scoped>\n",
              "    .dataframe tbody tr th:only-of-type {\n",
              "        vertical-align: middle;\n",
              "    }\n",
              "\n",
              "    .dataframe tbody tr th {\n",
              "        vertical-align: top;\n",
              "    }\n",
              "\n",
              "    .dataframe thead th {\n",
              "        text-align: right;\n",
              "    }\n",
              "</style>\n",
              "<table border=\"1\" class=\"dataframe\">\n",
              "  <thead>\n",
              "    <tr style=\"text-align: right;\">\n",
              "      <th></th>\n",
              "      <th>Before</th>\n",
              "      <th>After</th>\n",
              "    </tr>\n",
              "  </thead>\n",
              "  <tbody>\n",
              "    <tr>\n",
              "      <th>0</th>\n",
              "      <td>80.5</td>\n",
              "      <td>82.2</td>\n",
              "    </tr>\n",
              "    <tr>\n",
              "      <th>1</th>\n",
              "      <td>84.9</td>\n",
              "      <td>85.6</td>\n",
              "    </tr>\n",
              "    <tr>\n",
              "      <th>2</th>\n",
              "      <td>81.5</td>\n",
              "      <td>81.4</td>\n",
              "    </tr>\n",
              "    <tr>\n",
              "      <th>3</th>\n",
              "      <td>82.6</td>\n",
              "      <td>81.9</td>\n",
              "    </tr>\n",
              "    <tr>\n",
              "      <th>4</th>\n",
              "      <td>79.9</td>\n",
              "      <td>76.4</td>\n",
              "    </tr>\n",
              "  </tbody>\n",
              "</table>\n",
              "</div>"
            ],
            "text/plain": [
              "   Before  After\n",
              "0    80.5   82.2\n",
              "1    84.9   85.6\n",
              "2    81.5   81.4\n",
              "3    82.6   81.9\n",
              "4    79.9   76.4"
            ]
          },
          "metadata": {
            "tags": []
          },
          "execution_count": 4
        }
      ]
    },
    {
      "cell_type": "code",
      "metadata": {
        "id": "dZdlCBfuU5ii",
        "colab_type": "code",
        "colab": {
          "base_uri": "https://localhost:8080/",
          "height": 297
        },
        "outputId": "06ceef5d-87a4-42b3-888c-2e41667ef679"
      },
      "source": [
        "weight_data.describe()"
      ],
      "execution_count": 5,
      "outputs": [
        {
          "output_type": "execute_result",
          "data": {
            "text/html": [
              "<div>\n",
              "<style scoped>\n",
              "    .dataframe tbody tr th:only-of-type {\n",
              "        vertical-align: middle;\n",
              "    }\n",
              "\n",
              "    .dataframe tbody tr th {\n",
              "        vertical-align: top;\n",
              "    }\n",
              "\n",
              "    .dataframe thead th {\n",
              "        text-align: right;\n",
              "    }\n",
              "</style>\n",
              "<table border=\"1\" class=\"dataframe\">\n",
              "  <thead>\n",
              "    <tr style=\"text-align: right;\">\n",
              "      <th></th>\n",
              "      <th>Before</th>\n",
              "      <th>After</th>\n",
              "    </tr>\n",
              "  </thead>\n",
              "  <tbody>\n",
              "    <tr>\n",
              "      <th>count</th>\n",
              "      <td>29.000000</td>\n",
              "      <td>29.000000</td>\n",
              "    </tr>\n",
              "    <tr>\n",
              "      <th>mean</th>\n",
              "      <td>82.689655</td>\n",
              "      <td>85.696552</td>\n",
              "    </tr>\n",
              "    <tr>\n",
              "      <th>std</th>\n",
              "      <td>4.845495</td>\n",
              "      <td>8.351924</td>\n",
              "    </tr>\n",
              "    <tr>\n",
              "      <th>min</th>\n",
              "      <td>70.000000</td>\n",
              "      <td>71.300000</td>\n",
              "    </tr>\n",
              "    <tr>\n",
              "      <th>25%</th>\n",
              "      <td>80.400000</td>\n",
              "      <td>81.900000</td>\n",
              "    </tr>\n",
              "    <tr>\n",
              "      <th>50%</th>\n",
              "      <td>82.600000</td>\n",
              "      <td>83.900000</td>\n",
              "    </tr>\n",
              "    <tr>\n",
              "      <th>75%</th>\n",
              "      <td>85.000000</td>\n",
              "      <td>90.900000</td>\n",
              "    </tr>\n",
              "    <tr>\n",
              "      <th>max</th>\n",
              "      <td>94.900000</td>\n",
              "      <td>103.600000</td>\n",
              "    </tr>\n",
              "  </tbody>\n",
              "</table>\n",
              "</div>"
            ],
            "text/plain": [
              "          Before       After\n",
              "count  29.000000   29.000000\n",
              "mean   82.689655   85.696552\n",
              "std     4.845495    8.351924\n",
              "min    70.000000   71.300000\n",
              "25%    80.400000   81.900000\n",
              "50%    82.600000   83.900000\n",
              "75%    85.000000   90.900000\n",
              "max    94.900000  103.600000"
            ]
          },
          "metadata": {
            "tags": []
          },
          "execution_count": 5
        }
      ]
    },
    {
      "cell_type": "code",
      "metadata": {
        "id": "Zz2RUN5yUbT_",
        "colab_type": "code",
        "colab": {
          "base_uri": "https://localhost:8080/",
          "height": 283
        },
        "outputId": "c1d157dc-1746-44e3-830b-0048e108c9d3"
      },
      "source": [
        "pylab.figure(figsize=(12,4))\n",
        "\n",
        "pylab.subplot(1,2,1)\n",
        "pylab.grid()\n",
        "pylab.hist(weight_data.Before, color = 'r')\n",
        "pylab.xlabel('Before')\n",
        "\n",
        "pylab.subplot(1,2,2)\n",
        "pylab.grid()\n",
        "pylab.hist(weight_data.After, color = 'b')\n",
        "pylab.xlabel('After')\n",
        "\n",
        "pylab.show()"
      ],
      "execution_count": 7,
      "outputs": [
        {
          "output_type": "display_data",
          "data": {
            "image/png": "[encoded data removed]",
            "text/plain": [
              "<Figure size 864x288 with 2 Axes>"
            ]
          },
          "metadata": {
            "tags": []
          }
        }
      ]
    },
    {
      "cell_type": "markdown",
      "metadata": {
        "id": "72y1IdmQUbUD",
        "colab_type": "text"
      },
      "source": [
        "## Two-sample tests for dependant samples\n"
      ]
    },
    {
      "cell_type": "markdown",
      "metadata": {
        "id": "ySHpvztwUbUE",
        "colab_type": "text"
      },
      "source": [
        "$ H_0 \\ colon $ median weight before and after therapy is the same\n",
        "\n",
        "$ H_1 \\ colon $ median weights before and after terapia are different"
      ]
    },
    {
      "cell_type": "code",
      "metadata": {
        "id": "f6cYV_wUUbUF",
        "colab_type": "code",
        "colab": {
          "base_uri": "https://localhost:8080/",
          "height": 34
        },
        "outputId": "84db220c-488d-470e-e823-30c90cc88ef4"
      },
      "source": [
        "print ('95%% confidence interval for mean weight before therapy: [%f, %f]' % zconfint(weight_data.Before))"
      ],
      "execution_count": 8,
      "outputs": [
        {
          "output_type": "stream",
          "text": [
            "95% confidence interval for mean weight before therapy: [80.926107, 84.453203]\n"
          ],
          "name": "stdout"
        }
      ]
    },
    {
      "cell_type": "code",
      "metadata": {
        "id": "JT0HS5KOUbUH",
        "colab_type": "code",
        "colab": {
          "base_uri": "https://localhost:8080/",
          "height": 34
        },
        "outputId": "e567617b-113e-4c16-8947-9746196104aa"
      },
      "source": [
        "print ('95%% confidence interval for mean weight after therapy: [%f, %f]' % zconfint(weight_data.After))"
      ],
      "execution_count": 9,
      "outputs": [
        {
          "output_type": "stream",
          "text": [
            "95% confidence interval for mean weight after therapy: [82.656817, 88.736286]\n"
          ],
          "name": "stdout"
        }
      ]
    },
    {
      "cell_type": "code",
      "metadata": {
        "id": "fuIDkvMwUbUI",
        "colab_type": "code",
        "colab": {
          "base_uri": "https://localhost:8080/",
          "height": 269
        },
        "outputId": "092bbb0d-3fc8-4b07-9f24-40e335ffe8e3"
      },
      "source": [
        "pylab.hist(weight_data.After - weight_data.Before)\n",
        "pylab.show()"
      ],
      "execution_count": 10,
      "outputs": [
        {
          "output_type": "display_data",
          "data": {
            "image/png": "[encoded data removed]",
            "text/plain": [
              "<Figure size 432x288 with 1 Axes>"
            ]
          },
          "metadata": {
            "tags": []
          }
        }
      ]
    },
    {
      "cell_type": "markdown",
      "metadata": {
        "id": "87p8_TqdUbUK",
        "colab_type": "text"
      },
      "source": [
        "### Sign test"
      ]
    },
    {
      "cell_type": "markdown",
      "metadata": {
        "id": "Vv8JZ8KiUbUL",
        "colab_type": "text"
      },
      "source": [
        "$H_0\\colon P\\left(X_1>X_2\\right)=\\frac1{2},$\n",
        "\n",
        "$H_1\\colon P\\left(X_1>X_2\\right)\\neq\\frac1{2}$"
      ]
    },
    {
      "cell_type": "code",
      "metadata": {
        "id": "FP1nzj_zUbUL",
        "colab_type": "code",
        "colab": {
          "base_uri": "https://localhost:8080/",
          "height": 34
        },
        "outputId": "2c3d64de-503c-4571-b285-0c59c066cc76"
      },
      "source": [
        "print (\"M: %d, p-value: %f\" % sign_test(weight_data.After - weight_data.Before))"
      ],
      "execution_count": 11,
      "outputs": [
        {
          "output_type": "stream",
          "text": [
            "M: 3, p-value: 0.264931\n"
          ],
          "name": "stdout"
        }
      ]
    },
    {
      "cell_type": "markdown",
      "metadata": {
        "id": "FEaYEPGAUbUN",
        "colab_type": "text"
      },
      "source": [
        "### Wilcoxon Signed Rank test"
      ]
    },
    {
      "cell_type": "markdown",
      "metadata": {
        "id": "30uLZ9voUbUO",
        "colab_type": "text"
      },
      "source": [
        "$H_0\\colon med\\left(X_1-X_2\\right)=0,$\n",
        "\n",
        "$H_1\\colon med\\left(X_1-X_2\\right)\\neq0$"
      ]
    },
    {
      "cell_type": "code",
      "metadata": {
        "id": "TSYaann-UbUO",
        "colab_type": "code",
        "colab": {
          "base_uri": "https://localhost:8080/",
          "height": 34
        },
        "outputId": "7dccfb02-2375-4caa-ebb9-5d6f220a6a55"
      },
      "source": [
        "stats.wilcoxon(weight_data.After, weight_data.Before)"
      ],
      "execution_count": 12,
      "outputs": [
        {
          "output_type": "execute_result",
          "data": {
            "text/plain": [
              "WilcoxonResult(statistic=131.5, pvalue=0.06291972262602667)"
            ]
          },
          "metadata": {
            "tags": []
          },
          "execution_count": 12
        }
      ]
    },
    {
      "cell_type": "markdown",
      "metadata": {
        "id": "j73yAIivUbUS",
        "colab_type": "text"
      },
      "source": [
        "### Permutation test"
      ]
    },
    {
      "cell_type": "markdown",
      "metadata": {
        "collapsed": true,
        "id": "GjZBRJC5UbUT",
        "colab_type": "text"
      },
      "source": [
        "$H_0\\colon \\mathbb{E}(X_1 - X_2) = 0$\n",
        "\n",
        "$H_1\\colon \\mathbb{E}(X_1 - X_2) \\neq 0$"
      ]
    },
    {
      "cell_type": "code",
      "metadata": {
        "id": "5XG0nUXlUbUT",
        "colab_type": "code",
        "colab": {}
      },
      "source": [
        "def permutation_t_stat_1sample(sample, mean):\n",
        "    t_stat = sum(map(lambda x: x - mean, sample))\n",
        "    return t_stat"
      ],
      "execution_count": 0,
      "outputs": []
    },
    {
      "cell_type": "code",
      "metadata": {
        "id": "RhKkPSwrUbUV",
        "colab_type": "code",
        "colab": {}
      },
      "source": [
        "def permutation_zero_distr_1sample(sample, mean, max_permutations = None):\n",
        "    centered_sample = list(map(lambda x: x - mean, sample))\n",
        "    if max_permutations:\n",
        "        signs_array = set([tuple(x) for x in 2 * np.random.randint(2, size = (max_permutations, \n",
        "                                                                              len(sample))) - 1 ])\n",
        "    else:\n",
        "        signs_array =  itertools.product([-1, 1], repeat = len(sample))\n",
        "    distr = [sum(centered_sample * np.array(signs)) for signs in signs_array]\n",
        "    return distr"
      ],
      "execution_count": 0,
      "outputs": []
    },
    {
      "cell_type": "code",
      "metadata": {
        "id": "rrPDrmTqUbUX",
        "colab_type": "code",
        "colab": {
          "base_uri": "https://localhost:8080/",
          "height": 269
        },
        "outputId": "ab155b2e-4e96-4069-bc1f-691bf9a39053"
      },
      "source": [
        "pylab.hist(permutation_zero_distr_1sample(weight_data.After - weight_data.Before, 0., \n",
        "                               max_permutations = 10000))\n",
        "pylab.show()"
      ],
      "execution_count": 16,
      "outputs": [
        {
          "output_type": "display_data",
          "data": {
            "image/png": "[encoded data removed]",
            "text/plain": [
              "<Figure size 432x288 with 1 Axes>"
            ]
          },
          "metadata": {
            "tags": []
          }
        }
      ]
    },
    {
      "cell_type": "code",
      "metadata": {
        "id": "sMNgmhAPUbUZ",
        "colab_type": "code",
        "colab": {}
      },
      "source": [
        "def permutation_test(sample, mean, max_permutations = None, alternative = 'two-sided'):\n",
        "    if alternative not in ('two-sided', 'less', 'greater'):\n",
        "        raise ValueError(\"alternative not recognized\\n\"\n",
        "                         \"should be 'two-sided', 'less' or 'greater'\")\n",
        "    \n",
        "    t_stat = permutation_t_stat_1sample(sample, mean)\n",
        "    \n",
        "    zero_distr = permutation_zero_distr_1sample(sample, mean, max_permutations)\n",
        "    \n",
        "    if alternative == 'two-sided':\n",
        "        return sum([1. if abs(x) >= abs(t_stat) else 0. for x in zero_distr]) / len(zero_distr)\n",
        "    \n",
        "    if alternative == 'less':\n",
        "        return sum([1. if x <= t_stat else 0. for x in zero_distr]) / len(zero_distr)\n",
        "\n",
        "    if alternative == 'greater':\n",
        "        return sum([1. if x >= t_stat else 0. for x in zero_distr]) / len(zero_distr)"
      ],
      "execution_count": 0,
      "outputs": []
    },
    {
      "cell_type": "code",
      "metadata": {
        "id": "-9T5Edd8UbUc",
        "colab_type": "code",
        "colab": {
          "base_uri": "https://localhost:8080/",
          "height": 34
        },
        "outputId": "0a0182a0-a2b4-4a5f-b03e-6409d8ffd0f0"
      },
      "source": [
        "print (\"p-value: %f\" % permutation_test(weight_data.After - weight_data.Before, 0., \n",
        "                               max_permutations = 1000))"
      ],
      "execution_count": 18,
      "outputs": [
        {
          "output_type": "stream",
          "text": [
            "p-value: 0.033000\n"
          ],
          "name": "stdout"
        }
      ]
    },
    {
      "cell_type": "code",
      "metadata": {
        "id": "xD3eaMR2UbUg",
        "colab_type": "code",
        "colab": {
          "base_uri": "https://localhost:8080/",
          "height": 34
        },
        "outputId": "327ddeaf-c0a3-4810-c5ad-0d082f1bbbc2"
      },
      "source": [
        "print (\"p-value: %f\" % permutation_test(weight_data.After - weight_data.Before, 0., \n",
        "                               max_permutations = 50000))"
      ],
      "execution_count": 19,
      "outputs": [
        {
          "output_type": "stream",
          "text": [
            "p-value: 0.032723\n"
          ],
          "name": "stdout"
        }
      ]
    }
  ]
}