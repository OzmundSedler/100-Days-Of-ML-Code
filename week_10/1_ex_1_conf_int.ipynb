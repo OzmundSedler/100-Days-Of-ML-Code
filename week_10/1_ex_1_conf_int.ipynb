{
  "nbformat": 4,
  "nbformat_minor": 0,
  "metadata": {
    "colab": {
      "name": "1.ex-1.conf_int.ipynb",
      "version": "0.3.2",
      "provenance": [],
      "collapsed_sections": []
    },
    "kernelspec": {
      "name": "python3",
      "display_name": "Python 3"
    },
    "accelerator": "GPU"
  },
  "cells": [
    {
      "cell_type": "markdown",
      "metadata": {
        "id": "ag2VKvL32ps9",
        "colab_type": "text"
      },
      "source": [
        "## Lib imports\n"
      ]
    },
    {
      "cell_type": "code",
      "metadata": {
        "id": "JtTQn7YRqNLN",
        "colab_type": "code",
        "colab": {}
      },
      "source": [
        "import numpy as np\n",
        "import pandas as pd\n",
        "\n",
        "from sklearn import datasets, linear_model, metrics\n",
        "from sklearn.model_selection import cross_validate, train_test_split, cross_val_score\n",
        "\n",
        "from statsmodels.stats.weightstats import _tconfint_generic"
      ],
      "execution_count": 0,
      "outputs": []
    },
    {
      "cell_type": "code",
      "metadata": {
        "id": "0DPYs3omqQMX",
        "colab_type": "code",
        "outputId": "70e240e6-8cc3-491c-b59b-77e0e7762dad",
        "colab": {
          "base_uri": "https://localhost:8080/",
          "height": 34
        }
      },
      "source": [
        "%pylab inline"
      ],
      "execution_count": 0,
      "outputs": [
        {
          "output_type": "stream",
          "text": [
            "Populating the interactive namespace from numpy and matplotlib\n"
          ],
          "name": "stdout"
        }
      ]
    },
    {
      "cell_type": "markdown",
      "metadata": {
        "id": "UI8A7XcV2uof",
        "colab_type": "text"
      },
      "source": [
        "## Data import"
      ]
    },
    {
      "cell_type": "code",
      "metadata": {
        "id": "PFDePpKxiKqF",
        "colab_type": "code",
        "colab": {}
      },
      "source": [
        "water_data = pd.read_csv('https://raw.githubusercontent.com/OzmundSedler/100-Days-Of-ML-Code/master/week_10/datasets/water.txt',\n",
        "                       sep='\\t', skipinitialspace=True, low_memory=False)"
      ],
      "execution_count": 0,
      "outputs": []
    },
    {
      "cell_type": "code",
      "metadata": {
        "id": "OB6auZoZrv3T",
        "colab_type": "code",
        "outputId": "68344ff2-1b35-4a87-ddb4-651d2589dde5",
        "colab": {
          "base_uri": "https://localhost:8080/",
          "height": 170
        }
      },
      "source": [
        "water_data.info()"
      ],
      "execution_count": 0,
      "outputs": [
        {
          "output_type": "stream",
          "text": [
            "<class 'pandas.core.frame.DataFrame'>\n",
            "RangeIndex: 61 entries, 0 to 60\n",
            "Data columns (total 4 columns):\n",
            "location     61 non-null object\n",
            "town         61 non-null object\n",
            "mortality    61 non-null int64\n",
            "hardness     61 non-null int64\n",
            "dtypes: int64(2), object(2)\n",
            "memory usage: 2.0+ KB\n"
          ],
          "name": "stdout"
        }
      ]
    },
    {
      "cell_type": "code",
      "metadata": {
        "id": "rB9Geoa9r-lw",
        "colab_type": "code",
        "outputId": "da149b31-01c3-4899-8927-3673b6cffd32",
        "colab": {
          "base_uri": "https://localhost:8080/",
          "height": 297
        }
      },
      "source": [
        "water_data.describe()"
      ],
      "execution_count": 0,
      "outputs": [
        {
          "output_type": "execute_result",
          "data": {
            "text/html": [
              "<div>\n",
              "<style scoped>\n",
              "    .dataframe tbody tr th:only-of-type {\n",
              "        vertical-align: middle;\n",
              "    }\n",
              "\n",
              "    .dataframe tbody tr th {\n",
              "        vertical-align: top;\n",
              "    }\n",
              "\n",
              "    .dataframe thead th {\n",
              "        text-align: right;\n",
              "    }\n",
              "</style>\n",
              "<table border=\"1\" class=\"dataframe\">\n",
              "  <thead>\n",
              "    <tr style=\"text-align: right;\">\n",
              "      <th></th>\n",
              "      <th>mortality</th>\n",
              "      <th>hardness</th>\n",
              "    </tr>\n",
              "  </thead>\n",
              "  <tbody>\n",
              "    <tr>\n",
              "      <th>count</th>\n",
              "      <td>61.000000</td>\n",
              "      <td>61.000000</td>\n",
              "    </tr>\n",
              "    <tr>\n",
              "      <th>mean</th>\n",
              "      <td>1524.147541</td>\n",
              "      <td>47.180328</td>\n",
              "    </tr>\n",
              "    <tr>\n",
              "      <th>std</th>\n",
              "      <td>187.668754</td>\n",
              "      <td>38.093966</td>\n",
              "    </tr>\n",
              "    <tr>\n",
              "      <th>min</th>\n",
              "      <td>1096.000000</td>\n",
              "      <td>5.000000</td>\n",
              "    </tr>\n",
              "    <tr>\n",
              "      <th>25%</th>\n",
              "      <td>1379.000000</td>\n",
              "      <td>14.000000</td>\n",
              "    </tr>\n",
              "    <tr>\n",
              "      <th>50%</th>\n",
              "      <td>1555.000000</td>\n",
              "      <td>39.000000</td>\n",
              "    </tr>\n",
              "    <tr>\n",
              "      <th>75%</th>\n",
              "      <td>1668.000000</td>\n",
              "      <td>75.000000</td>\n",
              "    </tr>\n",
              "    <tr>\n",
              "      <th>max</th>\n",
              "      <td>1987.000000</td>\n",
              "      <td>138.000000</td>\n",
              "    </tr>\n",
              "  </tbody>\n",
              "</table>\n",
              "</div>"
            ],
            "text/plain": [
              "         mortality    hardness\n",
              "count    61.000000   61.000000\n",
              "mean   1524.147541   47.180328\n",
              "std     187.668754   38.093966\n",
              "min    1096.000000    5.000000\n",
              "25%    1379.000000   14.000000\n",
              "50%    1555.000000   39.000000\n",
              "75%    1668.000000   75.000000\n",
              "max    1987.000000  138.000000"
            ]
          },
          "metadata": {
            "tags": []
          },
          "execution_count": 9
        }
      ]
    },
    {
      "cell_type": "code",
      "metadata": {
        "id": "zMStaaF3sANN",
        "colab_type": "code",
        "outputId": "b8ddb3fc-7efd-4440-bca4-02d6576b76ce",
        "colab": {
          "base_uri": "https://localhost:8080/",
          "height": 204
        }
      },
      "source": [
        "water_data.head()"
      ],
      "execution_count": 0,
      "outputs": [
        {
          "output_type": "execute_result",
          "data": {
            "text/html": [
              "<div>\n",
              "<style scoped>\n",
              "    .dataframe tbody tr th:only-of-type {\n",
              "        vertical-align: middle;\n",
              "    }\n",
              "\n",
              "    .dataframe tbody tr th {\n",
              "        vertical-align: top;\n",
              "    }\n",
              "\n",
              "    .dataframe thead th {\n",
              "        text-align: right;\n",
              "    }\n",
              "</style>\n",
              "<table border=\"1\" class=\"dataframe\">\n",
              "  <thead>\n",
              "    <tr style=\"text-align: right;\">\n",
              "      <th></th>\n",
              "      <th>location</th>\n",
              "      <th>town</th>\n",
              "      <th>mortality</th>\n",
              "      <th>hardness</th>\n",
              "    </tr>\n",
              "  </thead>\n",
              "  <tbody>\n",
              "    <tr>\n",
              "      <th>0</th>\n",
              "      <td>South</td>\n",
              "      <td>Bath</td>\n",
              "      <td>1247</td>\n",
              "      <td>105</td>\n",
              "    </tr>\n",
              "    <tr>\n",
              "      <th>1</th>\n",
              "      <td>North</td>\n",
              "      <td>Birkenhead</td>\n",
              "      <td>1668</td>\n",
              "      <td>17</td>\n",
              "    </tr>\n",
              "    <tr>\n",
              "      <th>2</th>\n",
              "      <td>South</td>\n",
              "      <td>Birmingham</td>\n",
              "      <td>1466</td>\n",
              "      <td>5</td>\n",
              "    </tr>\n",
              "    <tr>\n",
              "      <th>3</th>\n",
              "      <td>North</td>\n",
              "      <td>Blackburn</td>\n",
              "      <td>1800</td>\n",
              "      <td>14</td>\n",
              "    </tr>\n",
              "    <tr>\n",
              "      <th>4</th>\n",
              "      <td>North</td>\n",
              "      <td>Blackpool</td>\n",
              "      <td>1609</td>\n",
              "      <td>18</td>\n",
              "    </tr>\n",
              "  </tbody>\n",
              "</table>\n",
              "</div>"
            ],
            "text/plain": [
              "  location        town  mortality  hardness\n",
              "0    South        Bath       1247       105\n",
              "1    North  Birkenhead       1668        17\n",
              "2    South  Birmingham       1466         5\n",
              "3    North   Blackburn       1800        14\n",
              "4    North   Blackpool       1609        18"
            ]
          },
          "metadata": {
            "tags": []
          },
          "execution_count": 10
        }
      ]
    },
    {
      "cell_type": "markdown",
      "metadata": {
        "id": "xkm9TSgW2z73",
        "colab_type": "text"
      },
      "source": [
        "## Task 1\n"
      ]
    },
    {
      "cell_type": "markdown",
      "metadata": {
        "id": "eEOxGxWw22tk",
        "colab_type": "text"
      },
      "source": [
        "Calculate 95% confidence interval for the mean mortality."
      ]
    },
    {
      "cell_type": "code",
      "metadata": {
        "id": "NKGTDmA8sF51",
        "colab_type": "code",
        "colab": {}
      },
      "source": [
        "mortality_mean = water_data['mortality'].mean()"
      ],
      "execution_count": 0,
      "outputs": []
    },
    {
      "cell_type": "code",
      "metadata": {
        "id": "k-0dB7aWt18j",
        "colab_type": "code",
        "outputId": "70812115-9505-4c40-c59c-7274dc15b61b",
        "colab": {
          "base_uri": "https://localhost:8080/",
          "height": 34
        }
      },
      "source": [
        "print(mortality_mean)"
      ],
      "execution_count": 0,
      "outputs": [
        {
          "output_type": "stream",
          "text": [
            "1524.1475409836066\n"
          ],
          "name": "stdout"
        }
      ]
    },
    {
      "cell_type": "code",
      "metadata": {
        "id": "MXABcOaRsSZF",
        "colab_type": "code",
        "colab": {}
      },
      "source": [
        "mortality_mean_std = water_data['mortality'].std() / np.sqrt(water_data['mortality'].shape[0])"
      ],
      "execution_count": 0,
      "outputs": []
    },
    {
      "cell_type": "code",
      "metadata": {
        "id": "4XGyBgOdsy_R",
        "colab_type": "code",
        "colab": {}
      },
      "source": [
        "mortality_interval = _tconfint_generic(\n",
        "                          mortality_mean,\n",
        "                          mortality_mean_std,\n",
        "                          water_data['mortality'].shape[0] - 1,\n",
        "                          0.05,\n",
        "                          'two-sided',\n",
        "                      )"
      ],
      "execution_count": 0,
      "outputs": []
    },
    {
      "cell_type": "code",
      "metadata": {
        "id": "9vChjzYqtFcm",
        "colab_type": "code",
        "outputId": "0d6c5803-7dfc-4385-ddc7-58286202c115",
        "colab": {
          "base_uri": "https://localhost:8080/",
          "height": 34
        }
      },
      "source": [
        "print(f'Mortality 95%% interval: {mortality_interval}')"
      ],
      "execution_count": 0,
      "outputs": [
        {
          "output_type": "stream",
          "text": [
            "Mortality 95%% interval: (1476.0833413552848, 1572.2117406119285)\n"
          ],
          "name": "stdout"
        }
      ]
    },
    {
      "cell_type": "markdown",
      "metadata": {
        "id": "CEakRPc029fO",
        "colab_type": "text"
      },
      "source": [
        "## Task 2\n"
      ]
    },
    {
      "cell_type": "markdown",
      "metadata": {
        "id": "vVkDwgZntb9G",
        "colab_type": "text"
      },
      "source": [
        "Calculate 95% confidence interval for the South cities mean mortality."
      ]
    },
    {
      "cell_type": "code",
      "metadata": {
        "id": "nnIfeaRvuCvI",
        "colab_type": "code",
        "colab": {}
      },
      "source": [
        "south_water_data = water_data[water_data.location == 'South']"
      ],
      "execution_count": 0,
      "outputs": []
    },
    {
      "cell_type": "code",
      "metadata": {
        "id": "mpAWWdxVteA-",
        "colab_type": "code",
        "colab": {}
      },
      "source": [
        "south_mortality_mean = south_water_data['mortality'].mean()"
      ],
      "execution_count": 0,
      "outputs": []
    },
    {
      "cell_type": "code",
      "metadata": {
        "id": "hEJ1CVQyt4mg",
        "colab_type": "code",
        "outputId": "8ff65076-6cfd-4e24-bea7-381f2c4eb161",
        "colab": {
          "base_uri": "https://localhost:8080/",
          "height": 34
        }
      },
      "source": [
        "print(south_mortality_mean)"
      ],
      "execution_count": 0,
      "outputs": [
        {
          "output_type": "stream",
          "text": [
            "1376.8076923076924\n"
          ],
          "name": "stdout"
        }
      ]
    },
    {
      "cell_type": "code",
      "metadata": {
        "id": "eHO2C-f4t-6d",
        "colab_type": "code",
        "colab": {}
      },
      "source": [
        "south_mortality_mean_std = south_water_data['mortality'].std() / np.sqrt(south_water_data['mortality'].shape[0])"
      ],
      "execution_count": 0,
      "outputs": []
    },
    {
      "cell_type": "code",
      "metadata": {
        "colab_type": "code",
        "id": "ZibhTNbwt8-r",
        "colab": {}
      },
      "source": [
        "south_mortality_interval = _tconfint_generic(\n",
        "                               south_mortality_mean,\n",
        "                               south_mortality_mean_std,\n",
        "                               south_water_data['mortality'].shape[0] - 1,\n",
        "                               0.05,\n",
        "                               'two-sided',\n",
        "                           )"
      ],
      "execution_count": 0,
      "outputs": []
    },
    {
      "cell_type": "code",
      "metadata": {
        "id": "G8tyZHkguQ70",
        "colab_type": "code",
        "outputId": "92707a74-5bf6-418d-a8cb-f1f849a226ec",
        "colab": {
          "base_uri": "https://localhost:8080/",
          "height": 34
        }
      },
      "source": [
        "print(f'South mortality 95%% interval: {south_mortality_interval}')"
      ],
      "execution_count": 0,
      "outputs": [
        {
          "output_type": "stream",
          "text": [
            "South mortality 95%% interval: (1320.1517462936238, 1433.463638321761)\n"
          ],
          "name": "stdout"
        }
      ]
    },
    {
      "cell_type": "markdown",
      "metadata": {
        "id": "LEjmsW6t3A_5",
        "colab_type": "text"
      },
      "source": [
        "## Task 3"
      ]
    },
    {
      "cell_type": "markdown",
      "metadata": {
        "id": "GC0c0mWWubqb",
        "colab_type": "text"
      },
      "source": [
        "Now for the North. Do they intersect ? Make the conclusion."
      ]
    },
    {
      "cell_type": "code",
      "metadata": {
        "colab_type": "code",
        "id": "x5KLjnf6GnTV",
        "colab": {}
      },
      "source": [
        "north_water_data = water_data[water_data.location == 'North']"
      ],
      "execution_count": 0,
      "outputs": []
    },
    {
      "cell_type": "code",
      "metadata": {
        "colab_type": "code",
        "id": "MeCsQVHzGnTf",
        "colab": {}
      },
      "source": [
        "north_mortality_mean = north_water_data['mortality'].mean()"
      ],
      "execution_count": 0,
      "outputs": []
    },
    {
      "cell_type": "code",
      "metadata": {
        "colab_type": "code",
        "outputId": "380f95d0-cf1c-4538-bbdc-3c226deb7477",
        "id": "Tyop9hFKGnTh",
        "colab": {
          "base_uri": "https://localhost:8080/",
          "height": 34
        }
      },
      "source": [
        "print(north_mortality_mean)"
      ],
      "execution_count": 0,
      "outputs": [
        {
          "output_type": "stream",
          "text": [
            "1633.6\n"
          ],
          "name": "stdout"
        }
      ]
    },
    {
      "cell_type": "code",
      "metadata": {
        "colab_type": "code",
        "id": "GbpiyTdfGnTj",
        "colab": {}
      },
      "source": [
        "north_mortality_mean_std = south_water_data['mortality'].std() / np.sqrt(south_water_data['mortality'].shape[0])"
      ],
      "execution_count": 0,
      "outputs": []
    },
    {
      "cell_type": "code",
      "metadata": {
        "colab_type": "code",
        "id": "Gi7QS9UsGnTm",
        "colab": {}
      },
      "source": [
        "north_mortality_interval = _tconfint_generic(\n",
        "                               north_mortality_mean,\n",
        "                               north_mortality_mean_std,\n",
        "                               north_water_data['mortality'].shape[0] - 1,\n",
        "                               0.05,\n",
        "                               'two-sided',\n",
        "                           )"
      ],
      "execution_count": 0,
      "outputs": []
    },
    {
      "cell_type": "code",
      "metadata": {
        "colab_type": "code",
        "outputId": "023441fd-4e06-4ed1-fe38-93ece8ebc077",
        "id": "kNErTZqWGnTo",
        "colab": {
          "base_uri": "https://localhost:8080/",
          "height": 34
        }
      },
      "source": [
        "print(f'North mortality 95%% interval: {north_mortality_interval}')"
      ],
      "execution_count": 0,
      "outputs": [
        {
          "output_type": "stream",
          "text": [
            "North mortality 95%% interval: (1577.6948871516054, 1689.5051128483944)\n"
          ],
          "name": "stdout"
        }
      ]
    },
    {
      "cell_type": "markdown",
      "metadata": {
        "id": "w3dZgHgM3ErG",
        "colab_type": "text"
      },
      "source": [
        "## Task 4"
      ]
    },
    {
      "cell_type": "markdown",
      "metadata": {
        "id": "WLHKIQ7oHCUp",
        "colab_type": "text"
      },
      "source": [
        "Do the confidence intervals for water hardness (South/North) intersects?"
      ]
    },
    {
      "cell_type": "code",
      "metadata": {
        "id": "bcYExaOBHC_s",
        "colab_type": "code",
        "colab": {}
      },
      "source": [
        "south_mean_hardness = south_water_data['hardness'].mean()\n",
        "north_mean_hardness = north_water_data['hardness'].mean()"
      ],
      "execution_count": 0,
      "outputs": []
    },
    {
      "cell_type": "code",
      "metadata": {
        "id": "jb-sJGyGHJam",
        "colab_type": "code",
        "outputId": "2221f8b5-c2d6-41a4-f6db-5b9ff7fbc325",
        "colab": {
          "base_uri": "https://localhost:8080/",
          "height": 51
        }
      },
      "source": [
        "print('South mean hardness: %f' % south_mean_hardness)\n",
        "print('North mean hardness: %f' % north_mean_hardness)"
      ],
      "execution_count": 0,
      "outputs": [
        {
          "output_type": "stream",
          "text": [
            "South mean hardness: 69.769231\n",
            "North mean hardness: 30.400000\n"
          ],
          "name": "stdout"
        }
      ]
    },
    {
      "cell_type": "code",
      "metadata": {
        "id": "D-DXn06lHbfg",
        "colab_type": "code",
        "colab": {}
      },
      "source": [
        "south_mean_hardness_std = south_water_data['hardness'].std() / np.sqrt(south_water_data['hardness'].shape[0])\n",
        "north_mean_hardness_std = north_water_data['hardness'].std() / np.sqrt(north_water_data['hardness'].shape[0])"
      ],
      "execution_count": 0,
      "outputs": []
    },
    {
      "cell_type": "code",
      "metadata": {
        "id": "H6ebzispHgV7",
        "colab_type": "code",
        "outputId": "cd96661a-f5cf-43de-a1f8-724b2e899c1c",
        "colab": {
          "base_uri": "https://localhost:8080/",
          "height": 51
        }
      },
      "source": [
        "print('Hardness north 95%% interval: %s' %  str(_tconfint_generic(north_mean_hardness, north_mean_hardness_std,\n",
        "                                                                   north_water_data['hardness'].shape[0] - 1,\n",
        "                                                                   0.05, 'two-sided')))\n",
        "print('Hardness south 95%% interval: %s' %  str(_tconfint_generic(south_mean_hardness, south_mean_hardness_std,\n",
        "                                                                   south_water_data['hardness'].shape[0] - 1,\n",
        "                                                                   0.05, 'two-sided')))"
      ],
      "execution_count": 0,
      "outputs": [
        {
          "output_type": "stream",
          "text": [
            "Hardness north 95% interval: (21.42248728572426, 39.37751271427574)\n",
            "Hardness south 95% interval: (53.467198692036106, 86.07126284642544)\n"
          ],
          "name": "stdout"
        }
      ]
    }
  ]
}