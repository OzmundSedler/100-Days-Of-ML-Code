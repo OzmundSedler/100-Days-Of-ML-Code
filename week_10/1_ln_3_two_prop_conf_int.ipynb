{
  "nbformat": 4,
  "nbformat_minor": 0,
  "metadata": {
    "kernelspec": {
      "name": "python3",
      "display_name": "Python 3"
    },
    "colab": {
      "name": "1.ln-3.two_prop_conf_int.ipynb",
      "version": "0.3.2",
      "provenance": [],
      "collapsed_sections": []
    },
    "accelerator": "GPU"
  },
  "cells": [
    {
      "cell_type": "markdown",
      "metadata": {
        "id": "EZyGlCGqfVq2",
        "colab_type": "text"
      },
      "source": [
        "# Confidence interval for 2 proportions"
      ]
    },
    {
      "cell_type": "code",
      "metadata": {
        "id": "SXq-6ZZSfVq4",
        "colab_type": "code",
        "colab": {}
      },
      "source": [
        "import scipy\n",
        "\n",
        "import numpy as np\n",
        "import pandas as pd\n",
        "\n",
        "from statsmodels.stats.weightstats import *\n",
        "from statsmodels.stats.proportion import proportion_confint"
      ],
      "execution_count": 0,
      "outputs": []
    },
    {
      "cell_type": "markdown",
      "metadata": {
        "id": "FcSQNE8tfVq7",
        "colab_type": "text"
      },
      "source": [
        "## Data generation"
      ]
    },
    {
      "cell_type": "code",
      "metadata": {
        "id": "hGsZdfsrfVq7",
        "colab_type": "code",
        "colab": {}
      },
      "source": [
        "data = pd.read_csv('https://raw.githubusercontent.com/OzmundSedler/100-Days-Of-ML-Code/master/week_10/datasets/banner_click_stat.txt', header = None, sep = '\\t')\n",
        "data.columns = ['banner_a', 'banner_b']"
      ],
      "execution_count": 0,
      "outputs": []
    },
    {
      "cell_type": "code",
      "metadata": {
        "id": "FEZQT4QifVq9",
        "colab_type": "code",
        "outputId": "94cdff66-148d-477e-e9fa-7014d86157ac",
        "colab": {
          "base_uri": "https://localhost:8080/",
          "height": 204
        }
      },
      "source": [
        "data.head()"
      ],
      "execution_count": 0,
      "outputs": [
        {
          "output_type": "execute_result",
          "data": {
            "text/html": [
              "<div>\n",
              "<style scoped>\n",
              "    .dataframe tbody tr th:only-of-type {\n",
              "        vertical-align: middle;\n",
              "    }\n",
              "\n",
              "    .dataframe tbody tr th {\n",
              "        vertical-align: top;\n",
              "    }\n",
              "\n",
              "    .dataframe thead th {\n",
              "        text-align: right;\n",
              "    }\n",
              "</style>\n",
              "<table border=\"1\" class=\"dataframe\">\n",
              "  <thead>\n",
              "    <tr style=\"text-align: right;\">\n",
              "      <th></th>\n",
              "      <th>banner_a</th>\n",
              "      <th>banner_b</th>\n",
              "    </tr>\n",
              "  </thead>\n",
              "  <tbody>\n",
              "    <tr>\n",
              "      <th>0</th>\n",
              "      <td>0</td>\n",
              "      <td>0</td>\n",
              "    </tr>\n",
              "    <tr>\n",
              "      <th>1</th>\n",
              "      <td>1</td>\n",
              "      <td>1</td>\n",
              "    </tr>\n",
              "    <tr>\n",
              "      <th>2</th>\n",
              "      <td>0</td>\n",
              "      <td>0</td>\n",
              "    </tr>\n",
              "    <tr>\n",
              "      <th>3</th>\n",
              "      <td>0</td>\n",
              "      <td>0</td>\n",
              "    </tr>\n",
              "    <tr>\n",
              "      <th>4</th>\n",
              "      <td>0</td>\n",
              "      <td>0</td>\n",
              "    </tr>\n",
              "  </tbody>\n",
              "</table>\n",
              "</div>"
            ],
            "text/plain": [
              "   banner_a  banner_b\n",
              "0         0         0\n",
              "1         1         1\n",
              "2         0         0\n",
              "3         0         0\n",
              "4         0         0"
            ]
          },
          "metadata": {
            "tags": []
          },
          "execution_count": 3
        }
      ]
    },
    {
      "cell_type": "code",
      "metadata": {
        "id": "FOt6uMuyfVrA",
        "colab_type": "code",
        "outputId": "d8135612-d0a9-45f9-a0d2-18554abcabc2",
        "colab": {
          "base_uri": "https://localhost:8080/",
          "height": 297
        }
      },
      "source": [
        "data.describe()"
      ],
      "execution_count": 0,
      "outputs": [
        {
          "output_type": "execute_result",
          "data": {
            "text/html": [
              "<div>\n",
              "<style scoped>\n",
              "    .dataframe tbody tr th:only-of-type {\n",
              "        vertical-align: middle;\n",
              "    }\n",
              "\n",
              "    .dataframe tbody tr th {\n",
              "        vertical-align: top;\n",
              "    }\n",
              "\n",
              "    .dataframe thead th {\n",
              "        text-align: right;\n",
              "    }\n",
              "</style>\n",
              "<table border=\"1\" class=\"dataframe\">\n",
              "  <thead>\n",
              "    <tr style=\"text-align: right;\">\n",
              "      <th></th>\n",
              "      <th>banner_a</th>\n",
              "      <th>banner_b</th>\n",
              "    </tr>\n",
              "  </thead>\n",
              "  <tbody>\n",
              "    <tr>\n",
              "      <th>count</th>\n",
              "      <td>1000.000000</td>\n",
              "      <td>1000.000000</td>\n",
              "    </tr>\n",
              "    <tr>\n",
              "      <th>mean</th>\n",
              "      <td>0.037000</td>\n",
              "      <td>0.053000</td>\n",
              "    </tr>\n",
              "    <tr>\n",
              "      <th>std</th>\n",
              "      <td>0.188856</td>\n",
              "      <td>0.224146</td>\n",
              "    </tr>\n",
              "    <tr>\n",
              "      <th>min</th>\n",
              "      <td>0.000000</td>\n",
              "      <td>0.000000</td>\n",
              "    </tr>\n",
              "    <tr>\n",
              "      <th>25%</th>\n",
              "      <td>0.000000</td>\n",
              "      <td>0.000000</td>\n",
              "    </tr>\n",
              "    <tr>\n",
              "      <th>50%</th>\n",
              "      <td>0.000000</td>\n",
              "      <td>0.000000</td>\n",
              "    </tr>\n",
              "    <tr>\n",
              "      <th>75%</th>\n",
              "      <td>0.000000</td>\n",
              "      <td>0.000000</td>\n",
              "    </tr>\n",
              "    <tr>\n",
              "      <th>max</th>\n",
              "      <td>1.000000</td>\n",
              "      <td>1.000000</td>\n",
              "    </tr>\n",
              "  </tbody>\n",
              "</table>\n",
              "</div>"
            ],
            "text/plain": [
              "          banner_a     banner_b\n",
              "count  1000.000000  1000.000000\n",
              "mean      0.037000     0.053000\n",
              "std       0.188856     0.224146\n",
              "min       0.000000     0.000000\n",
              "25%       0.000000     0.000000\n",
              "50%       0.000000     0.000000\n",
              "75%       0.000000     0.000000\n",
              "max       1.000000     1.000000"
            ]
          },
          "metadata": {
            "tags": []
          },
          "execution_count": 4
        }
      ]
    },
    {
      "cell_type": "markdown",
      "metadata": {
        "id": "yLVuvm3KfVrC",
        "colab_type": "text"
      },
      "source": [
        "## Confidence interval for each of the two samples\n"
      ]
    },
    {
      "cell_type": "markdown",
      "metadata": {
        "id": "HDiIirh9fVrD",
        "colab_type": "text"
      },
      "source": [
        "$$\\frac1{ 1 + \\frac{z^2}{n} } \\left( \\hat{p} + \\frac{z^2}{2n} \\pm z \\sqrt{ \\frac{ \\hat{p}\\left(1-\\hat{p}\\right)}{n} + \\frac{z^2}{4n^2} } \\right), \\;\\; z \\equiv z_{1-\\frac{\\alpha}{2}}$$ "
      ]
    },
    {
      "cell_type": "code",
      "metadata": {
        "id": "a5BxVqssfVrD",
        "colab_type": "code",
        "colab": {}
      },
      "source": [
        "conf_interval_banner_a = proportion_confint(sum(data.banner_a), \n",
        "                                            data.shape[0],\n",
        "                                            method = 'wilson')\n",
        "\n",
        "conf_interval_banner_b = proportion_confint(sum(data.banner_b), \n",
        "                                            data.shape[0],\n",
        "                                            method = 'wilson')"
      ],
      "execution_count": 0,
      "outputs": []
    },
    {
      "cell_type": "code",
      "metadata": {
        "id": "YncNPKYNfVrF",
        "colab_type": "code",
        "outputId": "a308a254-bed8-4bbb-87de-db4021848b25",
        "colab": {
          "base_uri": "https://localhost:8080/",
          "height": 51
        }
      },
      "source": [
        "print ('interval for banner a [%f, %f]' % conf_interval_banner_a)\n",
        "print ('interval for banner b [%f, %f]' % conf_interval_banner_b)"
      ],
      "execution_count": 0,
      "outputs": [
        {
          "output_type": "stream",
          "text": [
            "interval for banner a [0.026961, 0.050582]\n",
            "interval for banner b [0.040747, 0.068675]\n"
          ],
          "name": "stdout"
        }
      ]
    },
    {
      "cell_type": "markdown",
      "metadata": {
        "id": "EgdhiNfOfVrH",
        "colab_type": "text"
      },
      "source": [
        "### How to compare them?"
      ]
    },
    {
      "cell_type": "markdown",
      "metadata": {
        "id": "HPL9lpeMfVrI",
        "colab_type": "text"
      },
      "source": [
        "## Confidence Interval for the difference between two independent samples"
      ]
    },
    {
      "cell_type": "markdown",
      "metadata": {
        "id": "Lw4UeY-0fVrI",
        "colab_type": "text"
      },
      "source": [
        "   | $X_1$ | $X_2$  \n",
        "  ------------- | -------------|\n",
        "  1  | a | b \n",
        "  0  | c | d \n",
        "  $\\sum$ | $n_1$| $n_2$\n",
        "  \n",
        "$$ \\hat{p}_1 = \\frac{a}{n_1}$$\n",
        "\n",
        "$$ \\hat{p}_2 = \\frac{b}{n_2}$$\n",
        "\n",
        "\n",
        "$$\\text{Confidence interval for }p_1 - p_2\\colon \\;\\; \\hat{p}_1 - \\hat{p}_2 \\pm z_{1-\\frac{\\alpha}{2}}\\sqrt{\\frac{\\hat{p}_1(1 - \\hat{p}_1)}{n_1} + \\frac{\\hat{p}_2(1 - \\hat{p}_2)}{n_2}}$$"
      ]
    },
    {
      "cell_type": "code",
      "metadata": {
        "id": "-Ag8AcqRfVrJ",
        "colab_type": "code",
        "colab": {}
      },
      "source": [
        "def proportions_confint_diff_ind(sample1, sample2, alpha = 0.05):    \n",
        "    z = scipy.stats.norm.ppf(1 - alpha / 2.)   \n",
        "    p1 = float(sum(sample1)) / len(sample1)\n",
        "    p2 = float(sum(sample2)) / len(sample2)\n",
        "    \n",
        "    left_boundary = (p1 - p2) - z * np.sqrt(p1 * (1 - p1)/ len(sample1) + p2 * (1 - p2)/ len(sample2))\n",
        "    right_boundary = (p1 - p2) + z * np.sqrt(p1 * (1 - p1)/ len(sample1) + p2 * (1 - p2)/ len(sample2))\n",
        "    \n",
        "    return (left_boundary, right_boundary)"
      ],
      "execution_count": 0,
      "outputs": []
    },
    {
      "cell_type": "code",
      "metadata": {
        "id": "ZVvti2b3fVrL",
        "colab_type": "code",
        "outputId": "16a59caa-009e-4e60-efff-116ff080027b",
        "colab": {
          "base_uri": "https://localhost:8080/",
          "height": 34
        }
      },
      "source": [
        "print (\"confidence interval: [%f, %f]\" % proportions_confint_diff_ind(data.banner_a, data.banner_b))"
      ],
      "execution_count": 0,
      "outputs": [
        {
          "output_type": "stream",
          "text": [
            "confidence interval: [-0.034157, 0.002157]\n"
          ],
          "name": "stdout"
        }
      ]
    },
    {
      "cell_type": "markdown",
      "metadata": {
        "id": "8rYuFFjIfVrO",
        "colab_type": "text"
      },
      "source": [
        "## Confidence interval for two dependent samples"
      ]
    },
    {
      "cell_type": "markdown",
      "metadata": {
        "id": "zy8sF7Q4fVrO",
        "colab_type": "text"
      },
      "source": [
        "  $X_1$ \\ $X_2$ | 1| 0 | $\\sum$\n",
        "  ------------- | -------------|\n",
        "  1  | e | f | e + f\n",
        "  0  | g | h | g + h\n",
        "  $\\sum$ | e + g| f + h | n  \n",
        "  \n",
        "$$ \\hat{p}_1 = \\frac{e + f}{n}$$\n",
        "\n",
        "$$ \\hat{p}_2 = \\frac{e + g}{n}$$\n",
        "\n",
        "$$ \\hat{p}_1 - \\hat{p}_2 = \\frac{f - g}{n}$$\n",
        "\n",
        "\n",
        "$$\\text{Доверительный интервал для }p_1 - p_2\\colon \\;\\;  \\frac{f - g}{n} \\pm z_{1-\\frac{\\alpha}{2}}\\sqrt{\\frac{f + g}{n^2} - \\frac{(f - g)^2}{n^3}}$$"
      ]
    },
    {
      "cell_type": "code",
      "metadata": {
        "id": "t6tdGx8HfVrP",
        "colab_type": "code",
        "colab": {}
      },
      "source": [
        "def proportions_confint_diff_rel(sample1, sample2, alpha = 0.05):\n",
        "    z = scipy.stats.norm.ppf(1 - alpha / 2.)\n",
        "    sample = list(zip(sample1, sample2))\n",
        "    n = len(sample)\n",
        "        \n",
        "    f = sum([1 if (x[0] == 1 and x[1] == 0) else 0 for x in sample])\n",
        "    g = sum([1 if (x[0] == 0 and x[1] == 1) else 0 for x in sample])\n",
        "    \n",
        "    left_boundary = float(f - g) / n  - z * np.sqrt(float((f + g)) / n**2 - float((f - g)**2) / n**3)\n",
        "    right_boundary = float(f - g) / n  + z * np.sqrt(float((f + g)) / n**2 - float((f - g)**2) / n**3)\n",
        "    return (left_boundary, right_boundary)"
      ],
      "execution_count": 0,
      "outputs": []
    },
    {
      "cell_type": "code",
      "metadata": {
        "id": "bdYDOrEbfVrR",
        "colab_type": "code",
        "outputId": "be1c58f2-df50-4a62-cef6-03fbfd4fc966",
        "colab": {
          "base_uri": "https://localhost:8080/",
          "height": 34
        }
      },
      "source": [
        "print (\"confidence interval: [%f, %f]\" % proportions_confint_diff_rel(data.banner_a, data.banner_b))"
      ],
      "execution_count": 0,
      "outputs": [
        {
          "output_type": "stream",
          "text": [
            "confidence interval: [-0.026689, -0.005311]\n"
          ],
          "name": "stdout"
        }
      ]
    }
  ]
}