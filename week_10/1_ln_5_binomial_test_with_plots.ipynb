{
  "nbformat": 4,
  "nbformat_minor": 0,
  "metadata": {
    "kernelspec": {
      "display_name": "Python 2",
      "language": "python",
      "name": "python2"
    },
    "language_info": {
      "codemirror_mode": {
        "name": "ipython",
        "version": 2
      },
      "file_extension": ".py",
      "mimetype": "text/x-python",
      "name": "python",
      "nbconvert_exporter": "python",
      "pygments_lexer": "ipython2",
      "version": "2.7.11"
    },
    "colab": {
      "name": "1.ln-6.binomial_test_with_plots.ipynb",
      "version": "0.3.2",
      "provenance": [],
      "collapsed_sections": []
    }
  },
  "cells": [
    {
      "cell_type": "markdown",
      "metadata": {
        "id": "x8IEtnCqDhby",
        "colab_type": "text"
      },
      "source": [
        "# Binominal test for a sample"
      ]
    },
    {
      "cell_type": "code",
      "metadata": {
        "id": "dWxE7Er2Dhb0",
        "colab_type": "code",
        "colab": {}
      },
      "source": [
        "import numpy as np\n",
        "from scipy import stats"
      ],
      "execution_count": 0,
      "outputs": []
    },
    {
      "cell_type": "code",
      "metadata": {
        "id": "90VsD3fiDhb4",
        "colab_type": "code",
        "colab": {
          "base_uri": "https://localhost:8080/",
          "height": 34
        },
        "outputId": "52a071d5-7f3e-4018-8e59-d097474cd0a4"
      },
      "source": [
        "%pylab inline"
      ],
      "execution_count": 2,
      "outputs": [
        {
          "output_type": "stream",
          "text": [
            "Populating the interactive namespace from numpy and matplotlib\n"
          ],
          "name": "stdout"
        }
      ]
    },
    {
      "cell_type": "markdown",
      "metadata": {
        "id": "CZrBRFbYDhc1",
        "colab_type": "text"
      },
      "source": [
        "## Shaken, not stirred"
      ]
    },
    {
      "cell_type": "markdown",
      "metadata": {
        "id": "Yc2B6nk6Dhc1",
        "colab_type": "text"
      },
      "source": [
        "James Bond says he prefers martini to shaken but not mixed. Let's run a blind test: we’ll offer him a couple of drinks $ n $ times and find out which of the two he prefers. We get:\n",
        "* **sample:** a binary vector of length $ n $, where 1 - James Bond preferred a shaken drink, 0 - mixed;\n",
        "* **hypothesis $ H_0 $:** James Bond does not distinguish between 2 types of drinks and chooses at random;\n",
        "* **$ T $ statistics:** number of units in the sample."
      ]
    },
    {
      "cell_type": "markdown",
      "metadata": {
        "id": "QvdJzFACDhc3",
        "colab_type": "text"
      },
      "source": [
        "If the null hypothesis is true and James Bond chooses at random, then we can with the same probability get any of the $ 2 ^ n $ binary vectors of length $ n $.\n",
        "\n",
        "We could iterate over all such vectors, count on each statistic value $ T $ and thus obtain its zero distribution. But in this case, you can skip this step: we are dealing with a sample consisting of 0 and 1, that is, from the Bernoulli distribution of $ Ber (p) $. The null hypothesis of random selection corresponds to the value $ p = \\ frac1 {2} $, that is, in each experiment, the probability of choosing a shaken martini is $ \\ frac1 {2} $. The sum of $ n $ identically distributed Bernoulli random variables with parameter $ p $ has a binomial distribution of $ Bin (n, p) $. Therefore, the zero distribution of statistics is $ T $ - $ Bin \\ left (n, \\ frac1 {2} \\ right) $.\n",
        "\n",
        "Let $ n = 16. $"
      ]
    },
    {
      "cell_type": "code",
      "metadata": {
        "id": "LgPhYF48Dhc4",
        "colab_type": "code",
        "colab": {}
      },
      "source": [
        "n = 16\n",
        "F_H0 = stats.binom(n, 0.5)"
      ],
      "execution_count": 0,
      "outputs": []
    },
    {
      "cell_type": "code",
      "metadata": {
        "id": "-dqz8lpcDhc6",
        "colab_type": "code",
        "colab": {
          "base_uri": "https://localhost:8080/",
          "height": 269
        },
        "outputId": "f3683fed-21ef-406b-9fc1-d35e1168729f"
      },
      "source": [
        "x = np.linspace(0,16,17)\n",
        "\n",
        "pylab.bar(x, F_H0.pmf(x), align = 'center')\n",
        "xlim(-0.5, 16.5) \n",
        "pylab.show()"
      ],
      "execution_count": 4,
      "outputs": [
        {
          "output_type": "display_data",
          "data": {
            "image/png": "[encoded data removed]",
            "text/plain": [
              "<Figure size 432x288 with 1 Axes>"
            ]
          },
          "metadata": {
            "tags": []
          }
        }
      ]
    },
    {
      "cell_type": "markdown",
      "metadata": {
        "id": "gluzIhYqDhc9",
        "colab_type": "text"
      },
      "source": [
        "## One-way alternative"
      ]
    },
    {
      "cell_type": "markdown",
      "metadata": {
        "id": "6GcT2AObDhc9",
        "colab_type": "text"
      },
      "source": [
        "** $ H_1 $ hypothesis: ** James Bond prefers a scrambled martini.\n",
        "\n",
        "With this alternative, larger statistics are more likely; when calculating the achieved significance level, we will summarize the height of the columns in the right tail of the distribution."
      ]
    },
    {
      "cell_type": "code",
      "metadata": {
        "id": "rx8ZV3YWDhc-",
        "colab_type": "code",
        "colab": {
          "base_uri": "https://localhost:8080/",
          "height": 269
        },
        "outputId": "0c6d000e-c888-41a7-c550-a354c4ca61e3"
      },
      "source": [
        "pylab.bar(x, F_H0.pmf(x), align = 'center')\n",
        "pylab.bar(np.linspace(12,16,5), F_H0.pmf(np.linspace(12,16,5)), align = 'center', color='red')\n",
        "xlim(-0.5, 16.5) \n",
        "pylab.show()"
      ],
      "execution_count": 5,
      "outputs": [
        {
          "output_type": "display_data",
          "data": {
            "image/png": "[encoded data removed]",
            "text/plain": [
              "<Figure size 432x288 with 1 Axes>"
            ]
          },
          "metadata": {
            "tags": []
          }
        }
      ]
    },
    {
      "cell_type": "code",
      "metadata": {
        "id": "a-Z9JIFuDhdA",
        "colab_type": "code",
        "colab": {
          "base_uri": "https://localhost:8080/",
          "height": 34
        },
        "outputId": "24730e98-15e6-4c2f-a9ba-345d3861a965"
      },
      "source": [
        "stats.binom_test(12, 16, 0.5, alternative = 'greater')"
      ],
      "execution_count": 6,
      "outputs": [
        {
          "output_type": "execute_result",
          "data": {
            "text/plain": [
              "0.0384063720703125"
            ]
          },
          "metadata": {
            "tags": []
          },
          "execution_count": 6
        }
      ]
    },
    {
      "cell_type": "code",
      "metadata": {
        "id": "Yd5j6lXKDhdE",
        "colab_type": "code",
        "colab": {
          "base_uri": "https://localhost:8080/",
          "height": 269
        },
        "outputId": "122a4147-f277-4507-aaf5-e81734a87691"
      },
      "source": [
        "pylab.bar(x, F_H0.pmf(x), align = 'center')\n",
        "pylab.bar(np.linspace(11,16,6), F_H0.pmf(np.linspace(11,16,6)), align = 'center', color='red')\n",
        "xlim(-0.5, 16.5) \n",
        "pylab.show()"
      ],
      "execution_count": 7,
      "outputs": [
        {
          "output_type": "display_data",
          "data": {
            "image/png": "[encoded data removed]",
            "text/plain": [
              "<Figure size 432x288 with 1 Axes>"
            ]
          },
          "metadata": {
            "tags": []
          }
        }
      ]
    },
    {
      "cell_type": "code",
      "metadata": {
        "id": "7Ca_G_hxDhdG",
        "colab_type": "code",
        "colab": {
          "base_uri": "https://localhost:8080/",
          "height": 34
        },
        "outputId": "f54205c6-1930-4ef2-84e9-8c09b46876aa"
      },
      "source": [
        "stats.binom_test(11, 16, 0.5, alternative = 'greater')"
      ],
      "execution_count": 8,
      "outputs": [
        {
          "output_type": "execute_result",
          "data": {
            "text/plain": [
              "0.10505676269531246"
            ]
          },
          "metadata": {
            "tags": []
          },
          "execution_count": 8
        }
      ]
    },
    {
      "cell_type": "markdown",
      "metadata": {
        "id": "9PdkqpNUDhdJ",
        "colab_type": "text"
      },
      "source": [
        "## Two-sided alternative"
      ]
    },
    {
      "cell_type": "markdown",
      "metadata": {
        "id": "2jX2ShjjDhdJ",
        "colab_type": "text"
      },
      "source": [
        "** $ H_1 $ hypothesis: ** James Bond prefers some particular kind of martini.\n",
        "\n",
        "With this alternative, very large and very small statistics are more likely; when calculating the achieved significance level, we will summarize the height of the columns in the right and left tails of the distribution."
      ]
    },
    {
      "cell_type": "code",
      "metadata": {
        "id": "HzW241yfDhdK",
        "colab_type": "code",
        "colab": {
          "base_uri": "https://localhost:8080/",
          "height": 269
        },
        "outputId": "8cd76112-153c-478c-c3f8-431e280ff18b"
      },
      "source": [
        "pylab.bar(x, F_H0.pmf(x), align = 'center')\n",
        "pylab.bar(np.linspace(12,16,5), F_H0.pmf(np.linspace(12,16,5)), align = 'center', color='red')\n",
        "pylab.bar(np.linspace(0,4,5), F_H0.pmf(np.linspace(0,4,5)), align = 'center', color='red')\n",
        "xlim(-0.5, 16.5) \n",
        "pylab.show()"
      ],
      "execution_count": 9,
      "outputs": [
        {
          "output_type": "display_data",
          "data": {
            "image/png": "[encoded data removed]",
            "text/plain": [
              "<Figure size 432x288 with 1 Axes>"
            ]
          },
          "metadata": {
            "tags": []
          }
        }
      ]
    },
    {
      "cell_type": "code",
      "metadata": {
        "id": "5ybN5wG1DhdM",
        "colab_type": "code",
        "colab": {
          "base_uri": "https://localhost:8080/",
          "height": 34
        },
        "outputId": "6511c853-15ce-42a1-b2b5-d7e3fc6078de"
      },
      "source": [
        "stats.binom_test(12, 16, 0.5, alternative = 'two-sided')"
      ],
      "execution_count": 10,
      "outputs": [
        {
          "output_type": "execute_result",
          "data": {
            "text/plain": [
              "0.076812744140625"
            ]
          },
          "metadata": {
            "tags": []
          },
          "execution_count": 10
        }
      ]
    },
    {
      "cell_type": "code",
      "metadata": {
        "id": "3nLZ_RHlDhdS",
        "colab_type": "code",
        "colab": {
          "base_uri": "https://localhost:8080/",
          "height": 269
        },
        "outputId": "04817e23-4cfa-4d20-f9e2-a32f1226287d"
      },
      "source": [
        "pylab.bar(x, F_H0.pmf(x), align = 'center')\n",
        "pylab.bar(np.linspace(13,16,4), F_H0.pmf(np.linspace(13,16,4)), align = 'center', color='red')\n",
        "pylab.bar(np.linspace(0,3,4), F_H0.pmf(np.linspace(0,3,4)), align = 'center', color='red')\n",
        "xlim(-0.5, 16.5) \n",
        "pylab.show()"
      ],
      "execution_count": 11,
      "outputs": [
        {
          "output_type": "display_data",
          "data": {
            "image/png": "[encoded data removed]",
            "text/plain": [
              "<Figure size 432x288 with 1 Axes>"
            ]
          },
          "metadata": {
            "tags": []
          }
        }
      ]
    },
    {
      "cell_type": "code",
      "metadata": {
        "id": "Il9V3kj9DhdW",
        "colab_type": "code",
        "colab": {
          "base_uri": "https://localhost:8080/",
          "height": 34
        },
        "outputId": "a2448cbd-a94a-4c12-e2d5-79308984645f"
      },
      "source": [
        "stats.binom_test(13, 16, 0.5, alternative = 'two-sided')"
      ],
      "execution_count": 12,
      "outputs": [
        {
          "output_type": "execute_result",
          "data": {
            "text/plain": [
              "0.021270751953125"
            ]
          },
          "metadata": {
            "tags": []
          },
          "execution_count": 12
        }
      ]
    }
  ]
}