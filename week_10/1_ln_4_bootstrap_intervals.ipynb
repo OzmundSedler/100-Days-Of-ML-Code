{
  "nbformat": 4,
  "nbformat_minor": 0,
  "metadata": {
    "kernelspec": {
      "name": "python3",
      "display_name": "Python 3"
    },
    "colab": {
      "name": "1.ln-4.bootstrap_intervals.ipynb",
      "version": "0.3.2",
      "provenance": [],
      "collapsed_sections": []
    },
    "accelerator": "GPU"
  },
  "cells": [
    {
      "cell_type": "markdown",
      "metadata": {
        "id": "JklXszE0gZsY",
        "colab_type": "text"
      },
      "source": [
        "# Bootstrap Confidence Intervals"
      ]
    },
    {
      "cell_type": "code",
      "metadata": {
        "id": "259dBSBbgZsZ",
        "colab_type": "code",
        "colab": {}
      },
      "source": [
        "import numpy as np\n",
        "import pandas as pd"
      ],
      "execution_count": 0,
      "outputs": []
    },
    {
      "cell_type": "code",
      "metadata": {
        "id": "iKkW3a_kgZsc",
        "colab_type": "code",
        "outputId": "72f228e9-1888-4cdb-b631-59b237742db8",
        "colab": {
          "base_uri": "https://localhost:8080/",
          "height": 34
        }
      },
      "source": [
        "%pylab inline"
      ],
      "execution_count": 0,
      "outputs": [
        {
          "output_type": "stream",
          "text": [
            "Populating the interactive namespace from numpy and matplotlib\n"
          ],
          "name": "stdout"
        }
      ]
    },
    {
      "cell_type": "markdown",
      "metadata": {
        "id": "XD5i-A_UgZsf",
        "colab_type": "text"
      },
      "source": [
        "## Data generation"
      ]
    },
    {
      "cell_type": "markdown",
      "metadata": {
        "id": "SyStjByKgZsf",
        "colab_type": "text"
      },
      "source": [
        "### Telecommunication equipment repair time"
      ]
    },
    {
      "cell_type": "markdown",
      "metadata": {
        "id": "aWywH7OygZsg",
        "colab_type": "text"
      },
      "source": [
        "Verizon is a major regional telecommunications company operating in the United States. The company is obliged to provide telecommunication equipment repair services not only for its customers but also for customers of other local telecommunications companies. Verizon may be fined."
      ]
    },
    {
      "cell_type": "code",
      "metadata": {
        "id": "Q-uWeugwgZsh",
        "colab_type": "code",
        "outputId": "ed461e7d-e7e3-4371-fa05-15c9034c855d",
        "colab": {
          "base_uri": "https://localhost:8080/",
          "height": 34
        }
      },
      "source": [
        "data = pd.read_csv('https://raw.githubusercontent.com/OzmundSedler/100-Days-Of-ML-Code/master/datasets/week_10/verizon.txt', sep='\\t')\n",
        "data.shape"
      ],
      "execution_count": 0,
      "outputs": [
        {
          "output_type": "execute_result",
          "data": {
            "text/plain": [
              "(1687, 2)"
            ]
          },
          "metadata": {
            "tags": []
          },
          "execution_count": 5
        }
      ]
    },
    {
      "cell_type": "code",
      "metadata": {
        "id": "akC3OV7CgZsj",
        "colab_type": "code",
        "outputId": "7f7ce4f4-16fc-42b5-a0c1-93ea75ffe374",
        "colab": {
          "base_uri": "https://localhost:8080/",
          "height": 204
        }
      },
      "source": [
        "data.head()"
      ],
      "execution_count": 0,
      "outputs": [
        {
          "output_type": "execute_result",
          "data": {
            "text/html": [
              "<div>\n",
              "<style scoped>\n",
              "    .dataframe tbody tr th:only-of-type {\n",
              "        vertical-align: middle;\n",
              "    }\n",
              "\n",
              "    .dataframe tbody tr th {\n",
              "        vertical-align: top;\n",
              "    }\n",
              "\n",
              "    .dataframe thead th {\n",
              "        text-align: right;\n",
              "    }\n",
              "</style>\n",
              "<table border=\"1\" class=\"dataframe\">\n",
              "  <thead>\n",
              "    <tr style=\"text-align: right;\">\n",
              "      <th></th>\n",
              "      <th>Time</th>\n",
              "      <th>Group</th>\n",
              "    </tr>\n",
              "  </thead>\n",
              "  <tbody>\n",
              "    <tr>\n",
              "      <th>0</th>\n",
              "      <td>17.50</td>\n",
              "      <td>ILEC</td>\n",
              "    </tr>\n",
              "    <tr>\n",
              "      <th>1</th>\n",
              "      <td>2.40</td>\n",
              "      <td>ILEC</td>\n",
              "    </tr>\n",
              "    <tr>\n",
              "      <th>2</th>\n",
              "      <td>0.00</td>\n",
              "      <td>ILEC</td>\n",
              "    </tr>\n",
              "    <tr>\n",
              "      <th>3</th>\n",
              "      <td>0.65</td>\n",
              "      <td>ILEC</td>\n",
              "    </tr>\n",
              "    <tr>\n",
              "      <th>4</th>\n",
              "      <td>22.23</td>\n",
              "      <td>ILEC</td>\n",
              "    </tr>\n",
              "  </tbody>\n",
              "</table>\n",
              "</div>"
            ],
            "text/plain": [
              "    Time Group\n",
              "0  17.50  ILEC\n",
              "1   2.40  ILEC\n",
              "2   0.00  ILEC\n",
              "3   0.65  ILEC\n",
              "4  22.23  ILEC"
            ]
          },
          "metadata": {
            "tags": []
          },
          "execution_count": 6
        }
      ]
    },
    {
      "cell_type": "code",
      "metadata": {
        "id": "PcKSA3AvgZsl",
        "colab_type": "code",
        "outputId": "3a6f412a-8962-4aa7-dbdd-ca21b7b86949",
        "colab": {
          "base_uri": "https://localhost:8080/",
          "height": 68
        }
      },
      "source": [
        "data.Group.value_counts()"
      ],
      "execution_count": 0,
      "outputs": [
        {
          "output_type": "execute_result",
          "data": {
            "text/plain": [
              "ILEC    1664\n",
              "CLEC      23\n",
              "Name: Group, dtype: int64"
            ]
          },
          "metadata": {
            "tags": []
          },
          "execution_count": 7
        }
      ]
    },
    {
      "cell_type": "code",
      "metadata": {
        "id": "l_bT78F5gZsn",
        "colab_type": "code",
        "outputId": "d07ed163-9661-45cf-fe08-74bdd1e6917e",
        "colab": {
          "base_uri": "https://localhost:8080/",
          "height": 323
        }
      },
      "source": [
        "pylab.figure(figsize(12, 5))\n",
        "pylab.subplot(1,2,1)\n",
        "pylab.hist(data[data.Group == 'ILEC'].Time, bins = 20, color = 'b', range = (0, 100), label = 'ILEC')\n",
        "pylab.legend()\n",
        "\n",
        "pylab.subplot(1,2,2)\n",
        "pylab.hist(data[data.Group == 'CLEC'].Time, bins = 20, color = 'r', range = (0, 100), label = 'CLEC')\n",
        "pylab.legend()\n",
        "\n",
        "pylab.show()"
      ],
      "execution_count": 0,
      "outputs": [
        {
          "output_type": "display_data",
          "data": {
            "image/png": "[encoded data removed]",
            "text/plain": [
              "<Figure size 864x360 with 2 Axes>"
            ]
          },
          "metadata": {
            "tags": []
          }
        }
      ]
    },
    {
      "cell_type": "markdown",
      "metadata": {
        "id": "bl5ldpO3gZsp",
        "colab_type": "text"
      },
      "source": [
        "## Bootstrap"
      ]
    },
    {
      "cell_type": "code",
      "metadata": {
        "id": "tLS1zh9GgZsq",
        "colab_type": "code",
        "colab": {}
      },
      "source": [
        "def get_bootstrap_samples(data, n_samples):\n",
        "    indices = np.random.randint(0, len(data), (n_samples, len(data)))\n",
        "    samples = data[indices]\n",
        "    return samples"
      ],
      "execution_count": 0,
      "outputs": []
    },
    {
      "cell_type": "code",
      "metadata": {
        "id": "zOcDEy8pgZss",
        "colab_type": "code",
        "colab": {}
      },
      "source": [
        "def stat_intervals(stat, alpha):\n",
        "    boundaries = np.percentile(stat, [100 * alpha / 2., 100 * (1 - alpha / 2.)])\n",
        "    return boundaries"
      ],
      "execution_count": 0,
      "outputs": []
    },
    {
      "cell_type": "markdown",
      "metadata": {
        "id": "SgQRtbF9gZsu",
        "colab_type": "text"
      },
      "source": [
        "### Confidence interval for median"
      ]
    },
    {
      "cell_type": "code",
      "metadata": {
        "id": "Jv4ial4mgZsv",
        "colab_type": "code",
        "colab": {}
      },
      "source": [
        "ilec_time = data[data.Group == 'ILEC'].Time.values\n",
        "clec_time = data[data.Group == 'CLEC'].Time.values"
      ],
      "execution_count": 0,
      "outputs": []
    },
    {
      "cell_type": "code",
      "metadata": {
        "id": "8dT8SoWcgZsx",
        "colab_type": "code",
        "outputId": "c22b53cd-a075-4ffd-e41a-d9f1a757dfe2",
        "colab": {
          "base_uri": "https://localhost:8080/",
          "height": 51
        }
      },
      "source": [
        "np.random.seed(0)\n",
        "\n",
        "ilec_median_scores = list(map(np.median, get_bootstrap_samples(ilec_time, 1000)))\n",
        "clec_median_scores = list(map(np.median, get_bootstrap_samples(clec_time, 1000)))\n",
        "\n",
        "print (\"95% confidence interval for the ILEC median repair time:\",  stat_intervals(ilec_median_scores, 0.05))\n",
        "print (\"95% confidence interval for the CLEC median repair time:\",  stat_intervals(clec_median_scores, 0.05))"
      ],
      "execution_count": 0,
      "outputs": [
        {
          "output_type": "stream",
          "text": [
            "95% confidence interval for the ILEC median repair time: [3.18    3.82525]\n",
            "95% confidence interval for the CLEC median repair time: [ 5.79125 20.     ]\n"
          ],
          "name": "stdout"
        }
      ]
    },
    {
      "cell_type": "markdown",
      "metadata": {
        "id": "8t1zqTNvgZs0",
        "colab_type": "text"
      },
      "source": [
        "### Difference between medians"
      ]
    },
    {
      "cell_type": "code",
      "metadata": {
        "id": "AGxnllCYgZs1",
        "colab_type": "code",
        "outputId": "1c9dbd58-28d6-4e11-e793-47e76fccbd08",
        "colab": {
          "base_uri": "https://localhost:8080/",
          "height": 34
        }
      },
      "source": [
        "print (\"difference between medians:\", np.median(clec_time) - np.median(ilec_time))"
      ],
      "execution_count": 0,
      "outputs": [
        {
          "output_type": "stream",
          "text": [
            "difference between medians: 10.74\n"
          ],
          "name": "stdout"
        }
      ]
    },
    {
      "cell_type": "markdown",
      "metadata": {
        "id": "HEM99QXrgZs3",
        "colab_type": "text"
      },
      "source": [
        "### Confidence interval for the median differnce"
      ]
    },
    {
      "cell_type": "code",
      "metadata": {
        "id": "HBi1_ijmgZs3",
        "colab_type": "code",
        "colab": {}
      },
      "source": [
        "delta_median_scores = list(map(lambda x: x[1] - x[0], zip(ilec_median_scores, clec_median_scores)))"
      ],
      "execution_count": 0,
      "outputs": []
    },
    {
      "cell_type": "code",
      "metadata": {
        "id": "BDVsS_D-gZs5",
        "colab_type": "code",
        "outputId": "8df7459e-1ac3-4fac-dedc-05a9b5c252e8",
        "colab": {
          "base_uri": "https://localhost:8080/",
          "height": 34
        }
      },
      "source": [
        "print (\"95% confidence interval for the difference between medians\",  stat_intervals(delta_median_scores, 0.05))"
      ],
      "execution_count": 0,
      "outputs": [
        {
          "output_type": "stream",
          "text": [
            "95% confidence interval for the difference between medians [ 2.04975 16.63   ]\n"
          ],
          "name": "stdout"
        }
      ]
    }
  ]
}