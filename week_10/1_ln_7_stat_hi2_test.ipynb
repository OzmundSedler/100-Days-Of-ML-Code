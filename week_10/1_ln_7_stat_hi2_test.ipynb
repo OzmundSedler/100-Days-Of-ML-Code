{
  "nbformat": 4,
  "nbformat_minor": 0,
  "metadata": {
    "kernelspec": {
      "name": "python3",
      "display_name": "Python 3"
    },
    "colab": {
      "name": "1.ln-7.stat.hi2_test.ipynb",
      "version": "0.3.2",
      "provenance": [],
      "collapsed_sections": []
    },
    "accelerator": "GPU"
  },
  "cells": [
    {
      "cell_type": "markdown",
      "metadata": {
        "id": "KdCsK9OdzcQU",
        "colab_type": "text"
      },
      "source": [
        "# Confidence Intervals for Pearson’s Correlation ( $\\chi^2$)"
      ]
    },
    {
      "cell_type": "code",
      "metadata": {
        "id": "zfoWftk1zcQV",
        "colab_type": "code",
        "colab": {}
      },
      "source": [
        "import numpy as np\n",
        "import pandas as pd\n",
        "\n",
        "from scipy import stats"
      ],
      "execution_count": 0,
      "outputs": []
    },
    {
      "cell_type": "code",
      "metadata": {
        "id": "mD0jyCyTzcQX",
        "colab_type": "code",
        "outputId": "d30c33fb-f454-4683-ba8b-588042b13c04",
        "colab": {
          "base_uri": "https://localhost:8080/",
          "height": 34
        }
      },
      "source": [
        "%pylab inline"
      ],
      "execution_count": 2,
      "outputs": [
        {
          "output_type": "stream",
          "text": [
            "Populating the interactive namespace from numpy and matplotlib\n"
          ],
          "name": "stdout"
        }
      ]
    },
    {
      "cell_type": "markdown",
      "metadata": {
        "id": "y6f5-InGzcQa",
        "colab_type": "text"
      },
      "source": [
        "## Exhausted fertility"
      ]
    },
    {
      "cell_type": "markdown",
      "metadata": {
        "id": "dAZQ99s_zcQb",
        "colab_type": "text"
      },
      "source": [
        "Exhausted fertility - the number of children born to a woman at the end of the conventional reproductive age (45 years). For 1878 women over 45 who participated in a sociological survey of Swiss residents, the number of children is known. This feature is a typical counter, which means that you can try to describe it by the Poisson distribution."
      ]
    },
    {
      "cell_type": "markdown",
      "metadata": {
        "id": "qcnWMAjqzcQb",
        "colab_type": "text"
      },
      "source": [
        "* **sample** is an integer vector of length $ n $ that characterizes the number of children in the interviewed woman\n",
        "* **hypothesis $ H_0 $** - the quantity in question has a Poisson distribution"
      ]
    },
    {
      "cell_type": "code",
      "metadata": {
        "id": "vu27hqyazcQc",
        "colab_type": "code",
        "colab": {}
      },
      "source": [
        "fin = pd.read_csv('https://raw.githubusercontent.com/OzmundSedler/100-Days-Of-ML-Code/master/week_10/datasets/fertility.txt', 'r').iloc[:,0]\n",
        "data = list(fin)"
      ],
      "execution_count": 0,
      "outputs": []
    },
    {
      "cell_type": "code",
      "metadata": {
        "id": "xuy1_EjUzcQe",
        "colab_type": "code",
        "outputId": "3f167e2e-6915-422a-c94c-318ef7289742",
        "colab": {
          "base_uri": "https://localhost:8080/",
          "height": 34
        }
      },
      "source": [
        "data[:20]"
      ],
      "execution_count": 4,
      "outputs": [
        {
          "output_type": "execute_result",
          "data": {
            "text/plain": [
              "[0, 2, 0, 2, 3, 2, 2, 2, 2, 1, 2, 0, 2, 0, 2, 3, 2, 2, 4, 3]"
            ]
          },
          "metadata": {
            "tags": []
          },
          "execution_count": 4
        }
      ]
    },
    {
      "cell_type": "code",
      "metadata": {
        "id": "APf7Vqb1zcQg",
        "colab_type": "code",
        "outputId": "5b133846-b013-4420-f7cd-73b98c1721d2",
        "colab": {
          "base_uri": "https://localhost:8080/",
          "height": 286
        }
      },
      "source": [
        "pylab.bar(range(12), np.bincount(data), color = 'b', label = 'fertility_stat')\n",
        "pylab.legend()"
      ],
      "execution_count": 5,
      "outputs": [
        {
          "output_type": "execute_result",
          "data": {
            "text/plain": [
              "<matplotlib.legend.Legend at 0x7f6379637278>"
            ]
          },
          "metadata": {
            "tags": []
          },
          "execution_count": 5
        },
        {
          "output_type": "display_data",
          "data": {
            "image/png": "[encoded data removed]",
            "text/plain": [
              "<Figure size 432x288 with 1 Axes>"
            ]
          },
          "metadata": {
            "tags": []
          }
        }
      ]
    },
    {
      "cell_type": "code",
      "metadata": {
        "id": "10HEywQ0zcQj",
        "colab_type": "code",
        "outputId": "30c2b30c-a312-4727-9d44-41c34e6678e5",
        "colab": {
          "base_uri": "https://localhost:8080/",
          "height": 34
        }
      },
      "source": [
        "l = np.mean(data)\n",
        "l"
      ],
      "execution_count": 6,
      "outputs": [
        {
          "output_type": "execute_result",
          "data": {
            "text/plain": [
              "1.9381992541289292"
            ]
          },
          "metadata": {
            "tags": []
          },
          "execution_count": 6
        }
      ]
    },
    {
      "cell_type": "markdown",
      "metadata": {
        "id": "gqTH4mi6zcQk",
        "colab_type": "text"
      },
      "source": [
        "## Pearson's correlation"
      ]
    },
    {
      "cell_type": "code",
      "metadata": {
        "id": "l3e9_haUzcQl",
        "colab_type": "code",
        "outputId": "c4efd8ac-93c1-4e1f-8b6d-9edf5ed3b50b",
        "colab": {
          "base_uri": "https://localhost:8080/",
          "height": 34
        }
      },
      "source": [
        "observed_frequences = np.bincount(data)\n",
        "observed_frequences"
      ],
      "execution_count": 7,
      "outputs": [
        {
          "output_type": "execute_result",
          "data": {
            "text/plain": [
              "array([378, 262, 684, 353, 128,  35,  16,   8,  10,   1,   1,   1])"
            ]
          },
          "metadata": {
            "tags": []
          },
          "execution_count": 7
        }
      ]
    },
    {
      "cell_type": "code",
      "metadata": {
        "id": "YZMCuMGUzcQn",
        "colab_type": "code",
        "outputId": "2fd9ee83-5acb-4aa5-a3f1-cbb10890875d",
        "colab": {
          "base_uri": "https://localhost:8080/",
          "height": 221
        }
      },
      "source": [
        "expected_frequences = [len(data)*stats.poisson.pmf(x, l) for x in range(min(data), max(data) + 1)]\n",
        "expected_frequences"
      ],
      "execution_count": 8,
      "outputs": [
        {
          "output_type": "execute_result",
          "data": {
            "text/plain": [
              "[270.2184706741783,\n",
              " 523.7372383125523,\n",
              " 507.55356232846714,\n",
              " 327.9133119785053,\n",
              " 158.89033417392147,\n",
              " 61.59222543683817,\n",
              " 19.89633423363676,\n",
              " 5.50900859593352,\n",
              " 1.3346945439535256,\n",
              " 0.28743377439785334,\n",
              " 0.05571039271493817,\n",
              " 0.009816167418847534]"
            ]
          },
          "metadata": {
            "tags": []
          },
          "execution_count": 8
        }
      ]
    },
    {
      "cell_type": "code",
      "metadata": {
        "id": "8Yd4Hw3OzcQp",
        "colab_type": "code",
        "outputId": "b092289c-b783-45f9-c363-709996224f54",
        "colab": {
          "base_uri": "https://localhost:8080/",
          "height": 286
        }
      },
      "source": [
        "pylab.bar(range(len(expected_frequences)), expected_frequences, color = 'b', label = 'poisson_distr')\n",
        "pylab.legend()"
      ],
      "execution_count": 9,
      "outputs": [
        {
          "output_type": "execute_result",
          "data": {
            "text/plain": [
              "<matplotlib.legend.Legend at 0x7f6379664240>"
            ]
          },
          "metadata": {
            "tags": []
          },
          "execution_count": 9
        },
        {
          "output_type": "display_data",
          "data": {
            "image/png": "[encoded data removed]",
            "text/plain": [
              "<Figure size 432x288 with 1 Axes>"
            ]
          },
          "metadata": {
            "tags": []
          }
        }
      ]
    },
    {
      "cell_type": "markdown",
      "metadata": {
        "id": "rru8FOUXzcQs",
        "colab_type": "text"
      },
      "source": [
        "$$\\chi^2=\\sum_{i=1}^K \\frac{\\left(n_i- np_i\\right)^2}{np_i}$$\n",
        "If the null hypothesis is true, it has a chi-square distribution with the number of degrees of freedom $ K-1-m $, where $ m $ is the number of distribution parameters estimated from the sample."
      ]
    },
    {
      "cell_type": "code",
      "metadata": {
        "id": "6lEFXKaczcQs",
        "colab_type": "code",
        "outputId": "8270e523-76fa-4229-e5a1-58bb035a30de",
        "colab": {
          "base_uri": "https://localhost:8080/",
          "height": 34
        }
      },
      "source": [
        "stats.chisquare(observed_frequences, expected_frequences, ddof = 1)"
      ],
      "execution_count": 10,
      "outputs": [
        {
          "output_type": "execute_result",
          "data": {
            "text/plain": [
              "Power_divergenceResult(statistic=430.3417297879709, pvalue=3.2472386956664576e-86)"
            ]
          },
          "metadata": {
            "tags": []
          },
          "execution_count": 10
        }
      ]
    }
  ]
}