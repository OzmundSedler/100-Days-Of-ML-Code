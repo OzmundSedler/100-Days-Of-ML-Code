{
  "nbformat": 4,
  "nbformat_minor": 0,
  "metadata": {
    "kernelspec": {
      "name": "python3",
      "display_name": "Python 3"
    },
    "colab": {
      "name": "1.ln-2.proportion_conf_int.ipynb",
      "version": "0.3.2",
      "provenance": [],
      "collapsed_sections": []
    },
    "accelerator": "GPU"
  },
  "cells": [
    {
      "cell_type": "markdown",
      "metadata": {
        "id": "9pVkiiLZ47AA",
        "colab_type": "text"
      },
      "source": [
        "# Confidence Interval for a Proportion "
      ]
    },
    {
      "cell_type": "markdown",
      "metadata": {
        "id": "4_FjQmR547AB",
        "colab_type": "text"
      },
      "source": [
        "## Data generation"
      ]
    },
    {
      "cell_type": "code",
      "metadata": {
        "id": "30lD3bIQ47AC",
        "colab_type": "code",
        "colab": {}
      },
      "source": [
        "import numpy as np"
      ],
      "execution_count": 0,
      "outputs": []
    },
    {
      "cell_type": "code",
      "metadata": {
        "id": "sYU_tWi-47AE",
        "colab_type": "code",
        "colab": {}
      },
      "source": [
        "np.random.seed(1)\n",
        "\n",
        "statistical_population = np.random.randint(2, size = 100000) \n",
        "\n",
        "random_sample = np.random.choice(statistical_population, size = 1000)"
      ],
      "execution_count": 0,
      "outputs": []
    },
    {
      "cell_type": "code",
      "metadata": {
        "id": "8Qw1ipor47AG",
        "colab_type": "code",
        "outputId": "cef8f9c7-d53d-4a1a-8e84-cea848da8837",
        "colab": {
          "base_uri": "https://localhost:8080/",
          "height": 34
        }
      },
      "source": [
        "statistical_population.mean()"
      ],
      "execution_count": 0,
      "outputs": [
        {
          "output_type": "execute_result",
          "data": {
            "text/plain": [
              "0.49771"
            ]
          },
          "metadata": {
            "tags": []
          },
          "execution_count": 3
        }
      ]
    },
    {
      "cell_type": "markdown",
      "metadata": {
        "id": "OFiePWA847AJ",
        "colab_type": "text"
      },
      "source": [
        "## Sample mean"
      ]
    },
    {
      "cell_type": "code",
      "metadata": {
        "id": "cn6vVi-o47AK",
        "colab_type": "code",
        "outputId": "01fd918f-4e0e-4c46-ba43-b6e4316358af",
        "colab": {
          "base_uri": "https://localhost:8080/",
          "height": 34
        }
      },
      "source": [
        "random_sample.mean()"
      ],
      "execution_count": 0,
      "outputs": [
        {
          "output_type": "execute_result",
          "data": {
            "text/plain": [
              "0.502"
            ]
          },
          "metadata": {
            "tags": []
          },
          "execution_count": 4
        }
      ]
    },
    {
      "cell_type": "markdown",
      "metadata": {
        "id": "nqTZWlx247AM",
        "colab_type": "text"
      },
      "source": [
        "## Confidence interval for a proportion"
      ]
    },
    {
      "cell_type": "code",
      "metadata": {
        "id": "v7VMozym47AM",
        "colab_type": "code",
        "colab": {}
      },
      "source": [
        "from statsmodels.stats.proportion import proportion_confint"
      ],
      "execution_count": 0,
      "outputs": []
    },
    {
      "cell_type": "markdown",
      "metadata": {
        "id": "IiuGZ13947AO",
        "colab_type": "text"
      },
      "source": [
        "### Confidence interval for the standard normal distribution"
      ]
    },
    {
      "cell_type": "markdown",
      "metadata": {
        "id": "pkI4k65S47AP",
        "colab_type": "text"
      },
      "source": [
        "$$\\hat{p}\\pm z_{1-\\frac{\\alpha}{2}} \\sqrt{\\frac{\\hat{p}\\left(1-\\hat{p}\\right)}{n}}$$"
      ]
    },
    {
      "cell_type": "code",
      "metadata": {
        "id": "Oo0XBgCp47AP",
        "colab_type": "code",
        "colab": {}
      },
      "source": [
        "normal_interval = proportion_confint(\n",
        "    sum(random_sample),\n",
        "    len(random_sample),\n",
        "    method = 'normal',\n",
        ")"
      ],
      "execution_count": 0,
      "outputs": []
    },
    {
      "cell_type": "code",
      "metadata": {
        "id": "z4Il4Bt747AR",
        "colab_type": "code",
        "outputId": "a484e4f3-1de3-4e3e-bfe5-120a9161b0c8",
        "colab": {
          "base_uri": "https://localhost:8080/",
          "height": 51
        }
      },
      "source": [
        "print (f'Normal_interval: [{normal_interval[0]}, {normal_interval[1]}]')\n",
        "print (f'Width: {normal_interval[1] - normal_interval[0]}')"
      ],
      "execution_count": 0,
      "outputs": [
        {
          "output_type": "stream",
          "text": [
            "Normal_interval: [0.4710104963037765, 0.5329895036962234]\n",
            "Width: 0.06197900739244694\n"
          ],
          "name": "stdout"
        }
      ]
    },
    {
      "cell_type": "markdown",
      "metadata": {
        "id": "ouEOpPVX47AT",
        "colab_type": "text"
      },
      "source": [
        "### Wilson score interval"
      ]
    },
    {
      "cell_type": "markdown",
      "metadata": {
        "id": "5mD1QGy947AU",
        "colab_type": "text"
      },
      "source": [
        "$$\\frac1{ 1 + \\frac{z^2}{n} } \\left( \\hat{p} + \\frac{z^2}{2n} \\pm z \\sqrt{ \\frac{ \\hat{p}\\left(1-\\hat{p}\\right)}{n} + \\frac{\n",
        "z^2}{4n^2} } \\right), \\;\\; z \\equiv z_{1-\\frac{\\alpha}{2}}$$ "
      ]
    },
    {
      "cell_type": "code",
      "metadata": {
        "id": "Atrm7ERe47AV",
        "colab_type": "code",
        "colab": {}
      },
      "source": [
        "wilson_interval = proportion_confint(sum(random_sample), len(random_sample), method = 'wilson')"
      ],
      "execution_count": 0,
      "outputs": []
    },
    {
      "cell_type": "code",
      "metadata": {
        "id": "NvkoJuYE47AW",
        "colab_type": "code",
        "outputId": "da6e3e76-6bb9-4ec9-a8a9-6af7c6f087d3",
        "colab": {
          "base_uri": "https://localhost:8080/",
          "height": 51
        }
      },
      "source": [
        "print (f'Wilson_interval: [{wilson_interval[0]}, {wilson_interval[1]}]')\n",
        "print (f'Width: {wilson_interval[1] - wilson_interval[0]}')"
      ],
      "execution_count": 0,
      "outputs": [
        {
          "output_type": "stream",
          "text": [
            "Wilson_interval: [0.47106219334840704, 0.5329224996176508]\n",
            "Width: 0.06186030626924377\n"
          ],
          "name": "stdout"
        }
      ]
    },
    {
      "cell_type": "markdown",
      "metadata": {
        "id": "h19jGSo847AY",
        "colab_type": "text"
      },
      "source": [
        "## How to Find a Sample Size Given a Confidence Interval and Width"
      ]
    },
    {
      "cell_type": "code",
      "metadata": {
        "id": "0JftBfNs47AZ",
        "colab_type": "code",
        "colab": {}
      },
      "source": [
        "from statsmodels.stats.proportion import samplesize_confint_proportion"
      ],
      "execution_count": 0,
      "outputs": []
    },
    {
      "cell_type": "code",
      "metadata": {
        "id": "7Vpv5j9x47Ab",
        "colab_type": "code",
        "outputId": "47e5e52f-f10a-4cc9-9ab3-7739a2e88fc1",
        "colab": {
          "base_uri": "https://localhost:8080/",
          "height": 34
        }
      },
      "source": [
        "n_samples = int(np.ceil(samplesize_confint_proportion(random_sample.mean(), 0.01)))\n",
        "n_samples"
      ],
      "execution_count": 0,
      "outputs": [
        {
          "output_type": "execute_result",
          "data": {
            "text/plain": [
              "9604"
            ]
          },
          "metadata": {
            "tags": []
          },
          "execution_count": 11
        }
      ]
    },
    {
      "cell_type": "code",
      "metadata": {
        "id": "ebq1_qOm47Ac",
        "colab_type": "code",
        "colab": {}
      },
      "source": [
        "np.random.seed(1)\n",
        "random_sample = np.random.choice(statistical_population, size = n_samples)"
      ],
      "execution_count": 0,
      "outputs": []
    },
    {
      "cell_type": "code",
      "metadata": {
        "id": "ROXV0Zl247Ae",
        "colab_type": "code",
        "colab": {}
      },
      "source": [
        "normal_interval = proportion_confint(sum(random_sample), len(random_sample), method = 'normal')"
      ],
      "execution_count": 0,
      "outputs": []
    },
    {
      "cell_type": "code",
      "metadata": {
        "id": "p5harOYM47Ag",
        "colab_type": "code",
        "outputId": "99437a77-d64e-4fc9-9674-886c69daab82",
        "colab": {
          "base_uri": "https://localhost:8080/",
          "height": 51
        }
      },
      "source": [
        "print (f'Normal_interval: [{normal_interval[0]}, {normal_interval[1]}]')\n",
        "print (f'Width: {normal_interval[1] - normal_interval[0]}')"
      ],
      "execution_count": 0,
      "outputs": [
        {
          "output_type": "stream",
          "text": [
            "Normal_interval: [0.4817757977994866, 0.5017727236499095]\n",
            "Width: 0.019996925850422953\n"
          ],
          "name": "stdout"
        }
      ]
    }
  ]
}