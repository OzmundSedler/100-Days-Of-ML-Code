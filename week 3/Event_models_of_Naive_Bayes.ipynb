{
  "nbformat": 4,
  "nbformat_minor": 0,
  "metadata": {
    "colab": {
      "name": "Event models of Naive Bayes.ipynb",
      "version": "0.3.2",
      "provenance": [],
      "collapsed_sections": []
    },
    "kernelspec": {
      "name": "python3",
      "display_name": "Python 3"
    },
    "accelerator": "GPU"
  },
  "cells": [
    {
      "cell_type": "markdown",
      "metadata": {
        "id": "ScsoJtT1tGct",
        "colab_type": "text"
      },
      "source": [
        "\n",
        "# Event models of the Naive Bayes classifier"
      ]
    },
    {
      "cell_type": "code",
      "metadata": {
        "id": "o3G0F8EScABT",
        "colab_type": "code",
        "colab": {}
      },
      "source": [
        "%matplotlib inline\n",
        "\n",
        "import numpy as np\n",
        "from sklearn.datasets import load_digits, load_breast_cancer\n",
        "from sklearn.model_selection import cross_val_score\n",
        "from sklearn.naive_bayes import BernoulliNB, MultinomialNB, GaussianNB"
      ],
      "execution_count": 0,
      "outputs": []
    },
    {
      "cell_type": "code",
      "metadata": {
        "id": "ifdDUbmds3ID",
        "colab_type": "code",
        "colab": {}
      },
      "source": [
        "digits = load_digits()\n",
        "X_dig = digits.data\n",
        "y_dig = digits.target\n",
        "\n",
        "breast_cancer = load_breast_cancer()\n",
        "X_br_can = breast_cancer.data\n",
        "y_br_can = breast_cancer.target"
      ],
      "execution_count": 0,
      "outputs": []
    },
    {
      "cell_type": "code",
      "metadata": {
        "id": "zHAApJNDtMw8",
        "colab_type": "code",
        "colab": {}
      },
      "source": [
        "bnb = BernoulliNB()\n",
        "mnb = MultinomialNB()\n",
        "gnb = GaussianNB()"
      ],
      "execution_count": 0,
      "outputs": []
    },
    {
      "cell_type": "code",
      "metadata": {
        "id": "epOQcQA3tP5h",
        "colab_type": "code",
        "colab": {}
      },
      "source": [
        "#Cross-validation of classifiers\n",
        "score_bnb_dig = cross_val_score(bnb, X_dig, y_dig)\n",
        "score_bnb_br_can = cross_val_score(bnb, X_br_can, y_br_can)\n",
        "\n",
        "score_mnb_dig = cross_val_score(mnb, X_dig, y_dig)\n",
        "score_mnb_br_can = cross_val_score(mnb, X_br_can, y_br_can)\n",
        "\n",
        "score_gnb_dig = cross_val_score(gnb, X_dig, y_dig)\n",
        "score_gnb_br_can = cross_val_score(gnb, X_br_can, y_br_can)"
      ],
      "execution_count": 0,
      "outputs": []
    },
    {
      "cell_type": "code",
      "metadata": {
        "id": "xotCOLMptYmE",
        "colab_type": "code",
        "outputId": "924a7f42-7bfc-4dbf-b621-8e20f5939113",
        "colab": {
          "base_uri": "https://localhost:8080/",
          "height": 85
        }
      },
      "source": [
        "print('Digits dataset')\n",
        "print('BernoulliNB mean cross_val_score: ' + str(score_bnb_dig.mean()))\n",
        "print('MultinomialNB mean cross_val_score: ' + str(score_mnb_dig.mean()))\n",
        "print('GaussianNB mean cross_val_score: ' + str(score_gnb_dig.mean()))"
      ],
      "execution_count": 0,
      "outputs": [
        {
          "output_type": "stream",
          "text": [
            "Digits dataset\n",
            "BernoulliNB mean cross_val_score: 0.8258236507780582\n",
            "MultinomialNB mean cross_val_score: 0.8708771489735053\n",
            "GaussianNB mean cross_val_score: 0.8186003803550138\n"
          ],
          "name": "stdout"
        }
      ]
    },
    {
      "cell_type": "code",
      "metadata": {
        "id": "_9I8AW_-tZzE",
        "colab_type": "code",
        "outputId": "ae4d9b82-7204-468f-fe4a-b9398b1ea220",
        "colab": {
          "base_uri": "https://localhost:8080/",
          "height": 85
        }
      },
      "source": [
        "print('Breast cancer dataset')\n",
        "print('BernoulliNB mean cross_val_score: ' + str(score_bnb_br_can.mean()))\n",
        "print('MultinomialNB mean cross_val_score: ' + str(score_mnb_br_can.mean()))\n",
        "print('GaussianNB mean cross_val_score: ' + str(score_gnb_br_can.mean()))"
      ],
      "execution_count": 0,
      "outputs": [
        {
          "output_type": "stream",
          "text": [
            "Breast cancer dataset\n",
            "BernoulliNB mean cross_val_score: 0.6274204028589994\n",
            "MultinomialNB mean cross_val_score: 0.8945790401930752\n",
            "GaussianNB mean cross_val_score: 0.9367492806089297\n"
          ],
          "name": "stdout"
        }
      ]
    }
  ]
}