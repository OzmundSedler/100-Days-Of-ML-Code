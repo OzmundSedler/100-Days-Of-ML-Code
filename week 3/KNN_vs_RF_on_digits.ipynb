{
  "nbformat": 4,
  "nbformat_minor": 0,
  "metadata": {
    "colab": {
      "name": "KNN vs RF on digits.ipynb",
      "version": "0.3.2",
      "provenance": [],
      "collapsed_sections": []
    },
    "kernelspec": {
      "name": "python3",
      "display_name": "Python 3"
    },
    "accelerator": "GPU"
  },
  "cells": [
    {
      "cell_type": "code",
      "metadata": {
        "id": "W1qBv3m0XuSr",
        "colab_type": "code",
        "colab": {}
      },
      "source": [
        "import numpy as np\n",
        "from sklearn.datasets import load_digits\n",
        "from sklearn.ensemble import RandomForestClassifier\n",
        "from sklearn.metrics import accuracy_score"
      ],
      "execution_count": 0,
      "outputs": []
    },
    {
      "cell_type": "code",
      "metadata": {
        "id": "OzF4jzlzX5Qr",
        "colab_type": "code",
        "colab": {}
      },
      "source": [
        "#Loading digits dataset\n",
        "digits = load_digits()\n",
        "X = digits.data\n",
        "y = digits.target"
      ],
      "execution_count": 0,
      "outputs": []
    },
    {
      "cell_type": "code",
      "metadata": {
        "id": "X31IWXP-X6t9",
        "colab_type": "code",
        "colab": {}
      },
      "source": [
        "p = 0.75\n",
        "\n",
        "idx = int(p * X.shape[0]) + 1\n",
        "\n",
        "X_train, X_test = np.split(X, [idx])\n",
        "y_train, y_test = np.split(y, [idx])"
      ],
      "execution_count": 0,
      "outputs": []
    },
    {
      "cell_type": "code",
      "metadata": {
        "id": "IeFFfDABX_he",
        "colab_type": "code",
        "colab": {}
      },
      "source": [
        "def euclidian_metric(x, y):\n",
        "    return np.sqrt( np.sum((x - y)**2) )"
      ],
      "execution_count": 0,
      "outputs": []
    },
    {
      "cell_type": "code",
      "metadata": {
        "id": "iHpSCVdJYDeZ",
        "colab_type": "code",
        "colab": {}
      },
      "source": [
        "y_pred_knn = []\n",
        "\n",
        "for test_value in X_test:\n",
        "    ind_min_metric = 0\n",
        "    min_metric = euclidian_metric(test_value, X_train[0])\n",
        "    \n",
        "    for index, train_value in enumerate(X_train):\n",
        "        metric = euclidian_metric(test_value, train_value)\n",
        "        if metric < min_metric:\n",
        "            min_metric = metric\n",
        "            ind_min_metric = index\n",
        "            \n",
        "    y_pred_knn.append(y_train[ind_min_metric])"
      ],
      "execution_count": 0,
      "outputs": []
    },
    {
      "cell_type": "code",
      "metadata": {
        "id": "Px99w4WtYFar",
        "colab_type": "code",
        "outputId": "30d6880e-ca30-42ab-fae5-d1df4c923d3c",
        "colab": {
          "base_uri": "https://localhost:8080/",
          "height": 34
        }
      },
      "source": [
        "#Accuracy\n",
        "knn_err_rate = 1 - accuracy_score(y_test, y_pred_knn)\n",
        "print('1nn classifier error: ' + str(knn_err_rate))"
      ],
      "execution_count": 0,
      "outputs": [
        {
          "output_type": "stream",
          "text": [
            "1nn classifier error: 0.03786191536748329\n"
          ],
          "name": "stdout"
        }
      ]
    },
    {
      "cell_type": "code",
      "metadata": {
        "id": "U_Nh-PdrYI2x",
        "colab_type": "code",
        "outputId": "d5fc48e9-4f7e-4f92-91e2-2d7ef27ebefb",
        "colab": {
          "base_uri": "https://localhost:8080/",
          "height": 136
        }
      },
      "source": [
        "#Random forest classifier\n",
        "rf_clf = RandomForestClassifier(n_estimators=1000)\n",
        "rf_clf.fit(X_train, y_train)"
      ],
      "execution_count": 0,
      "outputs": [
        {
          "output_type": "execute_result",
          "data": {
            "text/plain": [
              "RandomForestClassifier(bootstrap=True, class_weight=None, criterion='gini',\n",
              "                       max_depth=None, max_features='auto', max_leaf_nodes=None,\n",
              "                       min_impurity_decrease=0.0, min_impurity_split=None,\n",
              "                       min_samples_leaf=1, min_samples_split=2,\n",
              "                       min_weight_fraction_leaf=0.0, n_estimators=1000,\n",
              "                       n_jobs=None, oob_score=False, random_state=None,\n",
              "                       verbose=0, warm_start=False)"
            ]
          },
          "metadata": {
            "tags": []
          },
          "execution_count": 7
        }
      ]
    },
    {
      "cell_type": "code",
      "metadata": {
        "id": "OiJHVVOsYMW8",
        "colab_type": "code",
        "outputId": "7c3feaff-1e0b-4c8c-9765-f4f8dc4554c5",
        "colab": {
          "base_uri": "https://localhost:8080/",
          "height": 34
        }
      },
      "source": [
        "#Random forest prediction\n",
        "y_pred_rf = rf_clf.predict(X_test)\n",
        "\n",
        "#Accuracy\n",
        "rf_err_rate = 1 - accuracy_score(y_test, y_pred_rf)\n",
        "print('Random forest classifier error: ' + str(rf_err_rate))"
      ],
      "execution_count": 0,
      "outputs": [
        {
          "output_type": "stream",
          "text": [
            "Random forest classifier error: 0.06904231625835189\n"
          ],
          "name": "stdout"
        }
      ]
    }
  ]
}