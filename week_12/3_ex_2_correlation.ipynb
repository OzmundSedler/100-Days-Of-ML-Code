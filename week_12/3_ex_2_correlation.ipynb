{
  "nbformat": 4,
  "nbformat_minor": 0,
  "metadata": {
    "colab": {
      "name": "3.ex-2.correlation.ipynb",
      "version": "0.3.2",
      "provenance": [],
      "collapsed_sections": []
    },
    "kernelspec": {
      "name": "python3",
      "display_name": "Python 3"
    },
    "accelerator": "GPU"
  },
  "cells": [
    {
      "cell_type": "markdown",
      "metadata": {
        "id": "ag2VKvL32ps9",
        "colab_type": "text"
      },
      "source": [
        "## Lib imports\n"
      ]
    },
    {
      "cell_type": "code",
      "metadata": {
        "id": "JtTQn7YRqNLN",
        "colab_type": "code",
        "colab": {}
      },
      "source": [
        "import numpy as np\n",
        "import pandas as pd\n",
        "\n",
        "from scipy import stats\n",
        "\n",
        "%matplotlib inline\n",
        "import matplotlib.pyplot as plt\n",
        "import seaborn as sns\n",
        "\n",
        "from statsmodels.stats.weightstats import _tconfint_generic\n",
        "from sklearn.metrics import matthews_corrcoef"
      ],
      "execution_count": 0,
      "outputs": []
    },
    {
      "cell_type": "code",
      "metadata": {
        "id": "0DPYs3omqQMX",
        "colab_type": "code",
        "outputId": "b3504926-cc7f-47b7-e271-e54b2ccd31b5",
        "colab": {
          "base_uri": "https://localhost:8080/",
          "height": 34
        }
      },
      "source": [
        "%pylab inline"
      ],
      "execution_count": 2,
      "outputs": [
        {
          "output_type": "stream",
          "text": [
            "Populating the interactive namespace from numpy and matplotlib\n"
          ],
          "name": "stdout"
        }
      ]
    },
    {
      "cell_type": "markdown",
      "metadata": {
        "id": "UI8A7XcV2uof",
        "colab_type": "text"
      },
      "source": [
        "## Data import"
      ]
    },
    {
      "cell_type": "code",
      "metadata": {
        "id": "PFDePpKxiKqF",
        "colab_type": "code",
        "colab": {}
      },
      "source": [
        "water_data = pd.read_csv('https://raw.githubusercontent.com/OzmundSedler/100-Days-Of-ML-Code/master/week_10/datasets/water.txt',\n",
        "                       sep='\\t', skipinitialspace=True, low_memory=False)"
      ],
      "execution_count": 0,
      "outputs": []
    },
    {
      "cell_type": "code",
      "metadata": {
        "id": "OB6auZoZrv3T",
        "colab_type": "code",
        "outputId": "08fdf27f-c270-4790-a2a0-ef613dda15b2",
        "colab": {
          "base_uri": "https://localhost:8080/",
          "height": 170
        }
      },
      "source": [
        "water_data.info()"
      ],
      "execution_count": 4,
      "outputs": [
        {
          "output_type": "stream",
          "text": [
            "<class 'pandas.core.frame.DataFrame'>\n",
            "RangeIndex: 61 entries, 0 to 60\n",
            "Data columns (total 4 columns):\n",
            "location     61 non-null object\n",
            "town         61 non-null object\n",
            "mortality    61 non-null int64\n",
            "hardness     61 non-null int64\n",
            "dtypes: int64(2), object(2)\n",
            "memory usage: 2.0+ KB\n"
          ],
          "name": "stdout"
        }
      ]
    },
    {
      "cell_type": "code",
      "metadata": {
        "id": "rB9Geoa9r-lw",
        "colab_type": "code",
        "outputId": "95fa4640-49b7-479f-d013-f42daf45e511",
        "colab": {
          "base_uri": "https://localhost:8080/",
          "height": 297
        }
      },
      "source": [
        "water_data.describe()"
      ],
      "execution_count": 5,
      "outputs": [
        {
          "output_type": "execute_result",
          "data": {
            "text/html": [
              "<div>\n",
              "<style scoped>\n",
              "    .dataframe tbody tr th:only-of-type {\n",
              "        vertical-align: middle;\n",
              "    }\n",
              "\n",
              "    .dataframe tbody tr th {\n",
              "        vertical-align: top;\n",
              "    }\n",
              "\n",
              "    .dataframe thead th {\n",
              "        text-align: right;\n",
              "    }\n",
              "</style>\n",
              "<table border=\"1\" class=\"dataframe\">\n",
              "  <thead>\n",
              "    <tr style=\"text-align: right;\">\n",
              "      <th></th>\n",
              "      <th>mortality</th>\n",
              "      <th>hardness</th>\n",
              "    </tr>\n",
              "  </thead>\n",
              "  <tbody>\n",
              "    <tr>\n",
              "      <th>count</th>\n",
              "      <td>61.000000</td>\n",
              "      <td>61.000000</td>\n",
              "    </tr>\n",
              "    <tr>\n",
              "      <th>mean</th>\n",
              "      <td>1524.147541</td>\n",
              "      <td>47.180328</td>\n",
              "    </tr>\n",
              "    <tr>\n",
              "      <th>std</th>\n",
              "      <td>187.668754</td>\n",
              "      <td>38.093966</td>\n",
              "    </tr>\n",
              "    <tr>\n",
              "      <th>min</th>\n",
              "      <td>1096.000000</td>\n",
              "      <td>5.000000</td>\n",
              "    </tr>\n",
              "    <tr>\n",
              "      <th>25%</th>\n",
              "      <td>1379.000000</td>\n",
              "      <td>14.000000</td>\n",
              "    </tr>\n",
              "    <tr>\n",
              "      <th>50%</th>\n",
              "      <td>1555.000000</td>\n",
              "      <td>39.000000</td>\n",
              "    </tr>\n",
              "    <tr>\n",
              "      <th>75%</th>\n",
              "      <td>1668.000000</td>\n",
              "      <td>75.000000</td>\n",
              "    </tr>\n",
              "    <tr>\n",
              "      <th>max</th>\n",
              "      <td>1987.000000</td>\n",
              "      <td>138.000000</td>\n",
              "    </tr>\n",
              "  </tbody>\n",
              "</table>\n",
              "</div>"
            ],
            "text/plain": [
              "         mortality    hardness\n",
              "count    61.000000   61.000000\n",
              "mean   1524.147541   47.180328\n",
              "std     187.668754   38.093966\n",
              "min    1096.000000    5.000000\n",
              "25%    1379.000000   14.000000\n",
              "50%    1555.000000   39.000000\n",
              "75%    1668.000000   75.000000\n",
              "max    1987.000000  138.000000"
            ]
          },
          "metadata": {
            "tags": []
          },
          "execution_count": 5
        }
      ]
    },
    {
      "cell_type": "code",
      "metadata": {
        "id": "zMStaaF3sANN",
        "colab_type": "code",
        "outputId": "2c841330-3eb7-442d-d35a-a9d0b22f4b33",
        "colab": {
          "base_uri": "https://localhost:8080/",
          "height": 204
        }
      },
      "source": [
        "water_data.head()"
      ],
      "execution_count": 6,
      "outputs": [
        {
          "output_type": "execute_result",
          "data": {
            "text/html": [
              "<div>\n",
              "<style scoped>\n",
              "    .dataframe tbody tr th:only-of-type {\n",
              "        vertical-align: middle;\n",
              "    }\n",
              "\n",
              "    .dataframe tbody tr th {\n",
              "        vertical-align: top;\n",
              "    }\n",
              "\n",
              "    .dataframe thead th {\n",
              "        text-align: right;\n",
              "    }\n",
              "</style>\n",
              "<table border=\"1\" class=\"dataframe\">\n",
              "  <thead>\n",
              "    <tr style=\"text-align: right;\">\n",
              "      <th></th>\n",
              "      <th>location</th>\n",
              "      <th>town</th>\n",
              "      <th>mortality</th>\n",
              "      <th>hardness</th>\n",
              "    </tr>\n",
              "  </thead>\n",
              "  <tbody>\n",
              "    <tr>\n",
              "      <th>0</th>\n",
              "      <td>South</td>\n",
              "      <td>Bath</td>\n",
              "      <td>1247</td>\n",
              "      <td>105</td>\n",
              "    </tr>\n",
              "    <tr>\n",
              "      <th>1</th>\n",
              "      <td>North</td>\n",
              "      <td>Birkenhead</td>\n",
              "      <td>1668</td>\n",
              "      <td>17</td>\n",
              "    </tr>\n",
              "    <tr>\n",
              "      <th>2</th>\n",
              "      <td>South</td>\n",
              "      <td>Birmingham</td>\n",
              "      <td>1466</td>\n",
              "      <td>5</td>\n",
              "    </tr>\n",
              "    <tr>\n",
              "      <th>3</th>\n",
              "      <td>North</td>\n",
              "      <td>Blackburn</td>\n",
              "      <td>1800</td>\n",
              "      <td>14</td>\n",
              "    </tr>\n",
              "    <tr>\n",
              "      <th>4</th>\n",
              "      <td>North</td>\n",
              "      <td>Blackpool</td>\n",
              "      <td>1609</td>\n",
              "      <td>18</td>\n",
              "    </tr>\n",
              "  </tbody>\n",
              "</table>\n",
              "</div>"
            ],
            "text/plain": [
              "  location        town  mortality  hardness\n",
              "0    South        Bath       1247       105\n",
              "1    North  Birkenhead       1668        17\n",
              "2    South  Birmingham       1466         5\n",
              "3    North   Blackburn       1800        14\n",
              "4    North   Blackpool       1609        18"
            ]
          },
          "metadata": {
            "tags": []
          },
          "execution_count": 6
        }
      ]
    },
    {
      "cell_type": "markdown",
      "metadata": {
        "id": "xkm9TSgW2z73",
        "colab_type": "text"
      },
      "source": [
        "## Task 1\n"
      ]
    },
    {
      "cell_type": "markdown",
      "metadata": {
        "id": "-j18w8aWpdIp",
        "colab_type": "text"
      },
      "source": [
        "For 61 large cities in England and Wales, there is an average annual mortality per 100,000 people (according to 1958–1964) and the concentration of calcium in drinking water (in parts per million). The higher the concentration of calcium, the harder the water. Cities are further divided into northern and southern.\n",
        "\n",
        "Is there a connection between water hardness and average annual mortality? Calculate the value of the correlation coefficients between these signs, round it to fourteen digits after the decimal point."
      ]
    },
    {
      "cell_type": "code",
      "metadata": {
        "id": "6sF8MjvjptdV",
        "colab_type": "code",
        "colab": {
          "base_uri": "https://localhost:8080/",
          "height": 34
        },
        "outputId": "511a9223-7b40-44db-9aa7-0de2def1a1a8"
      },
      "source": [
        "water_data_pearsonr = stats.pearsonr(water_data['mortality'], water_data['hardness'])\n",
        "\n",
        "print(f'Pearson correlation: {water_data_pearsonr[0]:.4f}') "
      ],
      "execution_count": 7,
      "outputs": [
        {
          "output_type": "stream",
          "text": [
            "Pearson correlation: -0.6548\n"
          ],
          "name": "stdout"
        }
      ]
    },
    {
      "cell_type": "code",
      "metadata": {
        "id": "mtURMdZrqBqN",
        "colab_type": "code",
        "colab": {
          "base_uri": "https://localhost:8080/",
          "height": 34
        },
        "outputId": "3d7318da-bc14-4c25-ac25-694b1130cd0a"
      },
      "source": [
        "water_data_spearmanr = stats.spearmanr(water_data['mortality'], water_data['hardness'])\n",
        "\n",
        "print(f'Spearman correlation: {water_data_spearmanr[0]:.4f}')"
      ],
      "execution_count": 8,
      "outputs": [
        {
          "output_type": "stream",
          "text": [
            "Spearman correlation: -0.6317\n"
          ],
          "name": "stdout"
        }
      ]
    },
    {
      "cell_type": "code",
      "metadata": {
        "id": "ZXdFV86bqJwk",
        "colab_type": "code",
        "colab": {
          "base_uri": "https://localhost:8080/",
          "height": 458
        },
        "outputId": "761e2843-c48e-4e14-9fd2-a4652e40e20d"
      },
      "source": [
        "sns.jointplot('mortality', 'hardness', water_data, kind=\"reg\")"
      ],
      "execution_count": 9,
      "outputs": [
        {
          "output_type": "execute_result",
          "data": {
            "text/plain": [
              "<seaborn.axisgrid.JointGrid at 0x7fb063a80240>"
            ]
          },
          "metadata": {
            "tags": []
          },
          "execution_count": 9
        },
        {
          "output_type": "display_data",
          "data": {
            "image/png": "[encoded data removed]",
            "text/plain": [
              "<Figure size 432x432 with 3 Axes>"
            ]
          },
          "metadata": {
            "tags": []
          }
        }
      ]
    },
    {
      "cell_type": "code",
      "metadata": {
        "id": "jp4Ha5iGrsvz",
        "colab_type": "code",
        "colab": {
          "base_uri": "https://localhost:8080/",
          "height": 441
        },
        "outputId": "26d4d516-6141-4002-9f89-10ac0a2e86d5"
      },
      "source": [
        "g = sns.pairplot(water_data, height=3, vars=[\"mortality\", \"hardness\"])\n"
      ],
      "execution_count": 10,
      "outputs": [
        {
          "output_type": "display_data",
          "data": {
            "image/png": "[encoded data removed]",
            "text/plain": [
              "<Figure size 432x432 with 6 Axes>"
            ]
          },
          "metadata": {
            "tags": []
          }
        }
      ]
    },
    {
      "cell_type": "markdown",
      "metadata": {
        "id": "z1CCy_uar5qJ",
        "colab_type": "text"
      },
      "source": [
        "### Task 2\n"
      ]
    },
    {
      "cell_type": "markdown",
      "metadata": {
        "id": "RCaHNEaor7wW",
        "colab_type": "text"
      },
      "source": [
        "Is the relationship between the signs preserved if the sample is divided into northern and southern cities? Calculate the Pearson correlation between the average annual mortality and water hardness in each of the two subsamples, enter the smallest modulo of the two values, rounding it to four digits after the decimal point."
      ]
    },
    {
      "cell_type": "code",
      "metadata": {
        "id": "_a04_W0ZsAAi",
        "colab_type": "code",
        "colab": {}
      },
      "source": [
        "south_water_data = water_data[water_data.location == 'South']\n",
        "north_water_data = water_data[water_data.location == 'North']"
      ],
      "execution_count": 0,
      "outputs": []
    },
    {
      "cell_type": "code",
      "metadata": {
        "id": "9iEQdCkXscqT",
        "colab_type": "code",
        "colab": {
          "base_uri": "https://localhost:8080/",
          "height": 34
        },
        "outputId": "af674008-1775-4f4f-8e4c-a5b64f7d7749"
      },
      "source": [
        "south_water_data_pearsonr = stats.pearsonr(south_water_data['mortality'], south_water_data['hardness'])\n",
        "\n",
        "print(f'Pearson correlation in south cities: {south_water_data_pearsonr[0]:.4f}') "
      ],
      "execution_count": 12,
      "outputs": [
        {
          "output_type": "stream",
          "text": [
            "Pearson correlation in south cities: -0.6022\n"
          ],
          "name": "stdout"
        }
      ]
    },
    {
      "cell_type": "code",
      "metadata": {
        "id": "7zz-uDFLskCO",
        "colab_type": "code",
        "colab": {
          "base_uri": "https://localhost:8080/",
          "height": 34
        },
        "outputId": "f937c534-8f60-4803-c7dd-214bfd58f83e"
      },
      "source": [
        "north_water_data_pearsonr = stats.pearsonr(north_water_data['mortality'], north_water_data['hardness'])\n",
        "\n",
        "print(f'Pearson correlation in south cities: {north_water_data_pearsonr[0]:.4f}') "
      ],
      "execution_count": 13,
      "outputs": [
        {
          "output_type": "stream",
          "text": [
            "Pearson correlation in south cities: -0.3686\n"
          ],
          "name": "stdout"
        }
      ]
    },
    {
      "cell_type": "markdown",
      "metadata": {
        "id": "4IrS9Lmjstok",
        "colab_type": "text"
      },
      "source": [
        "### Task 3\n"
      ]
    },
    {
      "cell_type": "markdown",
      "metadata": {
        "id": "Hl1-sjAYsvKV",
        "colab_type": "text"
      },
      "source": [
        "Among respondents to the 2014 General Social Survey, at least once a month, 203 women and 239 men spend an evening at the bar; less than once a month, 718 women and 515 men do it.\n",
        "\n",
        "Calculate the value of the Matthews correlation coefficient between gender and the frequency of going to bars. Round the value to three digits after the decimal point."
      ]
    },
    {
      "cell_type": "code",
      "metadata": {
        "id": "aM7jKTO2tCO_",
        "colab_type": "code",
        "colab": {}
      },
      "source": [
        "bars_sex = np.array([[203., 239.], [718., 515.]])"
      ],
      "execution_count": 0,
      "outputs": []
    },
    {
      "cell_type": "code",
      "metadata": {
        "id": "4OglLi5StECp",
        "colab_type": "code",
        "colab": {}
      },
      "source": [
        "def matthewsr(a, b, c, d):\n",
        "    return (a*d - b*c) / np.sqrt((a + b)*(a + c)*(b + d)*(c + d))"
      ],
      "execution_count": 0,
      "outputs": []
    },
    {
      "cell_type": "code",
      "metadata": {
        "id": "jcHb0Vg-tGIP",
        "colab_type": "code",
        "colab": {
          "base_uri": "https://localhost:8080/",
          "height": 34
        },
        "outputId": "15e30a16-521c-4bc1-82e6-91138a09b798"
      },
      "source": [
        "matthews_coeff = matthewsr(*bars_sex.flatten())\n",
        "print('Matthews correlation: %.4f' % matthews_coeff)"
      ],
      "execution_count": 16,
      "outputs": [
        {
          "output_type": "stream",
          "text": [
            "Matthews correlation: -0.1090\n"
          ],
          "name": "stdout"
        }
      ]
    },
    {
      "cell_type": "markdown",
      "metadata": {
        "id": "Sa6gg2s_t787",
        "colab_type": "text"
      },
      "source": [
        "In the previous task, check if the Matthews correlation coefficient is significantly different from zero. Calculate the level of significance achieved; use the scipy.stats.chi2_contingency function."
      ]
    },
    {
      "cell_type": "code",
      "metadata": {
        "id": "bQQSsGtot6h5",
        "colab_type": "code",
        "colab": {
          "base_uri": "https://localhost:8080/",
          "height": 34
        },
        "outputId": "bbac2952-4b51-4efc-d0c2-f5232ea131af"
      },
      "source": [
        "print('Matthews significance p-value: %f' % stats.chi2_contingency(bars_sex)[1])"
      ],
      "execution_count": 17,
      "outputs": [
        {
          "output_type": "stream",
          "text": [
            "Matthews significance p-value: 0.000011\n"
          ],
          "name": "stdout"
        }
      ]
    },
    {
      "cell_type": "markdown",
      "metadata": {
        "id": "qCnavzBrt_Be",
        "colab_type": "text"
      },
      "source": [
        "In the previous task, let's try to answer a slightly different question: do the proportion of men and the proportion of women who spend evenings in the bar relatively often differ? Construct a 95% confidence interval for the difference in shares, subtracting the share of women from the share of men. What is its lower boundary equal to? Round up to four digits after the decimal point."
      ]
    },
    {
      "cell_type": "code",
      "metadata": {
        "id": "SSslaelPuDKT",
        "colab_type": "code",
        "colab": {}
      },
      "source": [
        "def proportions_diff_confint_ind(sample1, sample2, alpha = 0.05):    \n",
        "    z = stats.norm.ppf(1 - alpha / 2.)\n",
        "\n",
        "    p1 = sample1[0] / np.sum(sample1)\n",
        "    p2 = sample2[0] / np.sum(sample2)\n",
        "    \n",
        "    left_boundary = (p1 - p2) - z * np.sqrt(p1 * (1 - p1)/ np.sum(sample1) + p2 * (1 - p2)/ np.sum(sample2))\n",
        "    right_boundary = (p1 - p2) + z * np.sqrt(p1 * (1 - p1)/ np.sum(sample1) + p2 * (1 - p2)/ np.sum(sample2))\n",
        "    \n",
        "    return (left_boundary, right_boundary)"
      ],
      "execution_count": 0,
      "outputs": []
    },
    {
      "cell_type": "code",
      "metadata": {
        "id": "y5bmG9O_uN9z",
        "colab_type": "code",
        "colab": {
          "base_uri": "https://localhost:8080/",
          "height": 34
        },
        "outputId": "aaa15253-69c2-4899-dd2c-abae8c686266"
      },
      "source": [
        "print('95%% confidence interval for a difference of men and women: [%.4f, %.4f]' %\n",
        "      proportions_diff_confint_ind(bars_sex[:,1], bars_sex[:,0]))"
      ],
      "execution_count": 19,
      "outputs": [
        {
          "output_type": "stream",
          "text": [
            "95% confidence interval for a difference of men and women: [0.0539, 0.1392]\n"
          ],
          "name": "stdout"
        }
      ]
    },
    {
      "cell_type": "markdown",
      "metadata": {
        "id": "8rUrMgqOuRH0",
        "colab_type": "text"
      },
      "source": [
        "Test the hypothesis of equal shares of fans who often spend evenings at the bar among men and women. Calculate the level of significance achieved using a two-way alternative."
      ]
    },
    {
      "cell_type": "code",
      "metadata": {
        "id": "HF8AIKjduUxQ",
        "colab_type": "code",
        "colab": {}
      },
      "source": [
        "def proportions_diff_z_stat_ind(sample1, sample2):\n",
        "    n1 = np.sum(sample1)\n",
        "    n2 = np.sum(sample2)\n",
        "    \n",
        "    p1 = sample1[0] / n1\n",
        "    p2 = sample2[0] / n2 \n",
        "    P = float(p1*n1 + p2*n2) / (n1 + n2)\n",
        "    \n",
        "    return (p1 - p2) / np.sqrt(P * (1 - P) * (1. / n1 + 1. / n2))"
      ],
      "execution_count": 0,
      "outputs": []
    },
    {
      "cell_type": "code",
      "metadata": {
        "id": "aJcWuqQiuYl3",
        "colab_type": "code",
        "colab": {}
      },
      "source": [
        "def proportions_diff_z_test(z_stat, alternative = 'two-sided'):\n",
        "    if alternative not in ('two-sided', 'less', 'greater'):\n",
        "        raise ValueError(\"alternative not recognized\\n\"\n",
        "                         \"should be 'two-sided', 'less' or 'greater'\")\n",
        "    \n",
        "    if alternative == 'two-sided':\n",
        "        return 2 * (1 - stats.norm.cdf(np.abs(z_stat)))\n",
        "    \n",
        "    if alternative == 'less':\n",
        "        return stats.norm.cdf(z_stat)\n",
        "\n",
        "    if alternative == 'greater':\n",
        "        return 1 - stats.norm.cdf(z_stat)"
      ],
      "execution_count": 0,
      "outputs": []
    },
    {
      "cell_type": "code",
      "metadata": {
        "id": "cGr28qIzuZXD",
        "colab_type": "code",
        "colab": {
          "base_uri": "https://localhost:8080/",
          "height": 34
        },
        "outputId": "17e3bd79-c6d5-4c0c-fe8f-e3159a20a3a7"
      },
      "source": [
        "print('p-value: %f' % proportions_diff_z_test(proportions_diff_z_stat_ind(bars_sex[:,1], bars_sex[:,0])))"
      ],
      "execution_count": 22,
      "outputs": [
        {
          "output_type": "stream",
          "text": [
            "p-value: 0.000008\n"
          ],
          "name": "stdout"
        }
      ]
    },
    {
      "cell_type": "markdown",
      "metadata": {
        "id": "vNCJT_01ubgp",
        "colab_type": "text"
      },
      "source": [
        "### Task 4"
      ]
    },
    {
      "cell_type": "markdown",
      "metadata": {
        "id": "N1RaZxSAudB8",
        "colab_type": "text"
      },
      "source": [
        "Let's look at the 2014 General Social Survey data and analyze how the answers to the questions \"Are you happy?\" and \"Are you satisfied with your financial situation?\"\n",
        "\n",
        "                 Not satisfied    More or less Satisfied\n",
        "\n",
        "Not very happy   197              111          33\n",
        "\n",
        "Happy enough     382              685          331\n",
        "\n",
        "Very happy       110              342          333]\n",
        "\n",
        "\n",
        "What is the value of chi-square statistics for this contingency table?"
      ]
    },
    {
      "cell_type": "code",
      "metadata": {
        "id": "8REAgS2iu5tc",
        "colab_type": "code",
        "colab": {
          "base_uri": "https://localhost:8080/",
          "height": 34
        },
        "outputId": "326d42e4-622e-49ca-e65c-621ab5775bb9"
      },
      "source": [
        "happiness = np.array( [[197., 111., 33. ],\n",
        "                       [382., 685., 331.],\n",
        "                       [110., 342., 333.]] )\n",
        "\n",
        "print('Chi2 stat value: %.4f' % stats.chi2_contingency(happiness)[0])"
      ],
      "execution_count": 23,
      "outputs": [
        {
          "output_type": "stream",
          "text": [
            "Chi2 stat value: 293.6831\n"
          ],
          "name": "stdout"
        }
      ]
    },
    {
      "cell_type": "code",
      "metadata": {
        "id": "ZQ1tJuVavTHx",
        "colab_type": "code",
        "colab": {
          "base_uri": "https://localhost:8080/",
          "height": 34
        },
        "outputId": "4a1b3469-09d0-4ab4-8887-65a9b39b8b81"
      },
      "source": [
        "print('Chi2 stat p-value: %.62f' % stats.chi2_contingency(happiness)[1])"
      ],
      "execution_count": 24,
      "outputs": [
        {
          "output_type": "stream",
          "text": [
            "Chi2 stat p-value: 0.00000000000000000000000000000000000000000000000000000000000002\n"
          ],
          "name": "stdout"
        }
      ]
    },
    {
      "cell_type": "code",
      "metadata": {
        "id": "kwX_c1QCvemb",
        "colab_type": "code",
        "colab": {}
      },
      "source": [
        "def cramers_stat(confusion_matrix):\n",
        "    chi2 = stats.chi2_contingency(confusion_matrix)[0]\n",
        "    n = confusion_matrix.sum()\n",
        "    return np.sqrt(chi2 / (n*(min(confusion_matrix.shape)-1)))"
      ],
      "execution_count": 0,
      "outputs": []
    },
    {
      "cell_type": "code",
      "metadata": {
        "id": "5P7CCGugvfsZ",
        "colab_type": "code",
        "colab": {
          "base_uri": "https://localhost:8080/",
          "height": 34
        },
        "outputId": "114bdc7c-3efe-4667-89ea-c4db155a098f"
      },
      "source": [
        "print('V Cramer stat value: %.4f' % cramers_stat(happiness))"
      ],
      "execution_count": 26,
      "outputs": [
        {
          "output_type": "stream",
          "text": [
            "V Cramer stat value: 0.2412\n"
          ],
          "name": "stdout"
        }
      ]
    }
  ]
}