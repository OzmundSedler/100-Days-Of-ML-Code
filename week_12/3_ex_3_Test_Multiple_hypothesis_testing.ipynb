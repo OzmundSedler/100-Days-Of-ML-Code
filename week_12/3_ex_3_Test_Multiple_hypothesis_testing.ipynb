{
  "nbformat": 4,
  "nbformat_minor": 0,
  "metadata": {
    "kernelspec": {
      "name": "python3",
      "display_name": "Python 3"
    },
    "colab": {
      "name": "Test Multiple hypothesis testing.ipynb",
      "version": "0.3.2",
      "provenance": []
    },
    "accelerator": "GPU"
  },
  "cells": [
    {
      "cell_type": "markdown",
      "metadata": {
        "id": "xgOSEVVKmDm4",
        "colab_type": "text"
      },
      "source": [
        "# Multiple hypothesis testing"
      ]
    },
    {
      "cell_type": "code",
      "metadata": {
        "id": "KGvh5NCWmDm5",
        "colab_type": "code",
        "colab": {}
      },
      "source": [
        "from __future__ import division\n",
        "\n",
        "import numpy as np\n",
        "import pandas as pd\n",
        "\n",
        "from scipy import stats\n",
        "from statsmodels.sandbox.stats.multicomp import multipletests \n",
        "\n",
        "%matplotlib inline\n",
        "import matplotlib.pyplot as plt\n",
        "import seaborn as sns\n",
        "\n",
        "from itertools import combinations\n",
        "\n",
        "from IPython.core.interactiveshell import InteractiveShell\n",
        "InteractiveShell.ast_node_interactivity = \"all\""
      ],
      "execution_count": 0,
      "outputs": []
    },
    {
      "cell_type": "markdown",
      "metadata": {
        "id": "8JT-pUEmmDm8",
        "colab_type": "text"
      },
      "source": [
        "Classifier C4.5 and its three modifications: with optimization of the hyperparameter, hyperparameter and with the simultaneous optimization of both hyperparameters. These four classifiers were compared on 14 data sets. On each dataset, the AUC of each classifier was calculated. Data is written in the format: \n",
        "\n",
        "AUCs.txt"
      ]
    },
    {
      "cell_type": "code",
      "metadata": {
        "id": "WuGfu7UWmDm8",
        "colab_type": "code",
        "colab": {
          "base_uri": "https://localhost:8080/",
          "height": 187
        },
        "outputId": "4e04e947-94c3-40a2-a4b0-87da63f8a4cc"
      },
      "source": [
        "aucs = pd.read_csv('https://raw.githubusercontent.com/OzmundSedler/100-Days-Of-ML-Code/master/week_12/datasets/AUCs.txt', delimiter='\\t')\n",
        "aucs.info()"
      ],
      "execution_count": 2,
      "outputs": [
        {
          "output_type": "stream",
          "text": [
            "<class 'pandas.core.frame.DataFrame'>\n",
            "RangeIndex: 14 entries, 0 to 13\n",
            "Data columns (total 5 columns):\n",
            "Unnamed: 0    14 non-null object\n",
            "C4.5          14 non-null float64\n",
            "C4.5+m        14 non-null float64\n",
            "C4.5+cf       14 non-null float64\n",
            "C4.5+m+cf     14 non-null float64\n",
            "dtypes: float64(4), object(1)\n",
            "memory usage: 640.0+ bytes\n"
          ],
          "name": "stdout"
        }
      ]
    },
    {
      "cell_type": "code",
      "metadata": {
        "id": "1aTFkPdJmyz-",
        "colab_type": "code",
        "colab": {
          "base_uri": "https://localhost:8080/",
          "height": 204
        },
        "outputId": "a2a05b24-0f79-43fb-b4dd-2a226d7da89e"
      },
      "source": [
        "aucs.head()"
      ],
      "execution_count": 3,
      "outputs": [
        {
          "output_type": "execute_result",
          "data": {
            "text/html": [
              "<div>\n",
              "<style scoped>\n",
              "    .dataframe tbody tr th:only-of-type {\n",
              "        vertical-align: middle;\n",
              "    }\n",
              "\n",
              "    .dataframe tbody tr th {\n",
              "        vertical-align: top;\n",
              "    }\n",
              "\n",
              "    .dataframe thead th {\n",
              "        text-align: right;\n",
              "    }\n",
              "</style>\n",
              "<table border=\"1\" class=\"dataframe\">\n",
              "  <thead>\n",
              "    <tr style=\"text-align: right;\">\n",
              "      <th></th>\n",
              "      <th>Unnamed: 0</th>\n",
              "      <th>C4.5</th>\n",
              "      <th>C4.5+m</th>\n",
              "      <th>C4.5+cf</th>\n",
              "      <th>C4.5+m+cf</th>\n",
              "    </tr>\n",
              "  </thead>\n",
              "  <tbody>\n",
              "    <tr>\n",
              "      <th>0</th>\n",
              "      <td>adult (sample)</td>\n",
              "      <td>0.763</td>\n",
              "      <td>0.768</td>\n",
              "      <td>0.771</td>\n",
              "      <td>0.798</td>\n",
              "    </tr>\n",
              "    <tr>\n",
              "      <th>1</th>\n",
              "      <td>breast cancer</td>\n",
              "      <td>0.599</td>\n",
              "      <td>0.591</td>\n",
              "      <td>0.590</td>\n",
              "      <td>0.569</td>\n",
              "    </tr>\n",
              "    <tr>\n",
              "      <th>2</th>\n",
              "      <td>breast cancer wisconsin</td>\n",
              "      <td>0.954</td>\n",
              "      <td>0.971</td>\n",
              "      <td>0.968</td>\n",
              "      <td>0.967</td>\n",
              "    </tr>\n",
              "    <tr>\n",
              "      <th>3</th>\n",
              "      <td>cmc</td>\n",
              "      <td>0.628</td>\n",
              "      <td>0.661</td>\n",
              "      <td>0.654</td>\n",
              "      <td>0.657</td>\n",
              "    </tr>\n",
              "    <tr>\n",
              "      <th>4</th>\n",
              "      <td>ionosphere</td>\n",
              "      <td>0.882</td>\n",
              "      <td>0.888</td>\n",
              "      <td>0.886</td>\n",
              "      <td>0.898</td>\n",
              "    </tr>\n",
              "  </tbody>\n",
              "</table>\n",
              "</div>"
            ],
            "text/plain": [
              "                Unnamed: 0   C4.5  C4.5+m  C4.5+cf  C4.5+m+cf\n",
              "0           adult (sample)  0.763   0.768    0.771      0.798\n",
              "1            breast cancer  0.599   0.591    0.590      0.569\n",
              "2  breast cancer wisconsin  0.954   0.971    0.968      0.967\n",
              "3                      cmc  0.628   0.661    0.654      0.657\n",
              "4               ionosphere  0.882   0.888    0.886      0.898"
            ]
          },
          "metadata": {
            "tags": []
          },
          "execution_count": 3
        }
      ]
    },
    {
      "cell_type": "code",
      "metadata": {
        "id": "yyo3TEk-m2ys",
        "colab_type": "code",
        "colab": {
          "base_uri": "https://localhost:8080/",
          "height": 297
        },
        "outputId": "ea8c7442-03db-421d-96c7-ef3ed93d1fb7"
      },
      "source": [
        "aucs.describe()"
      ],
      "execution_count": 4,
      "outputs": [
        {
          "output_type": "execute_result",
          "data": {
            "text/html": [
              "<div>\n",
              "<style scoped>\n",
              "    .dataframe tbody tr th:only-of-type {\n",
              "        vertical-align: middle;\n",
              "    }\n",
              "\n",
              "    .dataframe tbody tr th {\n",
              "        vertical-align: top;\n",
              "    }\n",
              "\n",
              "    .dataframe thead th {\n",
              "        text-align: right;\n",
              "    }\n",
              "</style>\n",
              "<table border=\"1\" class=\"dataframe\">\n",
              "  <thead>\n",
              "    <tr style=\"text-align: right;\">\n",
              "      <th></th>\n",
              "      <th>C4.5</th>\n",
              "      <th>C4.5+m</th>\n",
              "      <th>C4.5+cf</th>\n",
              "      <th>C4.5+m+cf</th>\n",
              "    </tr>\n",
              "  </thead>\n",
              "  <tbody>\n",
              "    <tr>\n",
              "      <th>count</th>\n",
              "      <td>14.000000</td>\n",
              "      <td>14.000000</td>\n",
              "      <td>14.000000</td>\n",
              "      <td>14.000000</td>\n",
              "    </tr>\n",
              "    <tr>\n",
              "      <th>mean</th>\n",
              "      <td>0.804929</td>\n",
              "      <td>0.820429</td>\n",
              "      <td>0.808786</td>\n",
              "      <td>0.827214</td>\n",
              "    </tr>\n",
              "    <tr>\n",
              "      <th>std</th>\n",
              "      <td>0.160187</td>\n",
              "      <td>0.158583</td>\n",
              "      <td>0.167566</td>\n",
              "      <td>0.154548</td>\n",
              "    </tr>\n",
              "    <tr>\n",
              "      <th>min</th>\n",
              "      <td>0.583000</td>\n",
              "      <td>0.583000</td>\n",
              "      <td>0.563000</td>\n",
              "      <td>0.569000</td>\n",
              "    </tr>\n",
              "    <tr>\n",
              "      <th>25%</th>\n",
              "      <td>0.636250</td>\n",
              "      <td>0.666500</td>\n",
              "      <td>0.624000</td>\n",
              "      <td>0.673000</td>\n",
              "    </tr>\n",
              "    <tr>\n",
              "      <th>50%</th>\n",
              "      <td>0.828500</td>\n",
              "      <td>0.863000</td>\n",
              "      <td>0.876000</td>\n",
              "      <td>0.886500</td>\n",
              "    </tr>\n",
              "    <tr>\n",
              "      <th>75%</th>\n",
              "      <td>0.950500</td>\n",
              "      <td>0.968750</td>\n",
              "      <td>0.960250</td>\n",
              "      <td>0.965750</td>\n",
              "    </tr>\n",
              "    <tr>\n",
              "      <th>max</th>\n",
              "      <td>1.000000</td>\n",
              "      <td>1.000000</td>\n",
              "      <td>1.000000</td>\n",
              "      <td>1.000000</td>\n",
              "    </tr>\n",
              "  </tbody>\n",
              "</table>\n",
              "</div>"
            ],
            "text/plain": [
              "            C4.5     C4.5+m    C4.5+cf  C4.5+m+cf\n",
              "count  14.000000  14.000000  14.000000  14.000000\n",
              "mean    0.804929   0.820429   0.808786   0.827214\n",
              "std     0.160187   0.158583   0.167566   0.154548\n",
              "min     0.583000   0.583000   0.563000   0.569000\n",
              "25%     0.636250   0.666500   0.624000   0.673000\n",
              "50%     0.828500   0.863000   0.876000   0.886500\n",
              "75%     0.950500   0.968750   0.960250   0.965750\n",
              "max     1.000000   1.000000   1.000000   1.000000"
            ]
          },
          "metadata": {
            "tags": []
          },
          "execution_count": 4
        }
      ]
    },
    {
      "cell_type": "code",
      "metadata": {
        "scrolled": true,
        "id": "DE4ej9VFmDm_",
        "colab_type": "code",
        "colab": {}
      },
      "source": [
        "aucs.columns = ['Dataset', 'C4.5', 'C4.5+m', 'C4.5+cf', 'C4.5+m+cf']"
      ],
      "execution_count": 0,
      "outputs": []
    },
    {
      "cell_type": "markdown",
      "metadata": {
        "id": "ONLIIipgnD-p",
        "colab_type": "text"
      },
      "source": [
        "Using the sign ranks test, a comparison is made with each pair of classigires. Choose two classifiers, the difference between them is the most statistically significant."
      ]
    },
    {
      "cell_type": "code",
      "metadata": {
        "id": "keJWnxn1mDnB",
        "colab_type": "code",
        "colab": {}
      },
      "source": [
        "w_stat = pd.DataFrame(columns=['Model 1', 'Model 2', 'Wilcoxon stat', 'p-value'])\n",
        "k = 0\n",
        "for i, j in combinations([1, 2, 3, 4], 2):\n",
        "    w_stat.loc[k, 'Model 1'], w_stat.loc[k, 'Model 2'] = aucs.columns[i], aucs.columns[j]\n",
        "    w_stat.loc[k, 'Wilcoxon stat'], w_stat.loc[k, 'p-value'] = stats.wilcoxon(aucs.iloc[:, i], aucs.iloc[:, j])\n",
        "    k += 1"
      ],
      "execution_count": 0,
      "outputs": []
    },
    {
      "cell_type": "code",
      "metadata": {
        "id": "PfwpRRhjmDnD",
        "colab_type": "code",
        "colab": {
          "base_uri": "https://localhost:8080/",
          "height": 235
        },
        "outputId": "adfb6a37-a315-4009-b726-0cd8decc3fb4"
      },
      "source": [
        "w_stat"
      ],
      "execution_count": 7,
      "outputs": [
        {
          "output_type": "execute_result",
          "data": {
            "text/html": [
              "<div>\n",
              "<style scoped>\n",
              "    .dataframe tbody tr th:only-of-type {\n",
              "        vertical-align: middle;\n",
              "    }\n",
              "\n",
              "    .dataframe tbody tr th {\n",
              "        vertical-align: top;\n",
              "    }\n",
              "\n",
              "    .dataframe thead th {\n",
              "        text-align: right;\n",
              "    }\n",
              "</style>\n",
              "<table border=\"1\" class=\"dataframe\">\n",
              "  <thead>\n",
              "    <tr style=\"text-align: right;\">\n",
              "      <th></th>\n",
              "      <th>Model 1</th>\n",
              "      <th>Model 2</th>\n",
              "      <th>Wilcoxon stat</th>\n",
              "      <th>p-value</th>\n",
              "    </tr>\n",
              "  </thead>\n",
              "  <tbody>\n",
              "    <tr>\n",
              "      <th>0</th>\n",
              "      <td>C4.5</td>\n",
              "      <td>C4.5+m</td>\n",
              "      <td>6.5</td>\n",
              "      <td>0.0107571</td>\n",
              "    </tr>\n",
              "    <tr>\n",
              "      <th>1</th>\n",
              "      <td>C4.5</td>\n",
              "      <td>C4.5+cf</td>\n",
              "      <td>43</td>\n",
              "      <td>0.861262</td>\n",
              "    </tr>\n",
              "    <tr>\n",
              "      <th>2</th>\n",
              "      <td>C4.5</td>\n",
              "      <td>C4.5+m+cf</td>\n",
              "      <td>11</td>\n",
              "      <td>0.0159064</td>\n",
              "    </tr>\n",
              "    <tr>\n",
              "      <th>3</th>\n",
              "      <td>C4.5+m</td>\n",
              "      <td>C4.5+cf</td>\n",
              "      <td>17</td>\n",
              "      <td>0.0463327</td>\n",
              "    </tr>\n",
              "    <tr>\n",
              "      <th>4</th>\n",
              "      <td>C4.5+m</td>\n",
              "      <td>C4.5+m+cf</td>\n",
              "      <td>22</td>\n",
              "      <td>0.327826</td>\n",
              "    </tr>\n",
              "    <tr>\n",
              "      <th>5</th>\n",
              "      <td>C4.5+cf</td>\n",
              "      <td>C4.5+m+cf</td>\n",
              "      <td>10</td>\n",
              "      <td>0.0229091</td>\n",
              "    </tr>\n",
              "  </tbody>\n",
              "</table>\n",
              "</div>"
            ],
            "text/plain": [
              "   Model 1    Model 2 Wilcoxon stat    p-value\n",
              "0     C4.5     C4.5+m           6.5  0.0107571\n",
              "1     C4.5    C4.5+cf            43   0.861262\n",
              "2     C4.5  C4.5+m+cf            11  0.0159064\n",
              "3   C4.5+m    C4.5+cf            17  0.0463327\n",
              "4   C4.5+m  C4.5+m+cf            22   0.327826\n",
              "5  C4.5+cf  C4.5+m+cf            10  0.0229091"
            ]
          },
          "metadata": {
            "tags": []
          },
          "execution_count": 7
        }
      ]
    },
    {
      "cell_type": "code",
      "metadata": {
        "scrolled": true,
        "id": "BgYMa4p9mDnF",
        "colab_type": "code",
        "colab": {
          "base_uri": "https://localhost:8080/",
          "height": 85
        },
        "outputId": "ea2792b8-a227-4597-b008-6c4f47bba4e5"
      },
      "source": [
        "print('Two classifiers with the highest significance difference:')\n",
        "print(w_stat.sort_values('p-value').loc[0, ['Model 1', 'Model 2']])"
      ],
      "execution_count": 23,
      "outputs": [
        {
          "output_type": "stream",
          "text": [
            "Two classifiers with the highest significance difference:\n",
            "Model 1      C4.5\n",
            "Model 2    C4.5+m\n",
            "Name: 0, dtype: object\n"
          ],
          "name": "stdout"
        }
      ]
    },
    {
      "cell_type": "markdown",
      "metadata": {
        "id": "bxbA3kzbmDnH",
        "colab_type": "text"
      },
      "source": [
        "How many statistically significant differences at 0.05 did we find?"
      ]
    },
    {
      "cell_type": "code",
      "metadata": {
        "id": "Ro8PsSq4mDnI",
        "colab_type": "code",
        "colab": {
          "base_uri": "https://localhost:8080/",
          "height": 34
        },
        "outputId": "8704e163-8065-485d-86c1-3df3a4e900fd"
      },
      "source": [
        "diff_models_cnt = w_stat.loc[w_stat.loc[:, 'p-value'] <= 0.05, :].shape[0]\n",
        "print('Number of p-value <= 0.05: %d' % diff_models_cnt)"
      ],
      "execution_count": 24,
      "outputs": [
        {
          "output_type": "stream",
          "text": [
            "Number of p-value <= 0.05: 4\n"
          ],
          "name": "stdout"
        }
      ]
    },
    {
      "cell_type": "markdown",
      "metadata": {
        "id": "ylLbGkQcmDnK",
        "colab_type": "text"
      },
      "source": [
        "Comparing 4 classifiers with each other, we tested 6 hypotheses. Let's make an allowance for multiple validation. Let's start with the Hill method. How many hypotheses can be rejected at a significance level of 0.05 after correction by this method?"
      ]
    },
    {
      "cell_type": "code",
      "metadata": {
        "id": "kWF8H6LOmDnL",
        "colab_type": "code",
        "colab": {}
      },
      "source": [
        "reject, p_corrected, a1, a2 = multipletests(w_stat['p-value'], alpha = 0.05, method = 'holm') "
      ],
      "execution_count": 0,
      "outputs": []
    },
    {
      "cell_type": "code",
      "metadata": {
        "id": "xe3uBSQvmDnN",
        "colab_type": "code",
        "colab": {}
      },
      "source": [
        "w_stat['p_corrected'] = p_corrected\n",
        "w_stat['reject'] = reject"
      ],
      "execution_count": 0,
      "outputs": []
    },
    {
      "cell_type": "code",
      "metadata": {
        "id": "uoRRYObvmDnP",
        "colab_type": "code",
        "colab": {
          "base_uri": "https://localhost:8080/",
          "height": 235
        },
        "outputId": "d4c8c29e-3e2b-4ec6-ce75-d8c8ef37aa4d"
      },
      "source": [
        "w_stat"
      ],
      "execution_count": 27,
      "outputs": [
        {
          "output_type": "execute_result",
          "data": {
            "text/html": [
              "<div>\n",
              "<style scoped>\n",
              "    .dataframe tbody tr th:only-of-type {\n",
              "        vertical-align: middle;\n",
              "    }\n",
              "\n",
              "    .dataframe tbody tr th {\n",
              "        vertical-align: top;\n",
              "    }\n",
              "\n",
              "    .dataframe thead th {\n",
              "        text-align: right;\n",
              "    }\n",
              "</style>\n",
              "<table border=\"1\" class=\"dataframe\">\n",
              "  <thead>\n",
              "    <tr style=\"text-align: right;\">\n",
              "      <th></th>\n",
              "      <th>Model 1</th>\n",
              "      <th>Model 2</th>\n",
              "      <th>Wilcoxon stat</th>\n",
              "      <th>p-value</th>\n",
              "      <th>p_corrected</th>\n",
              "      <th>reject</th>\n",
              "    </tr>\n",
              "  </thead>\n",
              "  <tbody>\n",
              "    <tr>\n",
              "      <th>0</th>\n",
              "      <td>C4.5</td>\n",
              "      <td>C4.5+m</td>\n",
              "      <td>6.5</td>\n",
              "      <td>0.010757</td>\n",
              "      <td>0.064543</td>\n",
              "      <td>False</td>\n",
              "    </tr>\n",
              "    <tr>\n",
              "      <th>1</th>\n",
              "      <td>C4.5</td>\n",
              "      <td>C4.5+cf</td>\n",
              "      <td>43</td>\n",
              "      <td>0.861262</td>\n",
              "      <td>0.861262</td>\n",
              "      <td>False</td>\n",
              "    </tr>\n",
              "    <tr>\n",
              "      <th>2</th>\n",
              "      <td>C4.5</td>\n",
              "      <td>C4.5+m+cf</td>\n",
              "      <td>11</td>\n",
              "      <td>0.015906</td>\n",
              "      <td>0.079532</td>\n",
              "      <td>False</td>\n",
              "    </tr>\n",
              "    <tr>\n",
              "      <th>3</th>\n",
              "      <td>C4.5+m</td>\n",
              "      <td>C4.5+cf</td>\n",
              "      <td>17</td>\n",
              "      <td>0.046333</td>\n",
              "      <td>0.138998</td>\n",
              "      <td>False</td>\n",
              "    </tr>\n",
              "    <tr>\n",
              "      <th>4</th>\n",
              "      <td>C4.5+m</td>\n",
              "      <td>C4.5+m+cf</td>\n",
              "      <td>22</td>\n",
              "      <td>0.327826</td>\n",
              "      <td>0.655651</td>\n",
              "      <td>False</td>\n",
              "    </tr>\n",
              "    <tr>\n",
              "      <th>5</th>\n",
              "      <td>C4.5+cf</td>\n",
              "      <td>C4.5+m+cf</td>\n",
              "      <td>10</td>\n",
              "      <td>0.022909</td>\n",
              "      <td>0.091636</td>\n",
              "      <td>False</td>\n",
              "    </tr>\n",
              "  </tbody>\n",
              "</table>\n",
              "</div>"
            ],
            "text/plain": [
              "   Model 1    Model 2 Wilcoxon stat   p-value  p_corrected  reject\n",
              "0     C4.5     C4.5+m           6.5  0.010757     0.064543   False\n",
              "1     C4.5    C4.5+cf            43  0.861262     0.861262   False\n",
              "2     C4.5  C4.5+m+cf            11  0.015906     0.079532   False\n",
              "3   C4.5+m    C4.5+cf            17  0.046333     0.138998   False\n",
              "4   C4.5+m  C4.5+m+cf            22  0.327826     0.655651   False\n",
              "5  C4.5+cf  C4.5+m+cf            10  0.022909     0.091636   False"
            ]
          },
          "metadata": {
            "tags": []
          },
          "execution_count": 27
        }
      ]
    },
    {
      "cell_type": "markdown",
      "metadata": {
        "id": "9OZ9NaF5mDnR",
        "colab_type": "text"
      },
      "source": [
        "How many hypotheses can be rejected at a significance level of 0.05 after correction by the Benjamini-Hochberg method?"
      ]
    },
    {
      "cell_type": "code",
      "metadata": {
        "id": "mznjKmsQmDnS",
        "colab_type": "code",
        "colab": {}
      },
      "source": [
        "reject, p_corrected, a1, a2 = multipletests(w_stat['p-value'], alpha = 0.05, method = 'fdr_bh') "
      ],
      "execution_count": 0,
      "outputs": []
    },
    {
      "cell_type": "code",
      "metadata": {
        "id": "QKNDVYGAmDnU",
        "colab_type": "code",
        "colab": {}
      },
      "source": [
        "w_stat['p_corrected'] = p_corrected\n",
        "w_stat['reject'] = reject"
      ],
      "execution_count": 0,
      "outputs": []
    },
    {
      "cell_type": "code",
      "metadata": {
        "id": "RWDC00h6mDnW",
        "colab_type": "code",
        "colab": {
          "base_uri": "https://localhost:8080/",
          "height": 235
        },
        "outputId": "6396281b-0344-4272-d244-e364c8dedd93"
      },
      "source": [
        "w_stat"
      ],
      "execution_count": 30,
      "outputs": [
        {
          "output_type": "execute_result",
          "data": {
            "text/html": [
              "<div>\n",
              "<style scoped>\n",
              "    .dataframe tbody tr th:only-of-type {\n",
              "        vertical-align: middle;\n",
              "    }\n",
              "\n",
              "    .dataframe tbody tr th {\n",
              "        vertical-align: top;\n",
              "    }\n",
              "\n",
              "    .dataframe thead th {\n",
              "        text-align: right;\n",
              "    }\n",
              "</style>\n",
              "<table border=\"1\" class=\"dataframe\">\n",
              "  <thead>\n",
              "    <tr style=\"text-align: right;\">\n",
              "      <th></th>\n",
              "      <th>Model 1</th>\n",
              "      <th>Model 2</th>\n",
              "      <th>Wilcoxon stat</th>\n",
              "      <th>p-value</th>\n",
              "      <th>p_corrected</th>\n",
              "      <th>reject</th>\n",
              "    </tr>\n",
              "  </thead>\n",
              "  <tbody>\n",
              "    <tr>\n",
              "      <th>0</th>\n",
              "      <td>C4.5</td>\n",
              "      <td>C4.5+m</td>\n",
              "      <td>6.5</td>\n",
              "      <td>0.010757</td>\n",
              "      <td>0.045818</td>\n",
              "      <td>True</td>\n",
              "    </tr>\n",
              "    <tr>\n",
              "      <th>1</th>\n",
              "      <td>C4.5</td>\n",
              "      <td>C4.5+cf</td>\n",
              "      <td>43</td>\n",
              "      <td>0.861262</td>\n",
              "      <td>0.861262</td>\n",
              "      <td>False</td>\n",
              "    </tr>\n",
              "    <tr>\n",
              "      <th>2</th>\n",
              "      <td>C4.5</td>\n",
              "      <td>C4.5+m+cf</td>\n",
              "      <td>11</td>\n",
              "      <td>0.015906</td>\n",
              "      <td>0.045818</td>\n",
              "      <td>True</td>\n",
              "    </tr>\n",
              "    <tr>\n",
              "      <th>3</th>\n",
              "      <td>C4.5+m</td>\n",
              "      <td>C4.5+cf</td>\n",
              "      <td>17</td>\n",
              "      <td>0.046333</td>\n",
              "      <td>0.069499</td>\n",
              "      <td>False</td>\n",
              "    </tr>\n",
              "    <tr>\n",
              "      <th>4</th>\n",
              "      <td>C4.5+m</td>\n",
              "      <td>C4.5+m+cf</td>\n",
              "      <td>22</td>\n",
              "      <td>0.327826</td>\n",
              "      <td>0.393391</td>\n",
              "      <td>False</td>\n",
              "    </tr>\n",
              "    <tr>\n",
              "      <th>5</th>\n",
              "      <td>C4.5+cf</td>\n",
              "      <td>C4.5+m+cf</td>\n",
              "      <td>10</td>\n",
              "      <td>0.022909</td>\n",
              "      <td>0.045818</td>\n",
              "      <td>True</td>\n",
              "    </tr>\n",
              "  </tbody>\n",
              "</table>\n",
              "</div>"
            ],
            "text/plain": [
              "   Model 1    Model 2 Wilcoxon stat   p-value  p_corrected  reject\n",
              "0     C4.5     C4.5+m           6.5  0.010757     0.045818    True\n",
              "1     C4.5    C4.5+cf            43  0.861262     0.861262   False\n",
              "2     C4.5  C4.5+m+cf            11  0.015906     0.045818    True\n",
              "3   C4.5+m    C4.5+cf            17  0.046333     0.069499   False\n",
              "4   C4.5+m  C4.5+m+cf            22  0.327826     0.393391   False\n",
              "5  C4.5+cf  C4.5+m+cf            10  0.022909     0.045818    True"
            ]
          },
          "metadata": {
            "tags": []
          },
          "execution_count": 30
        }
      ]
    },
    {
      "cell_type": "code",
      "metadata": {
        "id": "lSvzQQNLmDnY",
        "colab_type": "code",
        "colab": {
          "base_uri": "https://localhost:8080/",
          "height": 34
        },
        "outputId": "608d6aa8-6ec3-48bb-dfc6-8ac828983a31"
      },
      "source": [
        "diff_models_cnt = w_stat.loc[w_stat.loc[:, 'p_corrected'] <= 0.05, :].shape[0]\n",
        "print('Number of p-value <= 0.05: %d' % diff_models_cnt)"
      ],
      "execution_count": 31,
      "outputs": [
        {
          "output_type": "stream",
          "text": [
            "Number of p-value <= 0.05: 3\n"
          ],
          "name": "stdout"
        }
      ]
    }
  ]
}