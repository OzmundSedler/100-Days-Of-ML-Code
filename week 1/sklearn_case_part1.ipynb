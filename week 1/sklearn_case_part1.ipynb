{
  "nbformat": 4,
  "nbformat_minor": 0,
  "metadata": {
    "colab": {
      "name": "sklearn.case_part1.ipynb",
      "version": "0.3.2",
      "provenance": [],
      "collapsed_sections": []
    },
    "language_info": {
      "codemirror_mode": {
        "name": "ipython",
        "version": 2
      },
      "file_extension": ".py",
      "mimetype": "text/x-python",
      "name": "python",
      "nbconvert_exporter": "python",
      "pygments_lexer": "ipython2",
      "version": "2.7.11"
    },
    "kernelspec": {
      "display_name": "Python 2",
      "language": "python",
      "name": "python2"
    }
  },
  "cells": [
    {
      "cell_type": "markdown",
      "metadata": {
        "id": "3gwMygo-XKP7",
        "colab_type": "text"
      },
      "source": [
        "# Sklearn"
      ]
    },
    {
      "cell_type": "markdown",
      "metadata": {
        "id": "yEqO-x25XKP8",
        "colab_type": "text"
      },
      "source": [
        "## Bike Sharing Demand\n",
        "Competition on kaggle: https://www.kaggle.com/c/bike-sharing-demand\n",
        "\n",
        "In this competition, participants are asked to combine historical usage patterns with weather data in order to forecast bike rental demand in the Capital Bikeshare program in Washington, D.C.\n",
        "\n",
        "You've got 11 Data Fields: https://www.kaggle.com/c/prudential-life-insurance-assessment/data\n"
      ]
    },
    {
      "cell_type": "markdown",
      "metadata": {
        "id": "BXYbiLApXKP9",
        "colab_type": "text"
      },
      "source": [
        "### Libs"
      ]
    },
    {
      "cell_type": "code",
      "metadata": {
        "id": "hBZXMvqqXKP-",
        "colab_type": "code",
        "colab": {}
      },
      "source": [
        "import scipy\n",
        "import numpy as np\n",
        "import pandas as pd\n",
        "\n",
        "from sklearn.model_selection import cross_validate, GridSearchCV\n",
        "from sklearn import linear_model, metrics"
      ],
      "execution_count": 0,
      "outputs": []
    },
    {
      "cell_type": "code",
      "metadata": {
        "id": "UP6f57L8XKQB",
        "colab_type": "code",
        "outputId": "c4603fc3-6d8e-4282-9e67-0d09c3ea2a02",
        "colab": {
          "base_uri": "https://localhost:8080/",
          "height": 34
        }
      },
      "source": [
        "%pylab inline"
      ],
      "execution_count": 0,
      "outputs": [
        {
          "output_type": "stream",
          "text": [
            "Populating the interactive namespace from numpy and matplotlib\n"
          ],
          "name": "stdout"
        }
      ]
    },
    {
      "cell_type": "markdown",
      "metadata": {
        "id": "h65kA8W0XKQD",
        "colab_type": "text"
      },
      "source": [
        "### Data"
      ]
    },
    {
      "cell_type": "code",
      "metadata": {
        "id": "GoMan4EDXKQE",
        "colab_type": "code",
        "colab": {}
      },
      "source": [
        "raw_data = pd.read_csv('https://raw.githubusercontent.com/OzmundSedler/100-Days-Of-ML-Code/master/day_2/datasets/bike_sharing_demand.csv', header = 0, sep = ',')"
      ],
      "execution_count": 0,
      "outputs": []
    },
    {
      "cell_type": "code",
      "metadata": {
        "id": "D20JUyQoXKQG",
        "colab_type": "code",
        "outputId": "beb24096-3398-4a40-e96a-68fb3e94e7b9",
        "colab": {
          "base_uri": "https://localhost:8080/",
          "height": 204
        }
      },
      "source": [
        "raw_data.head()"
      ],
      "execution_count": 0,
      "outputs": [
        {
          "output_type": "execute_result",
          "data": {
            "text/html": [
              "<div>\n",
              "<style scoped>\n",
              "    .dataframe tbody tr th:only-of-type {\n",
              "        vertical-align: middle;\n",
              "    }\n",
              "\n",
              "    .dataframe tbody tr th {\n",
              "        vertical-align: top;\n",
              "    }\n",
              "\n",
              "    .dataframe thead th {\n",
              "        text-align: right;\n",
              "    }\n",
              "</style>\n",
              "<table border=\"1\" class=\"dataframe\">\n",
              "  <thead>\n",
              "    <tr style=\"text-align: right;\">\n",
              "      <th></th>\n",
              "      <th>datetime</th>\n",
              "      <th>season</th>\n",
              "      <th>holiday</th>\n",
              "      <th>workingday</th>\n",
              "      <th>weather</th>\n",
              "      <th>temp</th>\n",
              "      <th>atemp</th>\n",
              "      <th>humidity</th>\n",
              "      <th>windspeed</th>\n",
              "      <th>casual</th>\n",
              "      <th>registered</th>\n",
              "      <th>count</th>\n",
              "    </tr>\n",
              "  </thead>\n",
              "  <tbody>\n",
              "    <tr>\n",
              "      <th>0</th>\n",
              "      <td>2011-01-01 00:00:00</td>\n",
              "      <td>1</td>\n",
              "      <td>0</td>\n",
              "      <td>0</td>\n",
              "      <td>1</td>\n",
              "      <td>9.84</td>\n",
              "      <td>14.395</td>\n",
              "      <td>81</td>\n",
              "      <td>0.0</td>\n",
              "      <td>3</td>\n",
              "      <td>13</td>\n",
              "      <td>16</td>\n",
              "    </tr>\n",
              "    <tr>\n",
              "      <th>1</th>\n",
              "      <td>2011-01-01 01:00:00</td>\n",
              "      <td>1</td>\n",
              "      <td>0</td>\n",
              "      <td>0</td>\n",
              "      <td>1</td>\n",
              "      <td>9.02</td>\n",
              "      <td>13.635</td>\n",
              "      <td>80</td>\n",
              "      <td>0.0</td>\n",
              "      <td>8</td>\n",
              "      <td>32</td>\n",
              "      <td>40</td>\n",
              "    </tr>\n",
              "    <tr>\n",
              "      <th>2</th>\n",
              "      <td>2011-01-01 02:00:00</td>\n",
              "      <td>1</td>\n",
              "      <td>0</td>\n",
              "      <td>0</td>\n",
              "      <td>1</td>\n",
              "      <td>9.02</td>\n",
              "      <td>13.635</td>\n",
              "      <td>80</td>\n",
              "      <td>0.0</td>\n",
              "      <td>5</td>\n",
              "      <td>27</td>\n",
              "      <td>32</td>\n",
              "    </tr>\n",
              "    <tr>\n",
              "      <th>3</th>\n",
              "      <td>2011-01-01 03:00:00</td>\n",
              "      <td>1</td>\n",
              "      <td>0</td>\n",
              "      <td>0</td>\n",
              "      <td>1</td>\n",
              "      <td>9.84</td>\n",
              "      <td>14.395</td>\n",
              "      <td>75</td>\n",
              "      <td>0.0</td>\n",
              "      <td>3</td>\n",
              "      <td>10</td>\n",
              "      <td>13</td>\n",
              "    </tr>\n",
              "    <tr>\n",
              "      <th>4</th>\n",
              "      <td>2011-01-01 04:00:00</td>\n",
              "      <td>1</td>\n",
              "      <td>0</td>\n",
              "      <td>0</td>\n",
              "      <td>1</td>\n",
              "      <td>9.84</td>\n",
              "      <td>14.395</td>\n",
              "      <td>75</td>\n",
              "      <td>0.0</td>\n",
              "      <td>0</td>\n",
              "      <td>1</td>\n",
              "      <td>1</td>\n",
              "    </tr>\n",
              "  </tbody>\n",
              "</table>\n",
              "</div>"
            ],
            "text/plain": [
              "              datetime  season  holiday  ...  casual  registered  count\n",
              "0  2011-01-01 00:00:00       1        0  ...       3          13     16\n",
              "1  2011-01-01 01:00:00       1        0  ...       8          32     40\n",
              "2  2011-01-01 02:00:00       1        0  ...       5          27     32\n",
              "3  2011-01-01 03:00:00       1        0  ...       3          10     13\n",
              "4  2011-01-01 04:00:00       1        0  ...       0           1      1\n",
              "\n",
              "[5 rows x 12 columns]"
            ]
          },
          "metadata": {
            "tags": []
          },
          "execution_count": 13
        }
      ]
    },
    {
      "cell_type": "markdown",
      "metadata": {
        "id": "ALbtRbzUXKQI",
        "colab_type": "text"
      },
      "source": [
        "***datetime*** - hourly date + timestamp  \n",
        "\n",
        "***season*** -  1 = spring, 2 = summer, 3 = fall, 4 = winter \n",
        "\n",
        "***holiday*** - whether the day is considered a holiday\n",
        "\n",
        "***workingday*** - whether the day is neither a weekend nor holiday\n",
        "\n",
        "***weather*** - 1: Clear, Few clouds, Partly cloudy, Partly cloudy\n",
        "2: Mist + Cloudy, Mist + Broken clouds, Mist + Few clouds, Mist\n",
        "3: Light Snow, Light Rain + Thunderstorm + Scattered clouds, Light Rain + Scattered clouds\n",
        "4: Heavy Rain + Ice Pallets + Thunderstorm + Mist, Snow + Fog \n",
        "    \n",
        "***temp*** - temperature in Celsius\n",
        "\n",
        "***atemp*** - \"feels like\" temperature in Celsius\n",
        "\n",
        "***humidity*** - relative humidity\n",
        "\n",
        "***windspeed*** - wind speed\n",
        "\n",
        "***casual*** - number of non-registered user rentals initiated\n",
        "\n",
        "***registered*** - number of registered user rentals initiated\n",
        "\n",
        "***count*** - number of total rentals"
      ]
    },
    {
      "cell_type": "code",
      "metadata": {
        "id": "Oie_KwwkXKQJ",
        "colab_type": "code",
        "outputId": "338150be-5168-4687-ec5b-81842e7d241c",
        "colab": {
          "base_uri": "https://localhost:8080/",
          "height": 34
        }
      },
      "source": [
        "print raw_data.shape"
      ],
      "execution_count": 0,
      "outputs": [
        {
          "output_type": "stream",
          "text": [
            "(10886, 12)\n"
          ],
          "name": "stdout"
        }
      ]
    },
    {
      "cell_type": "code",
      "metadata": {
        "id": "Jv7BISlSXKQL",
        "colab_type": "code",
        "outputId": "0b8975db-5bdd-4947-bf3c-f2fe7948e8a1",
        "colab": {
          "base_uri": "https://localhost:8080/",
          "height": 34
        }
      },
      "source": [
        "raw_data.isnull().values.any()"
      ],
      "execution_count": 0,
      "outputs": [
        {
          "output_type": "execute_result",
          "data": {
            "text/plain": [
              "False"
            ]
          },
          "metadata": {
            "tags": []
          },
          "execution_count": 15
        }
      ]
    },
    {
      "cell_type": "markdown",
      "metadata": {
        "id": "2wLV49yDXKQN",
        "colab_type": "text"
      },
      "source": [
        "###  Data preprocessing"
      ]
    },
    {
      "cell_type": "markdown",
      "metadata": {
        "id": "dTOlRFrMXKQO",
        "colab_type": "text"
      },
      "source": [
        "#### Features types"
      ]
    },
    {
      "cell_type": "code",
      "metadata": {
        "id": "7X1kNUl0XKQP",
        "colab_type": "code",
        "outputId": "7f551e94-9fd9-43cc-fb09-eaa850b5b915",
        "colab": {
          "base_uri": "https://localhost:8080/",
          "height": 306
        }
      },
      "source": [
        "raw_data.info()"
      ],
      "execution_count": 0,
      "outputs": [
        {
          "output_type": "stream",
          "text": [
            "<class 'pandas.core.frame.DataFrame'>\n",
            "RangeIndex: 10886 entries, 0 to 10885\n",
            "Data columns (total 12 columns):\n",
            "datetime      10886 non-null object\n",
            "season        10886 non-null int64\n",
            "holiday       10886 non-null int64\n",
            "workingday    10886 non-null int64\n",
            "weather       10886 non-null int64\n",
            "temp          10886 non-null float64\n",
            "atemp         10886 non-null float64\n",
            "humidity      10886 non-null int64\n",
            "windspeed     10886 non-null float64\n",
            "casual        10886 non-null int64\n",
            "registered    10886 non-null int64\n",
            "count         10886 non-null int64\n",
            "dtypes: float64(3), int64(8), object(1)\n",
            "memory usage: 1020.6+ KB\n"
          ],
          "name": "stdout"
        }
      ]
    },
    {
      "cell_type": "code",
      "metadata": {
        "id": "74en2tXxXKQS",
        "colab_type": "code",
        "colab": {}
      },
      "source": [
        "raw_data.datetime = raw_data.datetime.apply(pd.to_datetime)"
      ],
      "execution_count": 0,
      "outputs": []
    },
    {
      "cell_type": "code",
      "metadata": {
        "id": "6fBaDGlcXKQU",
        "colab_type": "code",
        "colab": {}
      },
      "source": [
        "raw_data['month'] = raw_data.datetime.apply(lambda x : x.month)\n",
        "raw_data['hour'] = raw_data.datetime.apply(lambda x : x.hour)"
      ],
      "execution_count": 0,
      "outputs": []
    },
    {
      "cell_type": "code",
      "metadata": {
        "id": "mzzShXPKXKQW",
        "colab_type": "code",
        "outputId": "08e3c4a7-33ba-482c-8215-df56d05fe8db",
        "colab": {
          "base_uri": "https://localhost:8080/",
          "height": 204
        }
      },
      "source": [
        "raw_data.head()"
      ],
      "execution_count": 0,
      "outputs": [
        {
          "output_type": "execute_result",
          "data": {
            "text/html": [
              "<div>\n",
              "<style scoped>\n",
              "    .dataframe tbody tr th:only-of-type {\n",
              "        vertical-align: middle;\n",
              "    }\n",
              "\n",
              "    .dataframe tbody tr th {\n",
              "        vertical-align: top;\n",
              "    }\n",
              "\n",
              "    .dataframe thead th {\n",
              "        text-align: right;\n",
              "    }\n",
              "</style>\n",
              "<table border=\"1\" class=\"dataframe\">\n",
              "  <thead>\n",
              "    <tr style=\"text-align: right;\">\n",
              "      <th></th>\n",
              "      <th>datetime</th>\n",
              "      <th>season</th>\n",
              "      <th>holiday</th>\n",
              "      <th>workingday</th>\n",
              "      <th>weather</th>\n",
              "      <th>temp</th>\n",
              "      <th>atemp</th>\n",
              "      <th>humidity</th>\n",
              "      <th>windspeed</th>\n",
              "      <th>casual</th>\n",
              "      <th>registered</th>\n",
              "      <th>count</th>\n",
              "      <th>month</th>\n",
              "      <th>hour</th>\n",
              "    </tr>\n",
              "  </thead>\n",
              "  <tbody>\n",
              "    <tr>\n",
              "      <th>0</th>\n",
              "      <td>2011-01-01 00:00:00</td>\n",
              "      <td>1</td>\n",
              "      <td>0</td>\n",
              "      <td>0</td>\n",
              "      <td>1</td>\n",
              "      <td>9.84</td>\n",
              "      <td>14.395</td>\n",
              "      <td>81</td>\n",
              "      <td>0.0</td>\n",
              "      <td>3</td>\n",
              "      <td>13</td>\n",
              "      <td>16</td>\n",
              "      <td>1</td>\n",
              "      <td>0</td>\n",
              "    </tr>\n",
              "    <tr>\n",
              "      <th>1</th>\n",
              "      <td>2011-01-01 01:00:00</td>\n",
              "      <td>1</td>\n",
              "      <td>0</td>\n",
              "      <td>0</td>\n",
              "      <td>1</td>\n",
              "      <td>9.02</td>\n",
              "      <td>13.635</td>\n",
              "      <td>80</td>\n",
              "      <td>0.0</td>\n",
              "      <td>8</td>\n",
              "      <td>32</td>\n",
              "      <td>40</td>\n",
              "      <td>1</td>\n",
              "      <td>1</td>\n",
              "    </tr>\n",
              "    <tr>\n",
              "      <th>2</th>\n",
              "      <td>2011-01-01 02:00:00</td>\n",
              "      <td>1</td>\n",
              "      <td>0</td>\n",
              "      <td>0</td>\n",
              "      <td>1</td>\n",
              "      <td>9.02</td>\n",
              "      <td>13.635</td>\n",
              "      <td>80</td>\n",
              "      <td>0.0</td>\n",
              "      <td>5</td>\n",
              "      <td>27</td>\n",
              "      <td>32</td>\n",
              "      <td>1</td>\n",
              "      <td>2</td>\n",
              "    </tr>\n",
              "    <tr>\n",
              "      <th>3</th>\n",
              "      <td>2011-01-01 03:00:00</td>\n",
              "      <td>1</td>\n",
              "      <td>0</td>\n",
              "      <td>0</td>\n",
              "      <td>1</td>\n",
              "      <td>9.84</td>\n",
              "      <td>14.395</td>\n",
              "      <td>75</td>\n",
              "      <td>0.0</td>\n",
              "      <td>3</td>\n",
              "      <td>10</td>\n",
              "      <td>13</td>\n",
              "      <td>1</td>\n",
              "      <td>3</td>\n",
              "    </tr>\n",
              "    <tr>\n",
              "      <th>4</th>\n",
              "      <td>2011-01-01 04:00:00</td>\n",
              "      <td>1</td>\n",
              "      <td>0</td>\n",
              "      <td>0</td>\n",
              "      <td>1</td>\n",
              "      <td>9.84</td>\n",
              "      <td>14.395</td>\n",
              "      <td>75</td>\n",
              "      <td>0.0</td>\n",
              "      <td>0</td>\n",
              "      <td>1</td>\n",
              "      <td>1</td>\n",
              "      <td>1</td>\n",
              "      <td>4</td>\n",
              "    </tr>\n",
              "  </tbody>\n",
              "</table>\n",
              "</div>"
            ],
            "text/plain": [
              "             datetime  season  holiday  ...  count  month  hour\n",
              "0 2011-01-01 00:00:00       1        0  ...     16      1     0\n",
              "1 2011-01-01 01:00:00       1        0  ...     40      1     1\n",
              "2 2011-01-01 02:00:00       1        0  ...     32      1     2\n",
              "3 2011-01-01 03:00:00       1        0  ...     13      1     3\n",
              "4 2011-01-01 04:00:00       1        0  ...      1      1     4\n",
              "\n",
              "[5 rows x 14 columns]"
            ]
          },
          "metadata": {
            "tags": []
          },
          "execution_count": 19
        }
      ]
    },
    {
      "cell_type": "markdown",
      "metadata": {
        "id": "xXgCHjprXKQZ",
        "colab_type": "text"
      },
      "source": [
        "#### Train and hold out test"
      ]
    },
    {
      "cell_type": "code",
      "metadata": {
        "id": "plpxBRSSXKQZ",
        "colab_type": "code",
        "colab": {}
      },
      "source": [
        "train_data = raw_data.iloc[:-1000, :]\n",
        "hold_out_test_data = raw_data.iloc[-1000:, :]"
      ],
      "execution_count": 0,
      "outputs": []
    },
    {
      "cell_type": "code",
      "metadata": {
        "id": "LxHBZoZzXKQc",
        "colab_type": "code",
        "outputId": "94c8d54e-5893-49d1-ec26-c87ee47db2a8",
        "colab": {
          "base_uri": "https://localhost:8080/",
          "height": 34
        }
      },
      "source": [
        "print raw_data.shape, train_data.shape, hold_out_test_data.shape"
      ],
      "execution_count": 0,
      "outputs": [
        {
          "output_type": "stream",
          "text": [
            "(10886, 14) (9886, 14) (1000, 14)\n"
          ],
          "name": "stdout"
        }
      ]
    },
    {
      "cell_type": "code",
      "metadata": {
        "id": "LGfWEqC3XKQe",
        "colab_type": "code",
        "outputId": "956e87a7-0cb7-41dd-e22f-dfae18d4ea44",
        "colab": {
          "base_uri": "https://localhost:8080/",
          "height": 51
        }
      },
      "source": [
        "print 'train period from {} to {}'.format(train_data.datetime.min(), train_data.datetime.max())\n",
        "print 'evaluation period from {} to {}'.format(hold_out_test_data.datetime.min(), hold_out_test_data.datetime.max())"
      ],
      "execution_count": 0,
      "outputs": [
        {
          "output_type": "stream",
          "text": [
            "train period from 2011-01-01 00:00:00 to 2012-10-16 06:00:00\n",
            "evaluation period from 2012-10-16 07:00:00 to 2012-12-19 23:00:00\n"
          ],
          "name": "stdout"
        }
      ]
    },
    {
      "cell_type": "markdown",
      "metadata": {
        "id": "jyDAZSwlXKQh",
        "colab_type": "text"
      },
      "source": [
        "#### Drop data column"
      ]
    },
    {
      "cell_type": "code",
      "metadata": {
        "id": "j-UsY7F3XKQi",
        "colab_type": "code",
        "colab": {}
      },
      "source": [
        "#обучение\n",
        "train_labels = train_data['count'].values\n",
        "train_data = train_data.drop(['datetime', 'count'], axis = 1)"
      ],
      "execution_count": 0,
      "outputs": []
    },
    {
      "cell_type": "code",
      "metadata": {
        "id": "9WMJmC3CXKQk",
        "colab_type": "code",
        "colab": {}
      },
      "source": [
        "#тест\n",
        "test_labels = hold_out_test_data['count'].values\n",
        "test_data = hold_out_test_data.drop(['datetime', 'count'], axis = 1)"
      ],
      "execution_count": 0,
      "outputs": []
    },
    {
      "cell_type": "markdown",
      "metadata": {
        "id": "QEtjTDlzXKQm",
        "colab_type": "text"
      },
      "source": [
        "#### Alghorithm on train and test data"
      ]
    },
    {
      "cell_type": "code",
      "metadata": {
        "id": "-EowCAiVXKQn",
        "colab_type": "code",
        "outputId": "87a6d6a5-3f84-4696-cdfb-37b753fb9fa6",
        "colab": {
          "base_uri": "https://localhost:8080/",
          "height": 407
        }
      },
      "source": [
        "pylab.figure(figsize = (16, 6))\n",
        "\n",
        "pylab.subplot(1,2,1)\n",
        "pylab.hist(train_labels)\n",
        "pylab.title('train data')\n",
        "\n",
        "pylab.subplot(1,2,2)\n",
        "pylab.hist(test_labels)\n",
        "pylab.title('test data')"
      ],
      "execution_count": 0,
      "outputs": [
        {
          "output_type": "execute_result",
          "data": {
            "text/plain": [
              "Text(0.5,1,'test data')"
            ]
          },
          "metadata": {
            "tags": []
          },
          "execution_count": 28
        },
        {
          "output_type": "display_data",
          "data": {
            "image/png": "[encoded data removed]",
            "text/plain": [
              "<Figure size 1152x432 with 2 Axes>"
            ]
          },
          "metadata": {
            "tags": []
          }
        }
      ]
    },
    {
      "cell_type": "markdown",
      "metadata": {
        "id": "iQ7myS8QXKQr",
        "colab_type": "text"
      },
      "source": [
        "#### Numeric features"
      ]
    },
    {
      "cell_type": "code",
      "metadata": {
        "id": "UdQWG6b0XKQv",
        "colab_type": "code",
        "colab": {}
      },
      "source": [
        "numeric_columns = ['temp', 'atemp', 'humidity', 'windspeed', 'casual', 'registered', 'month', 'hour']"
      ],
      "execution_count": 0,
      "outputs": []
    },
    {
      "cell_type": "code",
      "metadata": {
        "id": "-sfwrx2bXKQz",
        "colab_type": "code",
        "colab": {}
      },
      "source": [
        "train_data = train_data[numeric_columns]\n",
        "test_data = test_data[numeric_columns]"
      ],
      "execution_count": 0,
      "outputs": []
    },
    {
      "cell_type": "code",
      "metadata": {
        "id": "fdl2IcbsXKQ1",
        "colab_type": "code",
        "outputId": "4961ca30-e9a8-47de-b53a-679bb3dbb6e3",
        "colab": {
          "base_uri": "https://localhost:8080/",
          "height": 204
        }
      },
      "source": [
        "train_data.head()"
      ],
      "execution_count": 0,
      "outputs": [
        {
          "output_type": "execute_result",
          "data": {
            "text/html": [
              "<div>\n",
              "<style scoped>\n",
              "    .dataframe tbody tr th:only-of-type {\n",
              "        vertical-align: middle;\n",
              "    }\n",
              "\n",
              "    .dataframe tbody tr th {\n",
              "        vertical-align: top;\n",
              "    }\n",
              "\n",
              "    .dataframe thead th {\n",
              "        text-align: right;\n",
              "    }\n",
              "</style>\n",
              "<table border=\"1\" class=\"dataframe\">\n",
              "  <thead>\n",
              "    <tr style=\"text-align: right;\">\n",
              "      <th></th>\n",
              "      <th>temp</th>\n",
              "      <th>atemp</th>\n",
              "      <th>humidity</th>\n",
              "      <th>windspeed</th>\n",
              "      <th>casual</th>\n",
              "      <th>registered</th>\n",
              "      <th>month</th>\n",
              "      <th>hour</th>\n",
              "    </tr>\n",
              "  </thead>\n",
              "  <tbody>\n",
              "    <tr>\n",
              "      <th>0</th>\n",
              "      <td>9.84</td>\n",
              "      <td>14.395</td>\n",
              "      <td>81</td>\n",
              "      <td>0.0</td>\n",
              "      <td>3</td>\n",
              "      <td>13</td>\n",
              "      <td>1</td>\n",
              "      <td>0</td>\n",
              "    </tr>\n",
              "    <tr>\n",
              "      <th>1</th>\n",
              "      <td>9.02</td>\n",
              "      <td>13.635</td>\n",
              "      <td>80</td>\n",
              "      <td>0.0</td>\n",
              "      <td>8</td>\n",
              "      <td>32</td>\n",
              "      <td>1</td>\n",
              "      <td>1</td>\n",
              "    </tr>\n",
              "    <tr>\n",
              "      <th>2</th>\n",
              "      <td>9.02</td>\n",
              "      <td>13.635</td>\n",
              "      <td>80</td>\n",
              "      <td>0.0</td>\n",
              "      <td>5</td>\n",
              "      <td>27</td>\n",
              "      <td>1</td>\n",
              "      <td>2</td>\n",
              "    </tr>\n",
              "    <tr>\n",
              "      <th>3</th>\n",
              "      <td>9.84</td>\n",
              "      <td>14.395</td>\n",
              "      <td>75</td>\n",
              "      <td>0.0</td>\n",
              "      <td>3</td>\n",
              "      <td>10</td>\n",
              "      <td>1</td>\n",
              "      <td>3</td>\n",
              "    </tr>\n",
              "    <tr>\n",
              "      <th>4</th>\n",
              "      <td>9.84</td>\n",
              "      <td>14.395</td>\n",
              "      <td>75</td>\n",
              "      <td>0.0</td>\n",
              "      <td>0</td>\n",
              "      <td>1</td>\n",
              "      <td>1</td>\n",
              "      <td>4</td>\n",
              "    </tr>\n",
              "  </tbody>\n",
              "</table>\n",
              "</div>"
            ],
            "text/plain": [
              "   temp   atemp  humidity  windspeed  casual  registered  month  hour\n",
              "0  9.84  14.395        81        0.0       3          13      1     0\n",
              "1  9.02  13.635        80        0.0       8          32      1     1\n",
              "2  9.02  13.635        80        0.0       5          27      1     2\n",
              "3  9.84  14.395        75        0.0       3          10      1     3\n",
              "4  9.84  14.395        75        0.0       0           1      1     4"
            ]
          },
          "metadata": {
            "tags": []
          },
          "execution_count": 32
        }
      ]
    },
    {
      "cell_type": "code",
      "metadata": {
        "id": "49WCIHBoXKQ3",
        "colab_type": "code",
        "outputId": "44a780f3-36e9-45b9-ff71-9903cd06d516",
        "colab": {
          "base_uri": "https://localhost:8080/",
          "height": 204
        }
      },
      "source": [
        "test_data.head()"
      ],
      "execution_count": 0,
      "outputs": [
        {
          "output_type": "execute_result",
          "data": {
            "text/html": [
              "<div>\n",
              "<style scoped>\n",
              "    .dataframe tbody tr th:only-of-type {\n",
              "        vertical-align: middle;\n",
              "    }\n",
              "\n",
              "    .dataframe tbody tr th {\n",
              "        vertical-align: top;\n",
              "    }\n",
              "\n",
              "    .dataframe thead th {\n",
              "        text-align: right;\n",
              "    }\n",
              "</style>\n",
              "<table border=\"1\" class=\"dataframe\">\n",
              "  <thead>\n",
              "    <tr style=\"text-align: right;\">\n",
              "      <th></th>\n",
              "      <th>temp</th>\n",
              "      <th>atemp</th>\n",
              "      <th>humidity</th>\n",
              "      <th>windspeed</th>\n",
              "      <th>casual</th>\n",
              "      <th>registered</th>\n",
              "      <th>month</th>\n",
              "      <th>hour</th>\n",
              "    </tr>\n",
              "  </thead>\n",
              "  <tbody>\n",
              "    <tr>\n",
              "      <th>9886</th>\n",
              "      <td>17.22</td>\n",
              "      <td>21.210</td>\n",
              "      <td>67</td>\n",
              "      <td>6.0032</td>\n",
              "      <td>20</td>\n",
              "      <td>505</td>\n",
              "      <td>10</td>\n",
              "      <td>7</td>\n",
              "    </tr>\n",
              "    <tr>\n",
              "      <th>9887</th>\n",
              "      <td>18.04</td>\n",
              "      <td>21.970</td>\n",
              "      <td>62</td>\n",
              "      <td>0.0000</td>\n",
              "      <td>35</td>\n",
              "      <td>800</td>\n",
              "      <td>10</td>\n",
              "      <td>8</td>\n",
              "    </tr>\n",
              "    <tr>\n",
              "      <th>9888</th>\n",
              "      <td>19.68</td>\n",
              "      <td>23.485</td>\n",
              "      <td>55</td>\n",
              "      <td>16.9979</td>\n",
              "      <td>32</td>\n",
              "      <td>323</td>\n",
              "      <td>10</td>\n",
              "      <td>9</td>\n",
              "    </tr>\n",
              "    <tr>\n",
              "      <th>9889</th>\n",
              "      <td>20.50</td>\n",
              "      <td>24.240</td>\n",
              "      <td>48</td>\n",
              "      <td>19.0012</td>\n",
              "      <td>65</td>\n",
              "      <td>157</td>\n",
              "      <td>10</td>\n",
              "      <td>10</td>\n",
              "    </tr>\n",
              "    <tr>\n",
              "      <th>9890</th>\n",
              "      <td>20.50</td>\n",
              "      <td>24.240</td>\n",
              "      <td>45</td>\n",
              "      <td>27.9993</td>\n",
              "      <td>56</td>\n",
              "      <td>172</td>\n",
              "      <td>10</td>\n",
              "      <td>11</td>\n",
              "    </tr>\n",
              "  </tbody>\n",
              "</table>\n",
              "</div>"
            ],
            "text/plain": [
              "       temp   atemp  humidity  windspeed  casual  registered  month  hour\n",
              "9886  17.22  21.210        67     6.0032      20         505     10     7\n",
              "9887  18.04  21.970        62     0.0000      35         800     10     8\n",
              "9888  19.68  23.485        55    16.9979      32         323     10     9\n",
              "9889  20.50  24.240        48    19.0012      65         157     10    10\n",
              "9890  20.50  24.240        45    27.9993      56         172     10    11"
            ]
          },
          "metadata": {
            "tags": []
          },
          "execution_count": 33
        }
      ]
    },
    {
      "cell_type": "markdown",
      "metadata": {
        "id": "t8lsa553XKQ6",
        "colab_type": "text"
      },
      "source": [
        "### Bad model"
      ]
    },
    {
      "cell_type": "code",
      "metadata": {
        "id": "LYr-78w3XKQ6",
        "colab_type": "code",
        "colab": {}
      },
      "source": [
        "regressor = linear_model.SGDRegressor(random_state = 0)"
      ],
      "execution_count": 0,
      "outputs": []
    },
    {
      "cell_type": "code",
      "metadata": {
        "id": "CrPYqUUxXKQ8",
        "colab_type": "code",
        "colab": {}
      },
      "source": [
        "regressor.fit(train_data, train_labels)\n",
        "metrics.mean_absolute_error(test_labels, regressor.predict(test_data))"
      ],
      "execution_count": 0,
      "outputs": []
    },
    {
      "cell_type": "code",
      "metadata": {
        "id": "hYfmDtMpXKQ-",
        "colab_type": "code",
        "outputId": "6b270da2-d2fd-4154-8a15-54e52c671896",
        "colab": {
          "base_uri": "https://localhost:8080/",
          "height": 34
        }
      },
      "source": [
        "print test_labels[:10]"
      ],
      "execution_count": 0,
      "outputs": [
        {
          "output_type": "stream",
          "text": [
            "[525 835 355 222 228 325 328 308 346 446]\n"
          ],
          "name": "stdout"
        }
      ]
    },
    {
      "cell_type": "code",
      "metadata": {
        "id": "BZwJHHC7XKQ_",
        "colab_type": "code",
        "outputId": "3bfa3043-e69f-4adf-847f-587d7a4fa37f",
        "colab": {
          "base_uri": "https://localhost:8080/",
          "height": 68
        }
      },
      "source": [
        "print regressor.predict(test_data)[:10]"
      ],
      "execution_count": 0,
      "outputs": [
        {
          "output_type": "stream",
          "text": [
            "[8.78217183e+13 1.35599874e+14 5.36003573e+13 1.97358521e+13\n",
            " 2.27343721e+13 3.54305149e+13 3.64421304e+13 2.43694858e+13\n",
            " 3.63676921e+13 5.23707167e+13]\n"
          ],
          "name": "stdout"
        }
      ]
    },
    {
      "cell_type": "code",
      "metadata": {
        "id": "ht4TqQOZXKRB",
        "colab_type": "code",
        "outputId": "b00be990-2a77-4133-f445-87985b26337b",
        "colab": {
          "base_uri": "https://localhost:8080/",
          "height": 51
        }
      },
      "source": [
        "regressor.coef_"
      ],
      "execution_count": 0,
      "outputs": [
        {
          "output_type": "execute_result",
          "data": {
            "text/plain": [
              "array([ 6.14437479e+10,  4.42635068e+10,  7.00770010e+10, -7.59442428e+10,\n",
              "       -1.55632061e+11,  1.69398831e+11, -5.26868159e+10, -4.95660366e+10])"
            ]
          },
          "metadata": {
            "tags": []
          },
          "execution_count": 38
        }
      ]
    },
    {
      "cell_type": "markdown",
      "metadata": {
        "id": "ZYllLwUukCdr",
        "colab_type": "text"
      },
      "source": [
        "That's why we need feature scaling"
      ]
    },
    {
      "cell_type": "markdown",
      "metadata": {
        "collapsed": true,
        "id": "Klz9e9hvXKRD",
        "colab_type": "text"
      },
      "source": [
        "### Scaling"
      ]
    },
    {
      "cell_type": "code",
      "metadata": {
        "id": "_stPTyDGXKRD",
        "colab_type": "code",
        "colab": {}
      },
      "source": [
        "from sklearn.preprocessing import StandardScaler"
      ],
      "execution_count": 0,
      "outputs": []
    },
    {
      "cell_type": "code",
      "metadata": {
        "id": "-QZ6GsbYXKRG",
        "colab_type": "code",
        "colab": {}
      },
      "source": [
        "scaler = StandardScaler()\n",
        "scaler.fit(train_data, train_labels)\n",
        "scaled_train_data = scaler.transform(train_data)\n",
        "scaled_test_data = scaler.transform(test_data)"
      ],
      "execution_count": 0,
      "outputs": []
    },
    {
      "cell_type": "code",
      "metadata": {
        "id": "xCIiW-UjXKRJ",
        "colab_type": "code",
        "outputId": "45cdccff-98e8-4e8e-a699-cc827449f7a8",
        "colab": {
          "base_uri": "https://localhost:8080/",
          "height": 34
        }
      },
      "source": [
        "regressor.fit(scaled_train_data, train_labels)\n",
        "metrics.mean_absolute_error(test_labels, regressor.predict(scaled_test_data))"
      ],
      "execution_count": 0,
      "outputs": [
        {
          "output_type": "execute_result",
          "data": {
            "text/plain": [
              "0.11793762963431409"
            ]
          },
          "metadata": {
            "tags": []
          },
          "execution_count": 41
        }
      ]
    },
    {
      "cell_type": "code",
      "metadata": {
        "id": "3NYjSmKyXKRN",
        "colab_type": "code",
        "outputId": "727122f4-ffb8-404a-d9ad-e7a1280290df",
        "colab": {
          "base_uri": "https://localhost:8080/",
          "height": 34
        }
      },
      "source": [
        "print test_labels[:10]"
      ],
      "execution_count": 0,
      "outputs": [
        {
          "output_type": "stream",
          "text": [
            "[525 835 355 222 228 325 328 308 346 446]\n"
          ],
          "name": "stdout"
        }
      ]
    },
    {
      "cell_type": "code",
      "metadata": {
        "id": "3VyR8_2fXKRQ",
        "colab_type": "code",
        "outputId": "34dbf3b6-c223-4526-c866-6ed339b81335",
        "colab": {
          "base_uri": "https://localhost:8080/",
          "height": 51
        }
      },
      "source": [
        "print regressor.predict(scaled_test_data)[:10]"
      ],
      "execution_count": 0,
      "outputs": [
        {
          "output_type": "stream",
          "text": [
            "[524.82767322 834.83176277 354.85768824 221.89221002 227.84049612\n",
            " 324.88196372 327.8982227  307.9347954  345.90146969 445.90141764]\n"
          ],
          "name": "stdout"
        }
      ]
    },
    {
      "cell_type": "markdown",
      "metadata": {
        "id": "koh6_Um0kKKr",
        "colab_type": "text"
      },
      "source": [
        "Now it's too good to be true"
      ]
    },
    {
      "cell_type": "markdown",
      "metadata": {
        "id": "wMukZTN2XKRS",
        "colab_type": "text"
      },
      "source": [
        "### Why?"
      ]
    },
    {
      "cell_type": "code",
      "metadata": {
        "id": "fWAghb7wXKRT",
        "colab_type": "code",
        "outputId": "0dfdb728-e7c0-4afa-f762-8cfeca7c0a07",
        "colab": {
          "base_uri": "https://localhost:8080/",
          "height": 51
        }
      },
      "source": [
        "print regressor.coef_"
      ],
      "execution_count": 0,
      "outputs": [
        {
          "output_type": "stream",
          "text": [
            "[ 1.41019246e+00 -1.40725539e+00  1.45346928e-02 -4.38984175e-02\n",
            "  5.08589954e+01  1.48004811e+02 -8.23376876e-03  6.37720415e-03]\n"
          ],
          "name": "stdout"
        }
      ]
    },
    {
      "cell_type": "code",
      "metadata": {
        "id": "srsLXI18XKRV",
        "colab_type": "code",
        "outputId": "0d93009e-8162-48b2-c37b-7b3170fa8fb8",
        "colab": {
          "base_uri": "https://localhost:8080/",
          "height": 34
        }
      },
      "source": [
        "print map(lambda x : round(x, 2), regressor.coef_)"
      ],
      "execution_count": 0,
      "outputs": [
        {
          "output_type": "stream",
          "text": [
            "[1.41, -1.41, 0.01, -0.04, 50.86, 148.0, -0.01, 0.01]\n"
          ],
          "name": "stdout"
        }
      ]
    },
    {
      "cell_type": "code",
      "metadata": {
        "id": "CWodUJ-fXKRW",
        "colab_type": "code",
        "outputId": "3f40cea8-363d-4793-a666-c7605543d6ab",
        "colab": {
          "base_uri": "https://localhost:8080/",
          "height": 204
        }
      },
      "source": [
        "train_data.head()"
      ],
      "execution_count": 0,
      "outputs": [
        {
          "output_type": "execute_result",
          "data": {
            "text/html": [
              "<div>\n",
              "<style scoped>\n",
              "    .dataframe tbody tr th:only-of-type {\n",
              "        vertical-align: middle;\n",
              "    }\n",
              "\n",
              "    .dataframe tbody tr th {\n",
              "        vertical-align: top;\n",
              "    }\n",
              "\n",
              "    .dataframe thead th {\n",
              "        text-align: right;\n",
              "    }\n",
              "</style>\n",
              "<table border=\"1\" class=\"dataframe\">\n",
              "  <thead>\n",
              "    <tr style=\"text-align: right;\">\n",
              "      <th></th>\n",
              "      <th>temp</th>\n",
              "      <th>atemp</th>\n",
              "      <th>humidity</th>\n",
              "      <th>windspeed</th>\n",
              "      <th>casual</th>\n",
              "      <th>registered</th>\n",
              "      <th>month</th>\n",
              "      <th>hour</th>\n",
              "    </tr>\n",
              "  </thead>\n",
              "  <tbody>\n",
              "    <tr>\n",
              "      <th>0</th>\n",
              "      <td>9.84</td>\n",
              "      <td>14.395</td>\n",
              "      <td>81</td>\n",
              "      <td>0.0</td>\n",
              "      <td>3</td>\n",
              "      <td>13</td>\n",
              "      <td>1</td>\n",
              "      <td>0</td>\n",
              "    </tr>\n",
              "    <tr>\n",
              "      <th>1</th>\n",
              "      <td>9.02</td>\n",
              "      <td>13.635</td>\n",
              "      <td>80</td>\n",
              "      <td>0.0</td>\n",
              "      <td>8</td>\n",
              "      <td>32</td>\n",
              "      <td>1</td>\n",
              "      <td>1</td>\n",
              "    </tr>\n",
              "    <tr>\n",
              "      <th>2</th>\n",
              "      <td>9.02</td>\n",
              "      <td>13.635</td>\n",
              "      <td>80</td>\n",
              "      <td>0.0</td>\n",
              "      <td>5</td>\n",
              "      <td>27</td>\n",
              "      <td>1</td>\n",
              "      <td>2</td>\n",
              "    </tr>\n",
              "    <tr>\n",
              "      <th>3</th>\n",
              "      <td>9.84</td>\n",
              "      <td>14.395</td>\n",
              "      <td>75</td>\n",
              "      <td>0.0</td>\n",
              "      <td>3</td>\n",
              "      <td>10</td>\n",
              "      <td>1</td>\n",
              "      <td>3</td>\n",
              "    </tr>\n",
              "    <tr>\n",
              "      <th>4</th>\n",
              "      <td>9.84</td>\n",
              "      <td>14.395</td>\n",
              "      <td>75</td>\n",
              "      <td>0.0</td>\n",
              "      <td>0</td>\n",
              "      <td>1</td>\n",
              "      <td>1</td>\n",
              "      <td>4</td>\n",
              "    </tr>\n",
              "  </tbody>\n",
              "</table>\n",
              "</div>"
            ],
            "text/plain": [
              "   temp   atemp  humidity  windspeed  casual  registered  month  hour\n",
              "0  9.84  14.395        81        0.0       3          13      1     0\n",
              "1  9.02  13.635        80        0.0       8          32      1     1\n",
              "2  9.02  13.635        80        0.0       5          27      1     2\n",
              "3  9.84  14.395        75        0.0       3          10      1     3\n",
              "4  9.84  14.395        75        0.0       0           1      1     4"
            ]
          },
          "metadata": {
            "tags": []
          },
          "execution_count": 46
        }
      ]
    },
    {
      "cell_type": "code",
      "metadata": {
        "id": "kdfpRTAWXKRY",
        "colab_type": "code",
        "outputId": "35d7304f-8163-49c1-cd52-cd18a9ef7b8d",
        "colab": {
          "base_uri": "https://localhost:8080/",
          "height": 34
        }
      },
      "source": [
        "train_labels[:10]"
      ],
      "execution_count": 0,
      "outputs": [
        {
          "output_type": "execute_result",
          "data": {
            "text/plain": [
              "array([16, 40, 32, 13,  1,  1,  2,  3,  8, 14])"
            ]
          },
          "metadata": {
            "tags": []
          },
          "execution_count": 47
        }
      ]
    },
    {
      "cell_type": "code",
      "metadata": {
        "id": "yuTXUwzuXKRZ",
        "colab_type": "code",
        "outputId": "9306fe02-2890-4df7-e50a-0a5dd508fdbe",
        "colab": {
          "base_uri": "https://localhost:8080/",
          "height": 34
        }
      },
      "source": [
        "np.all(train_data.registered + train_data.casual == train_labels)"
      ],
      "execution_count": 0,
      "outputs": [
        {
          "output_type": "execute_result",
          "data": {
            "text/plain": [
              "True"
            ]
          },
          "metadata": {
            "tags": []
          },
          "execution_count": 48
        }
      ]
    },
    {
      "cell_type": "markdown",
      "metadata": {
        "id": "vGclt4uQkSME",
        "colab_type": "text"
      },
      "source": [
        "That's the problem - we found features that 100% correct predicts our function. Let's drop them and move forward."
      ]
    },
    {
      "cell_type": "code",
      "metadata": {
        "id": "Xlqq65fBXKRb",
        "colab_type": "code",
        "colab": {}
      },
      "source": [
        "train_data.drop(['casual', 'registered'], axis = 1, inplace = True)\n",
        "test_data.drop(['casual', 'registered'], axis = 1, inplace = True)"
      ],
      "execution_count": 0,
      "outputs": []
    },
    {
      "cell_type": "code",
      "metadata": {
        "id": "nuEcL7sMXKRd",
        "colab_type": "code",
        "colab": {}
      },
      "source": [
        "scaler.fit(train_data, train_labels)\n",
        "scaled_train_data = scaler.transform(train_data)\n",
        "scaled_test_data = scaler.transform(test_data)"
      ],
      "execution_count": 0,
      "outputs": []
    },
    {
      "cell_type": "code",
      "metadata": {
        "id": "OkaRvPodXKRg",
        "colab_type": "code",
        "outputId": "63f09721-137a-4dfe-ee59-97b94ee1f0aa",
        "colab": {
          "base_uri": "https://localhost:8080/",
          "height": 34
        }
      },
      "source": [
        "regressor.fit(scaled_train_data, train_labels)\n",
        "metrics.mean_absolute_error(test_labels, regressor.predict(scaled_test_data))"
      ],
      "execution_count": 0,
      "outputs": [
        {
          "output_type": "execute_result",
          "data": {
            "text/plain": [
              "121.81123864993025"
            ]
          },
          "metadata": {
            "tags": []
          },
          "execution_count": 51
        }
      ]
    },
    {
      "cell_type": "code",
      "metadata": {
        "id": "A-EUDjW6XKRi",
        "colab_type": "code",
        "outputId": "b326c0d8-661d-47aa-8016-219d240d25d8",
        "colab": {
          "base_uri": "https://localhost:8080/",
          "height": 34
        }
      },
      "source": [
        "print map(lambda x : round(x, 2), regressor.coef_)"
      ],
      "execution_count": 0,
      "outputs": [
        {
          "output_type": "stream",
          "text": [
            "[31.03, 29.96, -41.93, 6.17, 14.08, 49.6]\n"
          ],
          "name": "stdout"
        }
      ]
    },
    {
      "cell_type": "markdown",
      "metadata": {
        "id": "A_z2oXTxk5Jr",
        "colab_type": "text"
      },
      "source": [
        "Now we are ready to go!"
      ]
    },
    {
      "cell_type": "markdown",
      "metadata": {
        "id": "SxEvq--YXKRl",
        "colab_type": "text"
      },
      "source": [
        "### Pipeline"
      ]
    },
    {
      "cell_type": "code",
      "metadata": {
        "id": "78jbNOhqXKRo",
        "colab_type": "code",
        "colab": {}
      },
      "source": [
        "from sklearn.pipeline import Pipeline"
      ],
      "execution_count": 0,
      "outputs": []
    },
    {
      "cell_type": "markdown",
      "metadata": {
        "id": "6Anb9IWdlJmW",
        "colab_type": "text"
      },
      "source": [
        "Adding scaling for every step. "
      ]
    },
    {
      "cell_type": "code",
      "metadata": {
        "id": "Y93zgm_fXKRr",
        "colab_type": "code",
        "colab": {}
      },
      "source": [
        "pipeline = Pipeline(steps = [('scaling', scaler), ('regression', regressor)])"
      ],
      "execution_count": 0,
      "outputs": []
    },
    {
      "cell_type": "code",
      "metadata": {
        "id": "gzY6Sr00XKRv",
        "colab_type": "code",
        "colab": {}
      },
      "source": [
        "pipeline.fit(train_data, train_labels)\n",
        "metrics.mean_absolute_error(test_labels, pipeline.predict(test_data))"
      ],
      "execution_count": 0,
      "outputs": []
    },
    {
      "cell_type": "markdown",
      "metadata": {
        "id": "s0aePIyeXKRy",
        "colab_type": "text"
      },
      "source": [
        "### Best params search"
      ]
    },
    {
      "cell_type": "code",
      "metadata": {
        "id": "o8ICmrVQXKRz",
        "colab_type": "code",
        "colab": {}
      },
      "source": [
        "pipeline.get_params().keys()"
      ],
      "execution_count": 0,
      "outputs": []
    },
    {
      "cell_type": "code",
      "metadata": {
        "id": "ULGnSTS5XKR2",
        "colab_type": "code",
        "colab": {}
      },
      "source": [
        "parameters_grid = {\n",
        "    'regression__loss' : ['huber', 'epsilon_insensitive', 'squared_loss', ],\n",
        "    'regression__n_iter' : [3, 5, 10, 50], \n",
        "    'regression__penalty' : ['l1', 'l2', 'none'],\n",
        "    'regression__alpha' : [0.0001, 0.01],\n",
        "    'scaling__with_mean' : [0., 0.5],\n",
        "}"
      ],
      "execution_count": 0,
      "outputs": []
    },
    {
      "cell_type": "code",
      "metadata": {
        "id": "49dQ0cb3XKR4",
        "colab_type": "code",
        "colab": {}
      },
      "source": [
        "grid_cv = GridSearchCV(pipeline, parameters_grid, scoring = 'neg_mean_absolute_error', cv = 4)"
      ],
      "execution_count": 0,
      "outputs": []
    },
    {
      "cell_type": "code",
      "metadata": {
        "scrolled": true,
        "id": "9ryDHRYcXKR6",
        "colab_type": "code",
        "colab": {}
      },
      "source": [
        "%%time\n",
        "grid_cv.fit(train_data, train_labels)"
      ],
      "execution_count": 0,
      "outputs": []
    },
    {
      "cell_type": "code",
      "metadata": {
        "id": "IxlA4wwRXKR8",
        "colab_type": "code",
        "outputId": "9d163e3a-b4a0-4223-b081-178b52c24184",
        "colab": {
          "base_uri": "https://localhost:8080/",
          "height": 51
        }
      },
      "source": [
        "print grid_cv.best_score_\n",
        "print grid_cv.best_params_"
      ],
      "execution_count": 0,
      "outputs": [
        {
          "output_type": "stream",
          "text": [
            "-108.61449660348289\n",
            "{'regression__n_iter': 3, 'regression__loss': 'squared_loss', 'scaling__with_mean': 0.0, 'regression__alpha': 0.01, 'regression__penalty': 'l2'}\n"
          ],
          "name": "stdout"
        }
      ]
    },
    {
      "cell_type": "markdown",
      "metadata": {
        "id": "YljgPYloXKR-",
        "colab_type": "text"
      },
      "source": [
        "### Predictions on test data"
      ]
    },
    {
      "cell_type": "code",
      "metadata": {
        "id": "yM2vMeqaXKR_",
        "colab_type": "code",
        "outputId": "2514e428-01f6-4565-c720-18a21534e421",
        "colab": {
          "base_uri": "https://localhost:8080/",
          "height": 34
        }
      },
      "source": [
        "metrics.mean_absolute_error(test_labels, grid_cv.best_estimator_.predict(test_data))"
      ],
      "execution_count": 0,
      "outputs": [
        {
          "output_type": "execute_result",
          "data": {
            "text/plain": [
              "119.98978845935379"
            ]
          },
          "metadata": {
            "tags": []
          },
          "execution_count": 66
        }
      ]
    },
    {
      "cell_type": "code",
      "metadata": {
        "id": "EPdOcr99XKSB",
        "colab_type": "code",
        "outputId": "67202c1c-520d-4071-b44c-db22ad3fedfb",
        "colab": {
          "base_uri": "https://localhost:8080/",
          "height": 34
        }
      },
      "source": [
        "np.mean(test_labels)"
      ],
      "execution_count": 0,
      "outputs": [
        {
          "output_type": "execute_result",
          "data": {
            "text/plain": [
              "232.159"
            ]
          },
          "metadata": {
            "tags": []
          },
          "execution_count": 67
        }
      ]
    },
    {
      "cell_type": "code",
      "metadata": {
        "id": "4vCoujYsXKSF",
        "colab_type": "code",
        "colab": {}
      },
      "source": [
        "test_predictions = grid_cv.best_estimator_.predict(test_data)"
      ],
      "execution_count": 0,
      "outputs": []
    },
    {
      "cell_type": "code",
      "metadata": {
        "id": "vihWlb9rXKSI",
        "colab_type": "code",
        "outputId": "9194171e-8787-4f4a-e930-58e87e60883c",
        "colab": {
          "base_uri": "https://localhost:8080/",
          "height": 34
        }
      },
      "source": [
        "print test_labels[:10]"
      ],
      "execution_count": 0,
      "outputs": [
        {
          "output_type": "stream",
          "text": [
            "[525 835 355 222 228 325 328 308 346 446]\n"
          ],
          "name": "stdout"
        }
      ]
    },
    {
      "cell_type": "code",
      "metadata": {
        "id": "Or0JBsUIXKSL",
        "colab_type": "code",
        "outputId": "6faa88ab-98fd-41f1-fd2f-dd8f75917699",
        "colab": {
          "base_uri": "https://localhost:8080/",
          "height": 51
        }
      },
      "source": [
        "print test_predictions[:10]"
      ],
      "execution_count": 0,
      "outputs": [
        {
          "output_type": "stream",
          "text": [
            "[139.60470681 159.80765341 207.55935972 237.76288054 257.83836668\n",
            " 267.44558034 272.49537469 297.70688522 304.29818873 313.58821156]\n"
          ],
          "name": "stdout"
        }
      ]
    },
    {
      "cell_type": "code",
      "metadata": {
        "id": "9NuWXoiGXKSN",
        "colab_type": "code",
        "outputId": "347ed590-8e50-47a9-d510-2e2ddec75101",
        "colab": {
          "base_uri": "https://localhost:8080/",
          "height": 407
        }
      },
      "source": [
        "pylab.figure(figsize=(16, 6))\n",
        "\n",
        "pylab.subplot(1,2,1)\n",
        "pylab.grid(True)\n",
        "pylab.scatter(train_labels, pipeline.predict(train_data), alpha=0.5, color = 'red')\n",
        "pylab.scatter(test_labels, pipeline.predict(test_data), alpha=0.5, color = 'blue')\n",
        "pylab.title('no parameters setting')\n",
        "pylab.xlim(-100,1100)\n",
        "pylab.ylim(-100,1100)\n",
        "\n",
        "pylab.subplot(1,2,2)\n",
        "pylab.grid(True)\n",
        "pylab.scatter(train_labels, grid_cv.best_estimator_.predict(train_data), alpha=0.5, color = 'red')\n",
        "pylab.scatter(test_labels, grid_cv.best_estimator_.predict(test_data), alpha=0.5, color = 'blue')\n",
        "pylab.title('grid search')\n",
        "pylab.xlim(-100,1100)\n",
        "pylab.ylim(-100,1100)"
      ],
      "execution_count": 0,
      "outputs": [
        {
          "output_type": "execute_result",
          "data": {
            "text/plain": [
              "(-100, 1100)"
            ]
          },
          "metadata": {
            "tags": []
          },
          "execution_count": 71
        },
        {
          "output_type": "display_data",
          "data": {
            "image/png": "[encoded data removed]",
            "text/plain": [
              "<Figure size 1152x432 with 2 Axes>"
            ]
          },
          "metadata": {
            "tags": []
          }
        }
      ]
    },
    {
      "cell_type": "markdown",
      "metadata": {
        "id": "A_Ax-OA_m3BU",
        "colab_type": "text"
      },
      "source": [
        "As we see, the model is not good enough. We will work further on it in the next lesson."
      ]
    }
  ]
}